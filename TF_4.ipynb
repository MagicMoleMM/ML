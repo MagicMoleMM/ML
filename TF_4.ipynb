{
  "nbformat": 4,
  "nbformat_minor": 0,
  "metadata": {
    "colab": {
      "provenance": [],
      "authorship_tag": "ABX9TyPH4QgIjvm/0SPThFymGPpC",
      "include_colab_link": true
    },
    "kernelspec": {
      "name": "python3",
      "display_name": "Python 3"
    },
    "language_info": {
      "name": "python"
    }
  },
  "cells": [
    {
      "cell_type": "markdown",
      "metadata": {
        "id": "view-in-github",
        "colab_type": "text"
      },
      "source": [
        "<a href=\"https://colab.research.google.com/github/MagicMoleMM/ML/blob/main/TF_4.ipynb\" target=\"_parent\"><img src=\"https://colab.research.google.com/assets/colab-badge.svg\" alt=\"Open In Colab\"/></a>"
      ]
    },
    {
      "cell_type": "code",
      "execution_count": 3,
      "metadata": {
        "id": "3pUFBrWFYwfF"
      },
      "outputs": [],
      "source": [
        "import tensorflow as tf\n",
        "import numpy as np\n",
        "from tensorflow.python.keras.layers import Conv2D"
      ]
    },
    {
      "cell_type": "code",
      "source": [
        "signal = np.array([[3,3,2,1,0],\n",
        "                   [0,0,1,3,1],\n",
        "                   [3,1,2,2,3],\n",
        "                   [2,0,0,2,2],\n",
        "                   [2,0,0,0,1]])\n",
        "\n",
        "conv_layer = Conv2D(kernel_size=(3,3), filters=1, use_bias=False)\n"
      ],
      "metadata": {
        "id": "bEIxfn-RZxkq"
      },
      "execution_count": 6,
      "outputs": []
    },
    {
      "cell_type": "code",
      "source": [
        "signal = signal.reshape(1,5,5,1).astype(np.float32)\n",
        "signal.shape"
      ],
      "metadata": {
        "colab": {
          "base_uri": "https://localhost:8080/"
        },
        "id": "DtBQZ50PdJ5Z",
        "outputId": "b7112b4e-9a82-4993-c502-1661d18b1dfa"
      },
      "execution_count": 8,
      "outputs": [
        {
          "output_type": "execute_result",
          "data": {
            "text/plain": [
              "(1, 5, 5, 1)"
            ]
          },
          "metadata": {},
          "execution_count": 8
        }
      ]
    },
    {
      "cell_type": "code",
      "source": [
        "output = conv_layer(signal)\n",
        "output"
      ],
      "metadata": {
        "colab": {
          "base_uri": "https://localhost:8080/"
        },
        "id": "3HWbsxoqdxPI",
        "outputId": "8ff12b8f-ca99-432b-ca24-8b3c613f420b"
      },
      "execution_count": 9,
      "outputs": [
        {
          "output_type": "execute_result",
          "data": {
            "text/plain": [
              "<tf.Tensor: shape=(1, 3, 3, 1), dtype=float32, numpy=\n",
              "array([[[[-0.9491613 ],\n",
              "         [ 0.16412461],\n",
              "         [ 0.45846105]],\n",
              "\n",
              "        [[-1.4079695 ],\n",
              "         [-0.05528331],\n",
              "         [ 1.2055368 ]],\n",
              "\n",
              "        [[-2.047749  ],\n",
              "         [-0.48865646],\n",
              "         [-0.6425277 ]]]], dtype=float32)>"
            ]
          },
          "metadata": {},
          "execution_count": 9
        }
      ]
    },
    {
      "cell_type": "code",
      "source": [
        "conv_layer.get_weights()[0].shape"
      ],
      "metadata": {
        "colab": {
          "base_uri": "https://localhost:8080/"
        },
        "id": "ugt9cePeeIAm",
        "outputId": "0ea3edce-7351-4596-87f4-ccdfb3425a17"
      },
      "execution_count": 11,
      "outputs": [
        {
          "output_type": "execute_result",
          "data": {
            "text/plain": [
              "(3, 3, 1, 1)"
            ]
          },
          "metadata": {},
          "execution_count": 11
        }
      ]
    },
    {
      "cell_type": "code",
      "source": [
        "from tensorflow.python.ops.numpy_ops import float32\n",
        "kernel = np.array([[0,1,2],\n",
        "                   [2,2,0],\n",
        "                   [0,1,2]])\n",
        "kernel = kernel.reshape(3,3,1,1).astype(float32)"
      ],
      "metadata": {
        "id": "EJhTrYZ0eTqK"
      },
      "execution_count": 12,
      "outputs": []
    },
    {
      "cell_type": "code",
      "source": [
        "conv_layer.set_weights([kernel])\n",
        "conv_layer(signal)"
      ],
      "metadata": {
        "colab": {
          "base_uri": "https://localhost:8080/"
        },
        "id": "5CY5574SfB7x",
        "outputId": "09fd0d96-b611-4953-f6b8-8a5df2985a0f"
      },
      "execution_count": 14,
      "outputs": [
        {
          "output_type": "execute_result",
          "data": {
            "text/plain": [
              "<tf.Tensor: shape=(1, 3, 3, 1), dtype=float32, numpy=\n",
              "array([[[[12.],\n",
              "         [12.],\n",
              "         [17.]],\n",
              "\n",
              "        [[10.],\n",
              "         [17.],\n",
              "         [19.]],\n",
              "\n",
              "        [[ 9.],\n",
              "         [ 6.],\n",
              "         [14.]]]], dtype=float32)>"
            ]
          },
          "metadata": {},
          "execution_count": 14
        }
      ]
    }
  ]
}