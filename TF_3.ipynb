{
  "nbformat": 4,
  "nbformat_minor": 0,
  "metadata": {
    "colab": {
      "provenance": [],
      "authorship_tag": "ABX9TyMAT+246isYyul+PzQh18v2",
      "include_colab_link": true
    },
    "kernelspec": {
      "name": "python3",
      "display_name": "Python 3"
    },
    "language_info": {
      "name": "python"
    }
  },
  "cells": [
    {
      "cell_type": "markdown",
      "metadata": {
        "id": "view-in-github",
        "colab_type": "text"
      },
      "source": [
        "<a href=\"https://colab.research.google.com/github/MagicMoleMM/ML/blob/main/TF_3.ipynb\" target=\"_parent\"><img src=\"https://colab.research.google.com/assets/colab-badge.svg\" alt=\"Open In Colab\"/></a>"
      ]
    },
    {
      "cell_type": "code",
      "execution_count": 42,
      "metadata": {
        "colab": {
          "base_uri": "https://localhost:8080/"
        },
        "id": "Y9DJOH_CFnHr",
        "outputId": "87f0e0ef-54b4-4017-869e-306b6b784add"
      },
      "outputs": [
        {
          "output_type": "stream",
          "name": "stdout",
          "text": [
            "2.9.2\n"
          ]
        }
      ],
      "source": [
        "import tensorflow as tf\n",
        "print(tf.__version__)"
      ]
    },
    {
      "cell_type": "code",
      "source": [
        "a = tf.Variable(10.)\n",
        "b = tf.Variable(20.)"
      ],
      "metadata": {
        "id": "Uvb4NnoeGYWy"
      },
      "execution_count": 6,
      "outputs": []
    },
    {
      "cell_type": "code",
      "source": [
        "print(a*b)"
      ],
      "metadata": {
        "colab": {
          "base_uri": "https://localhost:8080/"
        },
        "id": "aZgcnFi5GgvJ",
        "outputId": "667bdb1f-9818-4a54-fce7-bf42321e3f92"
      },
      "execution_count": 7,
      "outputs": [
        {
          "output_type": "stream",
          "name": "stdout",
          "text": [
            "tf.Tensor(200.0, shape=(), dtype=float32)\n"
          ]
        }
      ]
    },
    {
      "cell_type": "code",
      "source": [
        "print(a+b)"
      ],
      "metadata": {
        "colab": {
          "base_uri": "https://localhost:8080/"
        },
        "id": "Xooe_ppBG0Ew",
        "outputId": "ed78542a-92c8-45d7-b192-981acbd6f5e9"
      },
      "execution_count": 8,
      "outputs": [
        {
          "output_type": "stream",
          "name": "stdout",
          "text": [
            "tf.Tensor(30.0, shape=(), dtype=float32)\n"
          ]
        }
      ]
    },
    {
      "cell_type": "code",
      "source": [
        "print(tf.exp(a))"
      ],
      "metadata": {
        "colab": {
          "base_uri": "https://localhost:8080/"
        },
        "id": "OnlYJQw9G7OM",
        "outputId": "778809ea-6a9d-40ad-dc88-b961cbec59b9"
      },
      "execution_count": 9,
      "outputs": [
        {
          "output_type": "stream",
          "name": "stdout",
          "text": [
            "tf.Tensor(22026.465, shape=(), dtype=float32)\n"
          ]
        }
      ]
    },
    {
      "cell_type": "code",
      "source": [
        "model = tf.keras.Model()\n"
      ],
      "metadata": {
        "id": "M3B4b5sdJg5K"
      },
      "execution_count": 11,
      "outputs": []
    },
    {
      "cell_type": "code",
      "source": [
        "from tensorflow.python.keras.layers import Dense, Input, Add\n",
        "from tensorflow.python.keras import Model\n",
        "import numpy as np\n"
      ],
      "metadata": {
        "id": "eZXqZAjKJp9C"
      },
      "execution_count": 50,
      "outputs": []
    },
    {
      "cell_type": "code",
      "source": [
        "x = np.ones((4,3)) \n",
        "dense_layer = Dense(units=2, input_shape=(3,))\n",
        "output = dense_layer(x)\n",
        "print(f'Output: {output}')"
      ],
      "metadata": {
        "colab": {
          "base_uri": "https://localhost:8080/"
        },
        "id": "mwaYhCiiMBam",
        "outputId": "f57e9d8e-e2bc-4ff7-86b5-b1060a4bfe7d"
      },
      "execution_count": 3,
      "outputs": [
        {
          "output_type": "stream",
          "name": "stdout",
          "text": [
            "Output: [[-0.80755866 -1.4823577 ]\n",
            " [-0.80755866 -1.4823577 ]\n",
            " [-0.80755866 -1.4823577 ]\n",
            " [-0.80755866 -1.4823577 ]]\n"
          ]
        }
      ]
    },
    {
      "cell_type": "code",
      "source": [
        "w, b = dense_layer.get_weights()\n",
        "\n",
        "print(f'Weights: {w}\\nBias: {b}')"
      ],
      "metadata": {
        "colab": {
          "base_uri": "https://localhost:8080/"
        },
        "id": "iJKk9P3XNwR6",
        "outputId": "1a674dd4-bec5-4792-d03f-df47b1aea6b7"
      },
      "execution_count": 4,
      "outputs": [
        {
          "output_type": "stream",
          "name": "stdout",
          "text": [
            "Weights: [[-0.63488305  0.33295906]\n",
            " [-0.8693028  -0.81114554]\n",
            " [ 0.69662726 -1.0041713 ]]\n",
            "Bias: [0. 0.]\n"
          ]
        }
      ]
    },
    {
      "cell_type": "code",
      "source": [
        "manual_output = np.matmul(x,w) + b\n",
        "print(f'Manual output - {manual_output}')"
      ],
      "metadata": {
        "colab": {
          "base_uri": "https://localhost:8080/"
        },
        "id": "G6KKi7Ndie_w",
        "outputId": "d365ea42-5d21-430f-8a1c-67a4feeb3098"
      },
      "execution_count": 5,
      "outputs": [
        {
          "output_type": "stream",
          "name": "stdout",
          "text": [
            "Manual output - [[-0.8075586  -1.48235774]\n",
            " [-0.8075586  -1.48235774]\n",
            " [-0.8075586  -1.48235774]\n",
            " [-0.8075586  -1.48235774]]\n"
          ]
        }
      ]
    },
    {
      "cell_type": "markdown",
      "source": [
        "### **Sequential Model**"
      ],
      "metadata": {
        "id": "qEykgsRNkk2K"
      }
    },
    {
      "cell_type": "code",
      "source": [
        "model = tf.keras.Sequential()\n",
        "model.add(Dense(10, input_shape=(10,), activation='relu'))\n",
        "model.add(Dense(20, activation='relu', \n",
        "                bias_initializer=tf.keras.initializers.Constant(2.0)))\n",
        "model.add(Dense(5,activation='softmax'))"
      ],
      "metadata": {
        "id": "w7Rz266ZkX8Z"
      },
      "execution_count": 10,
      "outputs": []
    },
    {
      "cell_type": "code",
      "source": [
        "sample_input = np.random.rand(2,10)\n",
        "output = model(sample_input)\n",
        "output"
      ],
      "metadata": {
        "colab": {
          "base_uri": "https://localhost:8080/"
        },
        "id": "FkZd364Skjk4",
        "outputId": "9faa2a89-f597-40ac-9f26-01cc3b83574b"
      },
      "execution_count": 11,
      "outputs": [
        {
          "output_type": "execute_result",
          "data": {
            "text/plain": [
              "<tf.Tensor: shape=(2, 5), dtype=float32, numpy=\n",
              "array([[1.0651056e-04, 3.4549952e-02, 7.5276124e-01, 9.4370003e-04,\n",
              "        2.1163861e-01],\n",
              "       [9.9897283e-05, 4.4089615e-02, 6.8350369e-01, 1.2898514e-03,\n",
              "        2.7101696e-01]], dtype=float32)>"
            ]
          },
          "metadata": {},
          "execution_count": 11
        }
      ]
    },
    {
      "cell_type": "code",
      "source": [
        "model.layers[1].get_weights()[1]"
      ],
      "metadata": {
        "colab": {
          "base_uri": "https://localhost:8080/"
        },
        "id": "OHP7HeEin7Xc",
        "outputId": "7e7c88cf-bacd-4e35-de43-c640efe55309"
      },
      "execution_count": 12,
      "outputs": [
        {
          "output_type": "execute_result",
          "data": {
            "text/plain": [
              "array([2., 2., 2., 2., 2., 2., 2., 2., 2., 2., 2., 2., 2., 2., 2., 2., 2.,\n",
              "       2., 2., 2.], dtype=float32)"
            ]
          },
          "metadata": {},
          "execution_count": 12
        }
      ]
    },
    {
      "cell_type": "code",
      "source": [
        "model.summary()"
      ],
      "metadata": {
        "colab": {
          "base_uri": "https://localhost:8080/"
        },
        "id": "oo5Ifbq7ofCL",
        "outputId": "1c852d36-da49-4432-8a62-fb296d557d8b"
      },
      "execution_count": 13,
      "outputs": [
        {
          "output_type": "stream",
          "name": "stdout",
          "text": [
            "Model: \"sequential_2\"\n",
            "_________________________________________________________________\n",
            " Layer (type)                Output Shape              Param #   \n",
            "=================================================================\n",
            " module_wrapper_2 (ModuleWra  (2, 10)                  110       \n",
            " pper)                                                           \n",
            "                                                                 \n",
            " module_wrapper_3 (ModuleWra  (2, 20)                  220       \n",
            " pper)                                                           \n",
            "                                                                 \n",
            " module_wrapper_4 (ModuleWra  (2, 5)                   105       \n",
            " pper)                                                           \n",
            "                                                                 \n",
            "=================================================================\n",
            "Total params: 435\n",
            "Trainable params: 435\n",
            "Non-trainable params: 0\n",
            "_________________________________________________________________\n"
          ]
        }
      ]
    },
    {
      "cell_type": "code",
      "source": [
        "model_no_input = tf.keras.Sequential()\n",
        "model_no_input.add(Dense(10, activation='relu'))\n",
        "model_no_input.add(Dense(20, activation='relu'))\n",
        "model_no_input.add(Dense(5,activation='softmax'))\n",
        "\n",
        "model_no_input.summary()"
      ],
      "metadata": {
        "colab": {
          "base_uri": "https://localhost:8080/",
          "height": 364
        },
        "id": "lWArw0pIo56Q",
        "outputId": "1b68a6b4-bbe4-4162-ca63-513c308c2712"
      },
      "execution_count": 14,
      "outputs": [
        {
          "output_type": "error",
          "ename": "ValueError",
          "evalue": "ignored",
          "traceback": [
            "\u001b[0;31m---------------------------------------------------------------------------\u001b[0m",
            "\u001b[0;31mValueError\u001b[0m                                Traceback (most recent call last)",
            "\u001b[0;32m<ipython-input-14-b1bd2f53a16a>\u001b[0m in \u001b[0;36m<module>\u001b[0;34m\u001b[0m\n\u001b[1;32m      4\u001b[0m \u001b[0mmodel_no_input\u001b[0m\u001b[0;34m.\u001b[0m\u001b[0madd\u001b[0m\u001b[0;34m(\u001b[0m\u001b[0mDense\u001b[0m\u001b[0;34m(\u001b[0m\u001b[0;36m5\u001b[0m\u001b[0;34m,\u001b[0m\u001b[0mactivation\u001b[0m\u001b[0;34m=\u001b[0m\u001b[0;34m'softmax'\u001b[0m\u001b[0;34m)\u001b[0m\u001b[0;34m)\u001b[0m\u001b[0;34m\u001b[0m\u001b[0;34m\u001b[0m\u001b[0m\n\u001b[1;32m      5\u001b[0m \u001b[0;34m\u001b[0m\u001b[0m\n\u001b[0;32m----> 6\u001b[0;31m \u001b[0mmodel_no_input\u001b[0m\u001b[0;34m.\u001b[0m\u001b[0msummary\u001b[0m\u001b[0;34m(\u001b[0m\u001b[0;34m)\u001b[0m\u001b[0;34m\u001b[0m\u001b[0;34m\u001b[0m\u001b[0m\n\u001b[0m",
            "\u001b[0;32m/usr/local/lib/python3.8/dist-packages/keras/engine/training.py\u001b[0m in \u001b[0;36msummary\u001b[0;34m(self, line_length, positions, print_fn, expand_nested, show_trainable)\u001b[0m\n\u001b[1;32m   2867\u001b[0m     \"\"\"\n\u001b[1;32m   2868\u001b[0m     \u001b[0;32mif\u001b[0m \u001b[0;32mnot\u001b[0m \u001b[0mself\u001b[0m\u001b[0;34m.\u001b[0m\u001b[0mbuilt\u001b[0m\u001b[0;34m:\u001b[0m\u001b[0;34m\u001b[0m\u001b[0;34m\u001b[0m\u001b[0m\n\u001b[0;32m-> 2869\u001b[0;31m       raise ValueError(\n\u001b[0m\u001b[1;32m   2870\u001b[0m           \u001b[0;34m'This model has not yet been built. '\u001b[0m\u001b[0;34m\u001b[0m\u001b[0;34m\u001b[0m\u001b[0m\n\u001b[1;32m   2871\u001b[0m           \u001b[0;34m'Build the model first by calling `build()` or by calling '\u001b[0m\u001b[0;34m\u001b[0m\u001b[0;34m\u001b[0m\u001b[0m\n",
            "\u001b[0;31mValueError\u001b[0m: This model has not yet been built. Build the model first by calling `build()` or by calling the model on a batch of data."
          ]
        }
      ]
    },
    {
      "cell_type": "code",
      "source": [
        "tf.keras.utils.plot_model(model, show_shapes=True)"
      ],
      "metadata": {
        "colab": {
          "base_uri": "https://localhost:8080/",
          "height": 443
        },
        "id": "696JMUYXpjhk",
        "outputId": "e32f46af-6abb-441e-fe69-77b330cd6386"
      },
      "execution_count": 15,
      "outputs": [
        {
          "output_type": "execute_result",
          "data": {
            "image/png": "[encoded data removed]",
            "text/plain": [
              "<IPython.core.display.Image object>"
            ]
          },
          "metadata": {},
          "execution_count": 15
        }
      ]
    },
    {
      "cell_type": "markdown",
      "source": [
        "## **Functional** **API**"
      ],
      "metadata": {
        "id": "9cFEN3f9sHKa"
      }
    },
    {
      "cell_type": "code",
      "source": [
        "input_layer = Input(shape=(10, ), name='Input')\n",
        "\n",
        "l1_output = Dense(10, name='Layer1')(input_layer)\n",
        "l2_output = Dense(10, name='Layer2')(input_layer)\n",
        "l3_output = Dense(10, name='Layer3')(l2_output)\n",
        "l4_output = Dense(10, name='Layer4')(l3_output)\n",
        "l5_output = Dense(10, name='Layer5')(l2_output)\n",
        "\n",
        "sum_output = Add(name='SumLayer')([l1_output, l4_output, l5_output])\n",
        "output = Dense(10, name='Output')(sum_output)\n",
        "\n",
        "model = Model(inputs=input_layer, outputs=output)\n",
        "tf.keras.utils.plot_model(model, show_shapes=False)"
      ],
      "metadata": {
        "colab": {
          "base_uri": "https://localhost:8080/",
          "height": 585
        },
        "id": "f0BIp2Z1sGmt",
        "outputId": "ec41cd47-d4da-4805-9b17-1d8daaa4c597"
      },
      "execution_count": 51,
      "outputs": [
        {
          "output_type": "execute_result",
          "data": {
            "image/png": "[encoded data removed]",
            "text/plain": [
              "<IPython.core.display.Image object>"
            ]
          },
          "metadata": {},
          "execution_count": 51
        }
      ]
    },
    {
      "cell_type": "code",
      "source": [],
      "metadata": {
        "id": "MWt_X3wJqiye"
      },
      "execution_count": null,
      "outputs": []
    },
    {
      "cell_type": "code",
      "source": [],
      "metadata": {
        "id": "PKkOuVyNsAY8"
      },
      "execution_count": null,
      "outputs": []
    }
  ]
}