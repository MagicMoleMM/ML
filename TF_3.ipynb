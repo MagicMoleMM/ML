{
  "nbformat": 4,
  "nbformat_minor": 0,
  "metadata": {
    "colab": {
      "provenance": [],
      "authorship_tag": "ABX9TyOH+Bu1PIblXmJxQ7/sTrm0",
      "include_colab_link": true
    },
    "kernelspec": {
      "name": "python3",
      "display_name": "Python 3"
    },
    "language_info": {
      "name": "python"
    }
  },
  "cells": [
    {
      "cell_type": "markdown",
      "metadata": {
        "id": "view-in-github",
        "colab_type": "text"
      },
      "source": [
        "<a href=\"https://colab.research.google.com/github/MagicMoleMM/ML/blob/main/TF_3.ipynb\" target=\"_parent\"><img src=\"https://colab.research.google.com/assets/colab-badge.svg\" alt=\"Open In Colab\"/></a>"
      ]
    },
    {
      "cell_type": "code",
      "execution_count": 1,
      "metadata": {
        "colab": {
          "base_uri": "https://localhost:8080/"
        },
        "id": "Y9DJOH_CFnHr",
        "outputId": "94997833-beab-4ddb-a1fe-ddf4d4d0c71e"
      },
      "outputs": [
        {
          "output_type": "stream",
          "name": "stdout",
          "text": [
            "2.9.2\n"
          ]
        }
      ],
      "source": [
        "import tensorflow as tf\n",
        "print(tf.__version__)"
      ]
    },
    {
      "cell_type": "code",
      "source": [
        "a = tf.Variable(10.)\n",
        "b = tf.Variable(20.)"
      ],
      "metadata": {
        "id": "Uvb4NnoeGYWy"
      },
      "execution_count": 2,
      "outputs": []
    },
    {
      "cell_type": "code",
      "source": [
        "print(a*b)"
      ],
      "metadata": {
        "colab": {
          "base_uri": "https://localhost:8080/"
        },
        "id": "aZgcnFi5GgvJ",
        "outputId": "ca18f5fb-f85f-41b8-a9c2-ac7902396898"
      },
      "execution_count": 3,
      "outputs": [
        {
          "output_type": "stream",
          "name": "stdout",
          "text": [
            "tf.Tensor(200.0, shape=(), dtype=float32)\n"
          ]
        }
      ]
    },
    {
      "cell_type": "code",
      "source": [
        "print(a+b)"
      ],
      "metadata": {
        "colab": {
          "base_uri": "https://localhost:8080/"
        },
        "id": "Xooe_ppBG0Ew",
        "outputId": "ebf08957-9d0b-4770-e35d-ff358d0c9ddf"
      },
      "execution_count": 4,
      "outputs": [
        {
          "output_type": "stream",
          "name": "stdout",
          "text": [
            "tf.Tensor(30.0, shape=(), dtype=float32)\n"
          ]
        }
      ]
    },
    {
      "cell_type": "code",
      "source": [
        "print(tf.exp(a))"
      ],
      "metadata": {
        "colab": {
          "base_uri": "https://localhost:8080/"
        },
        "id": "OnlYJQw9G7OM",
        "outputId": "e6446895-e93c-4470-be7e-820edb99c93d"
      },
      "execution_count": 5,
      "outputs": [
        {
          "output_type": "stream",
          "name": "stdout",
          "text": [
            "tf.Tensor(22026.465, shape=(), dtype=float32)\n"
          ]
        }
      ]
    },
    {
      "cell_type": "code",
      "source": [
        "model = tf.keras.Model()\n"
      ],
      "metadata": {
        "id": "M3B4b5sdJg5K"
      },
      "execution_count": 6,
      "outputs": []
    },
    {
      "cell_type": "code",
      "source": [
        "from tensorflow.python.keras.layers import Dense, Input, Add\n",
        "from tensorflow.python.keras import Model\n",
        "import numpy as np\n"
      ],
      "metadata": {
        "id": "eZXqZAjKJp9C"
      },
      "execution_count": 7,
      "outputs": []
    },
    {
      "cell_type": "code",
      "source": [
        "x = np.ones((4,3)) \n",
        "dense_layer = Dense(units=2, input_shape=(3,))\n",
        "output = dense_layer(x)\n",
        "print(f'Output: {output}')"
      ],
      "metadata": {
        "colab": {
          "base_uri": "https://localhost:8080/"
        },
        "id": "mwaYhCiiMBam",
        "outputId": "9a49c5dc-b7da-4370-e0af-6997a5d95e21"
      },
      "execution_count": 8,
      "outputs": [
        {
          "output_type": "stream",
          "name": "stdout",
          "text": [
            "Output: [[ 0.4146242 -1.1829798]\n",
            " [ 0.4146242 -1.1829798]\n",
            " [ 0.4146242 -1.1829798]\n",
            " [ 0.4146242 -1.1829798]]\n"
          ]
        }
      ]
    },
    {
      "cell_type": "code",
      "source": [
        "w, b = dense_layer.get_weights()\n",
        "\n",
        "print(f'Weights: {w}\\nBias: {b}')"
      ],
      "metadata": {
        "colab": {
          "base_uri": "https://localhost:8080/"
        },
        "id": "iJKk9P3XNwR6",
        "outputId": "4dc9fc8a-fe5e-4ff0-ba83-40aae6925a8f"
      },
      "execution_count": 9,
      "outputs": [
        {
          "output_type": "stream",
          "name": "stdout",
          "text": [
            "Weights: [[ 0.5064492   0.16715014]\n",
            " [-0.7479948  -0.49876595]\n",
            " [ 0.6561698  -0.851364  ]]\n",
            "Bias: [0. 0.]\n"
          ]
        }
      ]
    },
    {
      "cell_type": "code",
      "source": [
        "manual_output = np.matmul(x,w) + b\n",
        "print(f'Manual output - {manual_output}')"
      ],
      "metadata": {
        "colab": {
          "base_uri": "https://localhost:8080/"
        },
        "id": "G6KKi7Ndie_w",
        "outputId": "843ac408-3738-4c84-f2d8-034a5d40dbfa"
      },
      "execution_count": 10,
      "outputs": [
        {
          "output_type": "stream",
          "name": "stdout",
          "text": [
            "Manual output - [[ 0.41462421 -1.18297982]\n",
            " [ 0.41462421 -1.18297982]\n",
            " [ 0.41462421 -1.18297982]\n",
            " [ 0.41462421 -1.18297982]]\n"
          ]
        }
      ]
    },
    {
      "cell_type": "markdown",
      "source": [
        "### **Sequential Model**"
      ],
      "metadata": {
        "id": "qEykgsRNkk2K"
      }
    },
    {
      "cell_type": "code",
      "source": [
        "model = tf.keras.Sequential()\n",
        "model.add(Dense(10, input_shape=(10,), activation='relu'))\n",
        "model.add(Dense(20, activation='relu', \n",
        "                bias_initializer=tf.keras.initializers.Constant(2.0)))\n",
        "model.add(Dense(5,activation='softmax'))"
      ],
      "metadata": {
        "id": "w7Rz266ZkX8Z"
      },
      "execution_count": 11,
      "outputs": []
    },
    {
      "cell_type": "code",
      "source": [
        "sample_input = np.random.rand(2,10)\n",
        "output = model(sample_input)\n",
        "output"
      ],
      "metadata": {
        "colab": {
          "base_uri": "https://localhost:8080/"
        },
        "id": "FkZd364Skjk4",
        "outputId": "c8d8f5fd-7a88-4348-dbf5-a657163768b2"
      },
      "execution_count": 12,
      "outputs": [
        {
          "output_type": "execute_result",
          "data": {
            "text/plain": [
              "<tf.Tensor: shape=(2, 5), dtype=float32, numpy=\n",
              "array([[0.01319478, 0.12626204, 0.02189064, 0.16131741, 0.6773352 ],\n",
              "       [0.01879492, 0.10072166, 0.02239256, 0.161587  , 0.6965039 ]],\n",
              "      dtype=float32)>"
            ]
          },
          "metadata": {},
          "execution_count": 12
        }
      ]
    },
    {
      "cell_type": "code",
      "source": [
        "model.layers[1].get_weights()[1]"
      ],
      "metadata": {
        "colab": {
          "base_uri": "https://localhost:8080/"
        },
        "id": "OHP7HeEin7Xc",
        "outputId": "bb4dece7-9981-41f0-bebd-b455085ae319"
      },
      "execution_count": 13,
      "outputs": [
        {
          "output_type": "execute_result",
          "data": {
            "text/plain": [
              "array([2., 2., 2., 2., 2., 2., 2., 2., 2., 2., 2., 2., 2., 2., 2., 2., 2.,\n",
              "       2., 2., 2.], dtype=float32)"
            ]
          },
          "metadata": {},
          "execution_count": 13
        }
      ]
    },
    {
      "cell_type": "code",
      "source": [
        "model.summary()"
      ],
      "metadata": {
        "colab": {
          "base_uri": "https://localhost:8080/"
        },
        "id": "oo5Ifbq7ofCL",
        "outputId": "6877dc1b-cb14-47a9-9bbc-20acb301ddf1"
      },
      "execution_count": 14,
      "outputs": [
        {
          "output_type": "stream",
          "name": "stdout",
          "text": [
            "Model: \"sequential\"\n",
            "_________________________________________________________________\n",
            " Layer (type)                Output Shape              Param #   \n",
            "=================================================================\n",
            " module_wrapper (ModuleWrapp  (2, 10)                  110       \n",
            " er)                                                             \n",
            "                                                                 \n",
            " module_wrapper_1 (ModuleWra  (2, 20)                  220       \n",
            " pper)                                                           \n",
            "                                                                 \n",
            " module_wrapper_2 (ModuleWra  (2, 5)                   105       \n",
            " pper)                                                           \n",
            "                                                                 \n",
            "=================================================================\n",
            "Total params: 435\n",
            "Trainable params: 435\n",
            "Non-trainable params: 0\n",
            "_________________________________________________________________\n"
          ]
        }
      ]
    },
    {
      "cell_type": "code",
      "source": [
        "tf.keras.utils.plot_model(model, show_shapes=True)"
      ],
      "metadata": {
        "colab": {
          "base_uri": "https://localhost:8080/",
          "height": 422
        },
        "id": "696JMUYXpjhk",
        "outputId": "94879a52-32a3-4180-c164-ec2a3025d51a"
      },
      "execution_count": 15,
      "outputs": [
        {
          "output_type": "execute_result",
          "data": {
            "image/png": "[encoded data removed]",
            "text/plain": [
              "<IPython.core.display.Image object>"
            ]
          },
          "metadata": {},
          "execution_count": 15
        }
      ]
    },
    {
      "cell_type": "markdown",
      "source": [
        "## **Functional** **API**"
      ],
      "metadata": {
        "id": "9cFEN3f9sHKa"
      }
    },
    {
      "cell_type": "code",
      "source": [
        "input_layer = Input(shape=(10, ), name='Input')\n",
        "\n",
        "l1_output = Dense(10, name='Layer1')(input_layer)\n",
        "l2_output = Dense(10, name='Layer2')(input_layer)\n",
        "l3_output = Dense(10, name='Layer3')(l2_output)\n",
        "l4_output = Dense(10, name='Layer4')(l3_output)\n",
        "l5_output = Dense(10, name='Layer5')(l2_output)\n",
        "\n",
        "sum_output = Add(name='SumLayer')([l1_output, l4_output, l5_output])\n",
        "output = Dense(10, name='Output')(sum_output)\n",
        "\n",
        "model = Model(inputs=input_layer, outputs=output)\n",
        "tf.keras.utils.plot_model(model, show_shapes=False)"
      ],
      "metadata": {
        "colab": {
          "base_uri": "https://localhost:8080/",
          "height": 564
        },
        "id": "f0BIp2Z1sGmt",
        "outputId": "12422e1b-be8f-4aab-d895-64bec00c44d4"
      },
      "execution_count": 16,
      "outputs": [
        {
          "output_type": "execute_result",
          "data": {
            "image/png": "[encoded data removed]",
            "text/plain": [
              "<IPython.core.display.Image object>"
            ]
          },
          "metadata": {},
          "execution_count": 16
        }
      ]
    },
    {
      "cell_type": "code",
      "source": [
        "model.summary()"
      ],
      "metadata": {
        "colab": {
          "base_uri": "https://localhost:8080/"
        },
        "id": "MWt_X3wJqiye",
        "outputId": "93e9fd77-5af9-4a37-f42d-e6b8bea890f4"
      },
      "execution_count": 17,
      "outputs": [
        {
          "output_type": "stream",
          "name": "stdout",
          "text": [
            "Model: \"model\"\n",
            "__________________________________________________________________________________________________\n",
            "Layer (type)                    Output Shape         Param #     Connected to                     \n",
            "==================================================================================================\n",
            "Input (InputLayer)              [(None, 10)]         0                                            \n",
            "__________________________________________________________________________________________________\n",
            "Layer2 (Dense)                  (None, 10)           110         Input[0][0]                      \n",
            "__________________________________________________________________________________________________\n",
            "Layer3 (Dense)                  (None, 10)           110         Layer2[0][0]                     \n",
            "__________________________________________________________________________________________________\n",
            "Layer1 (Dense)                  (None, 10)           110         Input[0][0]                      \n",
            "__________________________________________________________________________________________________\n",
            "Layer4 (Dense)                  (None, 10)           110         Layer3[0][0]                     \n",
            "__________________________________________________________________________________________________\n",
            "Layer5 (Dense)                  (None, 10)           110         Layer2[0][0]                     \n",
            "__________________________________________________________________________________________________\n",
            "SumLayer (Add)                  (None, 10)           0           Layer1[0][0]                     \n",
            "                                                                 Layer4[0][0]                     \n",
            "                                                                 Layer5[0][0]                     \n",
            "__________________________________________________________________________________________________\n",
            "Output (Dense)                  (None, 10)           110         SumLayer[0][0]                   \n",
            "==================================================================================================\n",
            "Total params: 660\n",
            "Trainable params: 660\n",
            "Non-trainable params: 0\n",
            "__________________________________________________________________________________________________\n"
          ]
        }
      ]
    },
    {
      "cell_type": "code",
      "source": [
        "import numpy as np\n"
      ],
      "metadata": {
        "id": "PKkOuVyNsAY8"
      },
      "execution_count": 18,
      "outputs": []
    },
    {
      "cell_type": "code",
      "source": [
        "y_true = np.random.rand(10)\n",
        "y_pred = np.random.rand(10)\n",
        "\n",
        "print(tf.keras.losses.MSE(y_true=y_true, y_pred=y_pred))"
      ],
      "metadata": {
        "colab": {
          "base_uri": "https://localhost:8080/"
        },
        "id": "cpQP0CY5B7xa",
        "outputId": "140cde8d-01a4-4857-8457-7cae429e7b31"
      },
      "execution_count": 19,
      "outputs": [
        {
          "output_type": "stream",
          "name": "stdout",
          "text": [
            "tf.Tensor(0.24248708184951898, shape=(), dtype=float64)\n"
          ]
        }
      ]
    },
    {
      "cell_type": "code",
      "source": [
        "print(np.mean((y_true - y_pred)**2))"
      ],
      "metadata": {
        "colab": {
          "base_uri": "https://localhost:8080/"
        },
        "id": "CHzJONKNDXAI",
        "outputId": "46294916-3de5-4ef5-f5d1-2d7fb8a50909"
      },
      "execution_count": 20,
      "outputs": [
        {
          "output_type": "stream",
          "name": "stdout",
          "text": [
            "0.24248708184951898\n"
          ]
        }
      ]
    },
    {
      "cell_type": "code",
      "source": [
        "print(tf.keras.losses.binary_crossentropy(np.ones(10), np.ones(10)))"
      ],
      "metadata": {
        "colab": {
          "base_uri": "https://localhost:8080/"
        },
        "id": "9IjPxdKrDmX_",
        "outputId": "063b8343-ea91-403f-ed2f-bbe49804e336"
      },
      "execution_count": 21,
      "outputs": [
        {
          "output_type": "stream",
          "name": "stdout",
          "text": [
            "tf.Tensor(0.0, shape=(), dtype=float64)\n"
          ]
        }
      ]
    },
    {
      "cell_type": "code",
      "source": [
        "loss = tf.keras.losses.BinaryCrossentropy()\n",
        "print(loss(np.ones(10), np.ones(10)))"
      ],
      "metadata": {
        "colab": {
          "base_uri": "https://localhost:8080/"
        },
        "id": "Ji-CgMaIEAZm",
        "outputId": "19aa4b51-35e1-4936-bba1-20ba150f693f"
      },
      "execution_count": 22,
      "outputs": [
        {
          "output_type": "stream",
          "name": "stdout",
          "text": [
            "tf.Tensor(0.0, shape=(), dtype=float64)\n"
          ]
        }
      ]
    },
    {
      "cell_type": "code",
      "source": [],
      "metadata": {
        "id": "HQJL2FIIEXnf"
      },
      "execution_count": 22,
      "outputs": []
    },
    {
      "cell_type": "markdown",
      "source": [
        "# **Обучение модели в TF**"
      ],
      "metadata": {
        "id": "19HN0QyyFu4t"
      }
    },
    {
      "cell_type": "markdown",
      "source": [
        "# Задача регрессии"
      ],
      "metadata": {
        "id": "kcWRb29KF6I-"
      }
    },
    {
      "cell_type": "code",
      "source": [
        "celsius = np.array([-10,-40,10,20,36,5,-12,14,36]).astype(np.float32)\n",
        "fahrengeit = np.array([14.,-40.,50.,68.,96.8,41.,10.4,57.2,96.8])"
      ],
      "metadata": {
        "id": "ATJyzC1uEXTp"
      },
      "execution_count": 23,
      "outputs": []
    },
    {
      "cell_type": "code",
      "source": [
        "model = tf.keras.Sequential()\n",
        "model.add(tf.keras.layers.Dense(1, input_shape=(1,)))\n",
        "\n",
        "optimazer = tf.keras.optimizers.Adam(learning_rate=0.5)\n",
        "loss = tf.keras.losses.MSE"
      ],
      "metadata": {
        "id": "kdCBHCylGyJX"
      },
      "execution_count": 24,
      "outputs": []
    },
    {
      "cell_type": "code",
      "source": [
        "model.compile(optimizer=optimazer, loss=loss)\n"
      ],
      "metadata": {
        "id": "j-QboNHaH2KO"
      },
      "execution_count": 25,
      "outputs": []
    },
    {
      "cell_type": "code",
      "source": [
        "history = model.fit(celsius,fahrengeit,epochs=200,verbose=2)"
      ],
      "metadata": {
        "colab": {
          "base_uri": "https://localhost:8080/"
        },
        "id": "Xc50BqkPICiI",
        "outputId": "988a9d7e-0946-4fb2-9702-9963eed5c3a2"
      },
      "execution_count": 26,
      "outputs": [
        {
          "output_type": "stream",
          "name": "stdout",
          "text": [
            "Epoch 1/200\n",
            "1/1 - 0s - loss: 8115.9932 - 467ms/epoch - 467ms/step\n",
            "Epoch 2/200\n",
            "1/1 - 0s - loss: 6183.2329 - 7ms/epoch - 7ms/step\n",
            "Epoch 3/200\n",
            "1/1 - 0s - loss: 4554.2212 - 6ms/epoch - 6ms/step\n",
            "Epoch 4/200\n",
            "1/1 - 0s - loss: 3230.6963 - 6ms/epoch - 6ms/step\n",
            "Epoch 5/200\n",
            "1/1 - 0s - loss: 2208.7473 - 5ms/epoch - 5ms/step\n",
            "Epoch 6/200\n",
            "1/1 - 0s - loss: 1476.6624 - 5ms/epoch - 5ms/step\n",
            "Epoch 7/200\n",
            "1/1 - 0s - loss: 1012.7348 - 7ms/epoch - 7ms/step\n",
            "Epoch 8/200\n",
            "1/1 - 0s - loss: 783.4951 - 8ms/epoch - 8ms/step\n",
            "Epoch 9/200\n",
            "1/1 - 0s - loss: 743.4102 - 5ms/epoch - 5ms/step\n",
            "Epoch 10/200\n",
            "1/1 - 0s - loss: 837.2072 - 6ms/epoch - 6ms/step\n",
            "Epoch 11/200\n",
            "1/1 - 0s - loss: 1005.3151 - 6ms/epoch - 6ms/step\n",
            "Epoch 12/200\n",
            "1/1 - 0s - loss: 1191.5015 - 4ms/epoch - 4ms/step\n",
            "Epoch 13/200\n",
            "1/1 - 0s - loss: 1350.3302 - 8ms/epoch - 8ms/step\n",
            "Epoch 14/200\n",
            "1/1 - 0s - loss: 1451.9353 - 5ms/epoch - 5ms/step\n",
            "Epoch 15/200\n",
            "1/1 - 0s - loss: 1482.9670 - 4ms/epoch - 4ms/step\n",
            "Epoch 16/200\n",
            "1/1 - 0s - loss: 1444.3408 - 4ms/epoch - 4ms/step\n",
            "Epoch 17/200\n",
            "1/1 - 0s - loss: 1347.2916 - 4ms/epoch - 4ms/step\n",
            "Epoch 18/200\n",
            "1/1 - 0s - loss: 1209.1150 - 4ms/epoch - 4ms/step\n",
            "Epoch 19/200\n",
            "1/1 - 0s - loss: 1049.4097 - 9ms/epoch - 9ms/step\n",
            "Epoch 20/200\n",
            "1/1 - 0s - loss: 887.1243 - 5ms/epoch - 5ms/step\n",
            "Epoch 21/200\n",
            "1/1 - 0s - loss: 738.4123 - 4ms/epoch - 4ms/step\n",
            "Epoch 22/200\n",
            "1/1 - 0s - loss: 615.2229 - 16ms/epoch - 16ms/step\n",
            "Epoch 23/200\n",
            "1/1 - 0s - loss: 524.5461 - 4ms/epoch - 4ms/step\n",
            "Epoch 24/200\n",
            "1/1 - 0s - loss: 468.2684 - 4ms/epoch - 4ms/step\n",
            "Epoch 25/200\n",
            "1/1 - 0s - loss: 443.6132 - 4ms/epoch - 4ms/step\n",
            "Epoch 26/200\n",
            "1/1 - 0s - loss: 444.1001 - 7ms/epoch - 7ms/step\n",
            "Epoch 27/200\n",
            "1/1 - 0s - loss: 460.9094 - 4ms/epoch - 4ms/step\n",
            "Epoch 28/200\n",
            "1/1 - 0s - loss: 484.4459 - 5ms/epoch - 5ms/step\n",
            "Epoch 29/200\n",
            "1/1 - 0s - loss: 505.8577 - 10ms/epoch - 10ms/step\n",
            "Epoch 30/200\n",
            "1/1 - 0s - loss: 518.2582 - 5ms/epoch - 5ms/step\n",
            "Epoch 31/200\n",
            "1/1 - 0s - loss: 517.4786 - 4ms/epoch - 4ms/step\n",
            "Epoch 32/200\n",
            "1/1 - 0s - loss: 502.2780 - 4ms/epoch - 4ms/step\n",
            "Epoch 33/200\n",
            "1/1 - 0s - loss: 474.0596 - 4ms/epoch - 4ms/step\n",
            "Epoch 34/200\n",
            "1/1 - 0s - loss: 436.2172 - 5ms/epoch - 5ms/step\n",
            "Epoch 35/200\n",
            "1/1 - 0s - loss: 393.2780 - 4ms/epoch - 4ms/step\n",
            "Epoch 36/200\n",
            "1/1 - 0s - loss: 350.0066 - 4ms/epoch - 4ms/step\n",
            "Epoch 37/200\n",
            "1/1 - 0s - loss: 310.6115 - 4ms/epoch - 4ms/step\n",
            "Epoch 38/200\n",
            "1/1 - 0s - loss: 278.1523 - 4ms/epoch - 4ms/step\n",
            "Epoch 39/200\n",
            "1/1 - 0s - loss: 254.2115 - 4ms/epoch - 4ms/step\n",
            "Epoch 40/200\n",
            "1/1 - 0s - loss: 238.8443 - 5ms/epoch - 5ms/step\n",
            "Epoch 41/200\n",
            "1/1 - 0s - loss: 230.7835 - 4ms/epoch - 4ms/step\n",
            "Epoch 42/200\n",
            "1/1 - 0s - loss: 227.8380 - 4ms/epoch - 4ms/step\n",
            "Epoch 43/200\n",
            "1/1 - 0s - loss: 227.3959 - 4ms/epoch - 4ms/step\n",
            "Epoch 44/200\n",
            "1/1 - 0s - loss: 226.9339 - 7ms/epoch - 7ms/step\n",
            "Epoch 45/200\n",
            "1/1 - 0s - loss: 224.4422 - 4ms/epoch - 4ms/step\n",
            "Epoch 46/200\n",
            "1/1 - 0s - loss: 218.6977 - 4ms/epoch - 4ms/step\n",
            "Epoch 47/200\n",
            "1/1 - 0s - loss: 209.3582 - 7ms/epoch - 7ms/step\n",
            "Epoch 48/200\n",
            "1/1 - 0s - loss: 196.8822 - 5ms/epoch - 5ms/step\n",
            "Epoch 49/200\n",
            "1/1 - 0s - loss: 182.3168 - 7ms/epoch - 7ms/step\n",
            "Epoch 50/200\n",
            "1/1 - 0s - loss: 167.0094 - 6ms/epoch - 6ms/step\n",
            "Epoch 51/200\n",
            "1/1 - 0s - loss: 152.3077 - 9ms/epoch - 9ms/step\n",
            "Epoch 52/200\n",
            "1/1 - 0s - loss: 139.3047 - 4ms/epoch - 4ms/step\n",
            "Epoch 53/200\n",
            "1/1 - 0s - loss: 128.6685 - 4ms/epoch - 4ms/step\n",
            "Epoch 54/200\n",
            "1/1 - 0s - loss: 120.5780 - 4ms/epoch - 4ms/step\n",
            "Epoch 55/200\n",
            "1/1 - 0s - loss: 114.7607 - 5ms/epoch - 5ms/step\n",
            "Epoch 56/200\n",
            "1/1 - 0s - loss: 110.6129 - 11ms/epoch - 11ms/step\n",
            "Epoch 57/200\n",
            "1/1 - 0s - loss: 107.3662 - 29ms/epoch - 29ms/step\n",
            "Epoch 58/200\n",
            "1/1 - 0s - loss: 104.2633 - 19ms/epoch - 19ms/step\n",
            "Epoch 59/200\n",
            "1/1 - 0s - loss: 100.7047 - 6ms/epoch - 6ms/step\n",
            "Epoch 60/200\n",
            "1/1 - 0s - loss: 96.3420 - 5ms/epoch - 5ms/step\n",
            "Epoch 61/200\n",
            "1/1 - 0s - loss: 91.1068 - 4ms/epoch - 4ms/step\n",
            "Epoch 62/200\n",
            "1/1 - 0s - loss: 85.1770 - 5ms/epoch - 5ms/step\n",
            "Epoch 63/200\n",
            "1/1 - 0s - loss: 78.8988 - 4ms/epoch - 4ms/step\n",
            "Epoch 64/200\n",
            "1/1 - 0s - loss: 72.6848 - 5ms/epoch - 5ms/step\n",
            "Epoch 65/200\n",
            "1/1 - 0s - loss: 66.9146 - 7ms/epoch - 7ms/step\n",
            "Epoch 66/200\n",
            "1/1 - 0s - loss: 61.8577 - 4ms/epoch - 4ms/step\n",
            "Epoch 67/200\n",
            "1/1 - 0s - loss: 57.6315 - 5ms/epoch - 5ms/step\n",
            "Epoch 68/200\n",
            "1/1 - 0s - loss: 54.1987 - 4ms/epoch - 4ms/step\n",
            "Epoch 69/200\n",
            "1/1 - 0s - loss: 51.3981 - 5ms/epoch - 5ms/step\n",
            "Epoch 70/200\n",
            "1/1 - 0s - loss: 48.9983 - 5ms/epoch - 5ms/step\n",
            "Epoch 71/200\n",
            "1/1 - 0s - loss: 46.7580 - 9ms/epoch - 9ms/step\n",
            "Epoch 72/200\n",
            "1/1 - 0s - loss: 44.4793 - 5ms/epoch - 5ms/step\n",
            "Epoch 73/200\n",
            "1/1 - 0s - loss: 42.0431 - 5ms/epoch - 5ms/step\n",
            "Epoch 74/200\n",
            "1/1 - 0s - loss: 39.4214 - 5ms/epoch - 5ms/step\n",
            "Epoch 75/200\n",
            "1/1 - 0s - loss: 36.6667 - 5ms/epoch - 5ms/step\n",
            "Epoch 76/200\n",
            "1/1 - 0s - loss: 33.8859 - 5ms/epoch - 5ms/step\n",
            "Epoch 77/200\n",
            "1/1 - 0s - loss: 31.2045 - 5ms/epoch - 5ms/step\n",
            "Epoch 78/200\n",
            "1/1 - 0s - loss: 28.7335 - 7ms/epoch - 7ms/step\n",
            "Epoch 79/200\n",
            "1/1 - 0s - loss: 26.5446 - 20ms/epoch - 20ms/step\n",
            "Epoch 80/200\n",
            "1/1 - 0s - loss: 24.6581 - 5ms/epoch - 5ms/step\n",
            "Epoch 81/200\n",
            "1/1 - 0s - loss: 23.0458 - 6ms/epoch - 6ms/step\n",
            "Epoch 82/200\n",
            "1/1 - 0s - loss: 21.6441 - 6ms/epoch - 6ms/step\n",
            "Epoch 83/200\n",
            "1/1 - 0s - loss: 20.3740 - 6ms/epoch - 6ms/step\n",
            "Epoch 84/200\n",
            "1/1 - 0s - loss: 19.1613 - 5ms/epoch - 5ms/step\n",
            "Epoch 85/200\n",
            "1/1 - 0s - loss: 17.9528 - 5ms/epoch - 5ms/step\n",
            "Epoch 86/200\n",
            "1/1 - 0s - loss: 16.7243 - 5ms/epoch - 5ms/step\n",
            "Epoch 87/200\n",
            "1/1 - 0s - loss: 15.4809 - 5ms/epoch - 5ms/step\n",
            "Epoch 88/200\n",
            "1/1 - 0s - loss: 14.2494 - 5ms/epoch - 5ms/step\n",
            "Epoch 89/200\n",
            "1/1 - 0s - loss: 13.0674 - 5ms/epoch - 5ms/step\n",
            "Epoch 90/200\n",
            "1/1 - 0s - loss: 11.9709 - 5ms/epoch - 5ms/step\n",
            "Epoch 91/200\n",
            "1/1 - 0s - loss: 10.9843 - 5ms/epoch - 5ms/step\n",
            "Epoch 92/200\n",
            "1/1 - 0s - loss: 10.1161 - 5ms/epoch - 5ms/step\n",
            "Epoch 93/200\n",
            "1/1 - 0s - loss: 9.3576 - 6ms/epoch - 6ms/step\n",
            "Epoch 94/200\n",
            "1/1 - 0s - loss: 8.6878 - 6ms/epoch - 6ms/step\n",
            "Epoch 95/200\n",
            "1/1 - 0s - loss: 8.0800 - 5ms/epoch - 5ms/step\n",
            "Epoch 96/200\n",
            "1/1 - 0s - loss: 7.5086 - 5ms/epoch - 5ms/step\n",
            "Epoch 97/200\n",
            "1/1 - 0s - loss: 6.9551 - 5ms/epoch - 5ms/step\n",
            "Epoch 98/200\n",
            "1/1 - 0s - loss: 6.4107 - 4ms/epoch - 4ms/step\n",
            "Epoch 99/200\n",
            "1/1 - 0s - loss: 5.8768 - 4ms/epoch - 4ms/step\n",
            "Epoch 100/200\n",
            "1/1 - 0s - loss: 5.3615 - 4ms/epoch - 4ms/step\n",
            "Epoch 101/200\n",
            "1/1 - 0s - loss: 4.8763 - 4ms/epoch - 4ms/step\n",
            "Epoch 102/200\n",
            "1/1 - 0s - loss: 4.4316 - 6ms/epoch - 6ms/step\n",
            "Epoch 103/200\n",
            "1/1 - 0s - loss: 4.0335 - 4ms/epoch - 4ms/step\n",
            "Epoch 104/200\n",
            "1/1 - 0s - loss: 3.6826 - 5ms/epoch - 5ms/step\n",
            "Epoch 105/200\n",
            "1/1 - 0s - loss: 3.3739 - 5ms/epoch - 5ms/step\n",
            "Epoch 106/200\n",
            "1/1 - 0s - loss: 3.0988 - 4ms/epoch - 4ms/step\n",
            "Epoch 107/200\n",
            "1/1 - 0s - loss: 2.8478 - 8ms/epoch - 8ms/step\n",
            "Epoch 108/200\n",
            "1/1 - 0s - loss: 2.6125 - 4ms/epoch - 4ms/step\n",
            "Epoch 109/200\n",
            "1/1 - 0s - loss: 2.3874 - 4ms/epoch - 4ms/step\n",
            "Epoch 110/200\n",
            "1/1 - 0s - loss: 2.1707 - 6ms/epoch - 6ms/step\n",
            "Epoch 111/200\n",
            "1/1 - 0s - loss: 1.9635 - 4ms/epoch - 4ms/step\n",
            "Epoch 112/200\n",
            "1/1 - 0s - loss: 1.7689 - 4ms/epoch - 4ms/step\n",
            "Epoch 113/200\n",
            "1/1 - 0s - loss: 1.5902 - 6ms/epoch - 6ms/step\n",
            "Epoch 114/200\n",
            "1/1 - 0s - loss: 1.4300 - 6ms/epoch - 6ms/step\n",
            "Epoch 115/200\n",
            "1/1 - 0s - loss: 1.2886 - 4ms/epoch - 4ms/step\n",
            "Epoch 116/200\n",
            "1/1 - 0s - loss: 1.1648 - 4ms/epoch - 4ms/step\n",
            "Epoch 117/200\n",
            "1/1 - 0s - loss: 1.0558 - 6ms/epoch - 6ms/step\n",
            "Epoch 118/200\n",
            "1/1 - 0s - loss: 0.9580 - 4ms/epoch - 4ms/step\n",
            "Epoch 119/200\n",
            "1/1 - 0s - loss: 0.8681 - 6ms/epoch - 6ms/step\n",
            "Epoch 120/200\n",
            "1/1 - 0s - loss: 0.7839 - 4ms/epoch - 4ms/step\n",
            "Epoch 121/200\n",
            "1/1 - 0s - loss: 0.7041 - 4ms/epoch - 4ms/step\n",
            "Epoch 122/200\n",
            "1/1 - 0s - loss: 0.6288 - 7ms/epoch - 7ms/step\n",
            "Epoch 123/200\n",
            "1/1 - 0s - loss: 0.5588 - 4ms/epoch - 4ms/step\n",
            "Epoch 124/200\n",
            "1/1 - 0s - loss: 0.4952 - 6ms/epoch - 6ms/step\n",
            "Epoch 125/200\n",
            "1/1 - 0s - loss: 0.4386 - 5ms/epoch - 5ms/step\n",
            "Epoch 126/200\n",
            "1/1 - 0s - loss: 0.3892 - 5ms/epoch - 5ms/step\n",
            "Epoch 127/200\n",
            "1/1 - 0s - loss: 0.3464 - 4ms/epoch - 4ms/step\n",
            "Epoch 128/200\n",
            "1/1 - 0s - loss: 0.3093 - 6ms/epoch - 6ms/step\n",
            "Epoch 129/200\n",
            "1/1 - 0s - loss: 0.2764 - 8ms/epoch - 8ms/step\n",
            "Epoch 130/200\n",
            "1/1 - 0s - loss: 0.2467 - 6ms/epoch - 6ms/step\n",
            "Epoch 131/200\n",
            "1/1 - 0s - loss: 0.2192 - 7ms/epoch - 7ms/step\n",
            "Epoch 132/200\n",
            "1/1 - 0s - loss: 0.1934 - 5ms/epoch - 5ms/step\n",
            "Epoch 133/200\n",
            "1/1 - 0s - loss: 0.1695 - 4ms/epoch - 4ms/step\n",
            "Epoch 134/200\n",
            "1/1 - 0s - loss: 0.1476 - 6ms/epoch - 6ms/step\n",
            "Epoch 135/200\n",
            "1/1 - 0s - loss: 0.1280 - 5ms/epoch - 5ms/step\n",
            "Epoch 136/200\n",
            "1/1 - 0s - loss: 0.1110 - 5ms/epoch - 5ms/step\n",
            "Epoch 137/200\n",
            "1/1 - 0s - loss: 0.0964 - 5ms/epoch - 5ms/step\n",
            "Epoch 138/200\n",
            "1/1 - 0s - loss: 0.0841 - 5ms/epoch - 5ms/step\n",
            "Epoch 139/200\n",
            "1/1 - 0s - loss: 0.0737 - 5ms/epoch - 5ms/step\n",
            "Epoch 140/200\n",
            "1/1 - 0s - loss: 0.0646 - 4ms/epoch - 4ms/step\n",
            "Epoch 141/200\n",
            "1/1 - 0s - loss: 0.0564 - 7ms/epoch - 7ms/step\n",
            "Epoch 142/200\n",
            "1/1 - 0s - loss: 0.0489 - 4ms/epoch - 4ms/step\n",
            "Epoch 143/200\n",
            "1/1 - 0s - loss: 0.0420 - 3ms/epoch - 3ms/step\n",
            "Epoch 144/200\n",
            "1/1 - 0s - loss: 0.0356 - 3ms/epoch - 3ms/step\n",
            "Epoch 145/200\n",
            "1/1 - 0s - loss: 0.0299 - 4ms/epoch - 4ms/step\n",
            "Epoch 146/200\n",
            "1/1 - 0s - loss: 0.0250 - 7ms/epoch - 7ms/step\n",
            "Epoch 147/200\n",
            "1/1 - 0s - loss: 0.0209 - 5ms/epoch - 5ms/step\n",
            "Epoch 148/200\n",
            "1/1 - 0s - loss: 0.0176 - 5ms/epoch - 5ms/step\n",
            "Epoch 149/200\n",
            "1/1 - 0s - loss: 0.0149 - 4ms/epoch - 4ms/step\n",
            "Epoch 150/200\n",
            "1/1 - 0s - loss: 0.0127 - 4ms/epoch - 4ms/step\n",
            "Epoch 151/200\n",
            "1/1 - 0s - loss: 0.0108 - 5ms/epoch - 5ms/step\n",
            "Epoch 152/200\n",
            "1/1 - 0s - loss: 0.0091 - 4ms/epoch - 4ms/step\n",
            "Epoch 153/200\n",
            "1/1 - 0s - loss: 0.0076 - 4ms/epoch - 4ms/step\n",
            "Epoch 154/200\n",
            "1/1 - 0s - loss: 0.0061 - 4ms/epoch - 4ms/step\n",
            "Epoch 155/200\n",
            "1/1 - 0s - loss: 0.0048 - 6ms/epoch - 6ms/step\n",
            "Epoch 156/200\n",
            "1/1 - 0s - loss: 0.0037 - 5ms/epoch - 5ms/step\n",
            "Epoch 157/200\n",
            "1/1 - 0s - loss: 0.0028 - 4ms/epoch - 4ms/step\n",
            "Epoch 158/200\n",
            "1/1 - 0s - loss: 0.0022 - 5ms/epoch - 5ms/step\n",
            "Epoch 159/200\n",
            "1/1 - 0s - loss: 0.0017 - 5ms/epoch - 5ms/step\n",
            "Epoch 160/200\n",
            "1/1 - 0s - loss: 0.0014 - 5ms/epoch - 5ms/step\n",
            "Epoch 161/200\n",
            "1/1 - 0s - loss: 0.0012 - 5ms/epoch - 5ms/step\n",
            "Epoch 162/200\n",
            "1/1 - 0s - loss: 9.4103e-04 - 4ms/epoch - 4ms/step\n",
            "Epoch 163/200\n",
            "1/1 - 0s - loss: 7.3411e-04 - 4ms/epoch - 4ms/step\n",
            "Epoch 164/200\n",
            "1/1 - 0s - loss: 5.3060e-04 - 4ms/epoch - 4ms/step\n",
            "Epoch 165/200\n",
            "1/1 - 0s - loss: 3.4261e-04 - 4ms/epoch - 4ms/step\n",
            "Epoch 166/200\n",
            "1/1 - 0s - loss: 1.8828e-04 - 4ms/epoch - 4ms/step\n",
            "Epoch 167/200\n",
            "1/1 - 0s - loss: 8.2158e-05 - 4ms/epoch - 4ms/step\n",
            "Epoch 168/200\n",
            "1/1 - 0s - loss: 2.8627e-05 - 4ms/epoch - 4ms/step\n",
            "Epoch 169/200\n",
            "1/1 - 0s - loss: 2.0378e-05 - 4ms/epoch - 4ms/step\n",
            "Epoch 170/200\n",
            "1/1 - 0s - loss: 4.1567e-05 - 4ms/epoch - 4ms/step\n",
            "Epoch 171/200\n",
            "1/1 - 0s - loss: 7.3471e-05 - 4ms/epoch - 4ms/step\n",
            "Epoch 172/200\n",
            "1/1 - 0s - loss: 1.0067e-04 - 5ms/epoch - 5ms/step\n",
            "Epoch 173/200\n",
            "1/1 - 0s - loss: 1.1479e-04 - 4ms/epoch - 4ms/step\n",
            "Epoch 174/200\n",
            "1/1 - 0s - loss: 1.1556e-04 - 4ms/epoch - 4ms/step\n",
            "Epoch 175/200\n",
            "1/1 - 0s - loss: 1.0889e-04 - 4ms/epoch - 4ms/step\n",
            "Epoch 176/200\n",
            "1/1 - 0s - loss: 1.0293e-04 - 4ms/epoch - 4ms/step\n",
            "Epoch 177/200\n",
            "1/1 - 0s - loss: 1.0464e-04 - 4ms/epoch - 4ms/step\n",
            "Epoch 178/200\n",
            "1/1 - 0s - loss: 1.1700e-04 - 4ms/epoch - 4ms/step\n",
            "Epoch 179/200\n",
            "1/1 - 0s - loss: 1.3838e-04 - 5ms/epoch - 5ms/step\n",
            "Epoch 180/200\n",
            "1/1 - 0s - loss: 1.6392e-04 - 4ms/epoch - 4ms/step\n",
            "Epoch 181/200\n",
            "1/1 - 0s - loss: 1.8776e-04 - 4ms/epoch - 4ms/step\n",
            "Epoch 182/200\n",
            "1/1 - 0s - loss: 2.0482e-04 - 4ms/epoch - 4ms/step\n",
            "Epoch 183/200\n",
            "1/1 - 0s - loss: 2.1309e-04 - 4ms/epoch - 4ms/step\n",
            "Epoch 184/200\n",
            "1/1 - 0s - loss: 2.1351e-04 - 5ms/epoch - 5ms/step\n",
            "Epoch 185/200\n",
            "1/1 - 0s - loss: 2.0892e-04 - 4ms/epoch - 4ms/step\n",
            "Epoch 186/200\n",
            "1/1 - 0s - loss: 2.0276e-04 - 5ms/epoch - 5ms/step\n",
            "Epoch 187/200\n",
            "1/1 - 0s - loss: 1.9817e-04 - 5ms/epoch - 5ms/step\n",
            "Epoch 188/200\n",
            "1/1 - 0s - loss: 1.9625e-04 - 4ms/epoch - 4ms/step\n",
            "Epoch 189/200\n",
            "1/1 - 0s - loss: 1.9649e-04 - 5ms/epoch - 5ms/step\n",
            "Epoch 190/200\n",
            "1/1 - 0s - loss: 1.9727e-04 - 4ms/epoch - 4ms/step\n",
            "Epoch 191/200\n",
            "1/1 - 0s - loss: 1.9650e-04 - 5ms/epoch - 5ms/step\n",
            "Epoch 192/200\n",
            "1/1 - 0s - loss: 1.9289e-04 - 5ms/epoch - 5ms/step\n",
            "Epoch 193/200\n",
            "1/1 - 0s - loss: 1.8590e-04 - 4ms/epoch - 4ms/step\n",
            "Epoch 194/200\n",
            "1/1 - 0s - loss: 1.7628e-04 - 4ms/epoch - 4ms/step\n",
            "Epoch 195/200\n",
            "1/1 - 0s - loss: 1.6531e-04 - 4ms/epoch - 4ms/step\n",
            "Epoch 196/200\n",
            "1/1 - 0s - loss: 1.5451e-04 - 4ms/epoch - 4ms/step\n",
            "Epoch 197/200\n",
            "1/1 - 0s - loss: 1.4486e-04 - 4ms/epoch - 4ms/step\n",
            "Epoch 198/200\n",
            "1/1 - 0s - loss: 1.3671e-04 - 3ms/epoch - 3ms/step\n",
            "Epoch 199/200\n",
            "1/1 - 0s - loss: 1.2966e-04 - 3ms/epoch - 3ms/step\n",
            "Epoch 200/200\n",
            "1/1 - 0s - loss: 1.2295e-04 - 4ms/epoch - 4ms/step\n"
          ]
        }
      ]
    },
    {
      "cell_type": "code",
      "source": [
        "model.get_weights()"
      ],
      "metadata": {
        "colab": {
          "base_uri": "https://localhost:8080/"
        },
        "id": "h1l05H4EIrCB",
        "outputId": "4b198488-83fc-4d63-ae07-93a69bcd03f5"
      },
      "execution_count": 27,
      "outputs": [
        {
          "output_type": "execute_result",
          "data": {
            "text/plain": [
              "[array([[1.7999531]], dtype=float32), array([32.011024], dtype=float32)]"
            ]
          },
          "metadata": {},
          "execution_count": 27
        }
      ]
    },
    {
      "cell_type": "code",
      "source": [
        "import pandas as pd\n",
        "\n",
        "history_df  = pd.DataFrame(history.history)\n",
        "history_df"
      ],
      "metadata": {
        "colab": {
          "base_uri": "https://localhost:8080/",
          "height": 419
        },
        "id": "3GVDhftRJEtw",
        "outputId": "176538dd-d11b-4a25-e6cb-469ab61dae3c"
      },
      "execution_count": 28,
      "outputs": [
        {
          "output_type": "execute_result",
          "data": {
            "text/plain": [
              "            loss\n",
              "0    8115.993164\n",
              "1    6183.232910\n",
              "2    4554.221191\n",
              "3    3230.696289\n",
              "4    2208.747314\n",
              "..           ...\n",
              "195     0.000155\n",
              "196     0.000145\n",
              "197     0.000137\n",
              "198     0.000130\n",
              "199     0.000123\n",
              "\n",
              "[200 rows x 1 columns]"
            ],
            "text/html": [
              "\n",
              "  <div id=\"df-124acd9a-02f4-4091-b93b-baa7a4f6fd8f\">\n",
              "    <div class=\"colab-df-container\">\n",
              "      <div>\n",
              "<style scoped>\n",
              "    .dataframe tbody tr th:only-of-type {\n",
              "        vertical-align: middle;\n",
              "    }\n",
              "\n",
              "    .dataframe tbody tr th {\n",
              "        vertical-align: top;\n",
              "    }\n",
              "\n",
              "    .dataframe thead th {\n",
              "        text-align: right;\n",
              "    }\n",
              "</style>\n",
              "<table border=\"1\" class=\"dataframe\">\n",
              "  <thead>\n",
              "    <tr style=\"text-align: right;\">\n",
              "      <th></th>\n",
              "      <th>loss</th>\n",
              "    </tr>\n",
              "  </thead>\n",
              "  <tbody>\n",
              "    <tr>\n",
              "      <th>0</th>\n",
              "      <td>8115.993164</td>\n",
              "    </tr>\n",
              "    <tr>\n",
              "      <th>1</th>\n",
              "      <td>6183.232910</td>\n",
              "    </tr>\n",
              "    <tr>\n",
              "      <th>2</th>\n",
              "      <td>4554.221191</td>\n",
              "    </tr>\n",
              "    <tr>\n",
              "      <th>3</th>\n",
              "      <td>3230.696289</td>\n",
              "    </tr>\n",
              "    <tr>\n",
              "      <th>4</th>\n",
              "      <td>2208.747314</td>\n",
              "    </tr>\n",
              "    <tr>\n",
              "      <th>...</th>\n",
              "      <td>...</td>\n",
              "    </tr>\n",
              "    <tr>\n",
              "      <th>195</th>\n",
              "      <td>0.000155</td>\n",
              "    </tr>\n",
              "    <tr>\n",
              "      <th>196</th>\n",
              "      <td>0.000145</td>\n",
              "    </tr>\n",
              "    <tr>\n",
              "      <th>197</th>\n",
              "      <td>0.000137</td>\n",
              "    </tr>\n",
              "    <tr>\n",
              "      <th>198</th>\n",
              "      <td>0.000130</td>\n",
              "    </tr>\n",
              "    <tr>\n",
              "      <th>199</th>\n",
              "      <td>0.000123</td>\n",
              "    </tr>\n",
              "  </tbody>\n",
              "</table>\n",
              "<p>200 rows × 1 columns</p>\n",
              "</div>\n",
              "      <button class=\"colab-df-convert\" onclick=\"convertToInteractive('df-124acd9a-02f4-4091-b93b-baa7a4f6fd8f')\"\n",
              "              title=\"Convert this dataframe to an interactive table.\"\n",
              "              style=\"display:none;\">\n",
              "        \n",
              "  <svg xmlns=\"http://www.w3.org/2000/svg\" height=\"24px\"viewBox=\"0 0 24 24\"\n",
              "       width=\"24px\">\n",
              "    <path d=\"M0 0h24v24H0V0z\" fill=\"none\"/>\n",
              "    <path d=\"M18.56 5.44l.94 2.06.94-2.06 2.06-.94-2.06-.94-.94-2.06-.94 2.06-2.06.94zm-11 1L8.5 8.5l.94-2.06 2.06-.94-2.06-.94L8.5 2.5l-.94 2.06-2.06.94zm10 10l.94 2.06.94-2.06 2.06-.94-2.06-.94-.94-2.06-.94 2.06-2.06.94z\"/><path d=\"M17.41 7.96l-1.37-1.37c-.4-.4-.92-.59-1.43-.59-.52 0-1.04.2-1.43.59L10.3 9.45l-7.72 7.72c-.78.78-.78 2.05 0 2.83L4 21.41c.39.39.9.59 1.41.59.51 0 1.02-.2 1.41-.59l7.78-7.78 2.81-2.81c.8-.78.8-2.07 0-2.86zM5.41 20L4 18.59l7.72-7.72 1.47 1.35L5.41 20z\"/>\n",
              "  </svg>\n",
              "      </button>\n",
              "      \n",
              "  <style>\n",
              "    .colab-df-container {\n",
              "      display:flex;\n",
              "      flex-wrap:wrap;\n",
              "      gap: 12px;\n",
              "    }\n",
              "\n",
              "    .colab-df-convert {\n",
              "      background-color: #E8F0FE;\n",
              "      border: none;\n",
              "      border-radius: 50%;\n",
              "      cursor: pointer;\n",
              "      display: none;\n",
              "      fill: #1967D2;\n",
              "      height: 32px;\n",
              "      padding: 0 0 0 0;\n",
              "      width: 32px;\n",
              "    }\n",
              "\n",
              "    .colab-df-convert:hover {\n",
              "      background-color: #E2EBFA;\n",
              "      box-shadow: 0px 1px 2px rgba(60, 64, 67, 0.3), 0px 1px 3px 1px rgba(60, 64, 67, 0.15);\n",
              "      fill: #174EA6;\n",
              "    }\n",
              "\n",
              "    [theme=dark] .colab-df-convert {\n",
              "      background-color: #3B4455;\n",
              "      fill: #D2E3FC;\n",
              "    }\n",
              "\n",
              "    [theme=dark] .colab-df-convert:hover {\n",
              "      background-color: #434B5C;\n",
              "      box-shadow: 0px 1px 3px 1px rgba(0, 0, 0, 0.15);\n",
              "      filter: drop-shadow(0px 1px 2px rgba(0, 0, 0, 0.3));\n",
              "      fill: #FFFFFF;\n",
              "    }\n",
              "  </style>\n",
              "\n",
              "      <script>\n",
              "        const buttonEl =\n",
              "          document.querySelector('#df-124acd9a-02f4-4091-b93b-baa7a4f6fd8f button.colab-df-convert');\n",
              "        buttonEl.style.display =\n",
              "          google.colab.kernel.accessAllowed ? 'block' : 'none';\n",
              "\n",
              "        async function convertToInteractive(key) {\n",
              "          const element = document.querySelector('#df-124acd9a-02f4-4091-b93b-baa7a4f6fd8f');\n",
              "          const dataTable =\n",
              "            await google.colab.kernel.invokeFunction('convertToInteractive',\n",
              "                                                     [key], {});\n",
              "          if (!dataTable) return;\n",
              "\n",
              "          const docLinkHtml = 'Like what you see? Visit the ' +\n",
              "            '<a target=\"_blank\" href=https://colab.research.google.com/notebooks/data_table.ipynb>data table notebook</a>'\n",
              "            + ' to learn more about interactive tables.';\n",
              "          element.innerHTML = '';\n",
              "          dataTable['output_type'] = 'display_data';\n",
              "          await google.colab.output.renderOutput(dataTable, element);\n",
              "          const docLink = document.createElement('div');\n",
              "          docLink.innerHTML = docLinkHtml;\n",
              "          element.appendChild(docLink);\n",
              "        }\n",
              "      </script>\n",
              "    </div>\n",
              "  </div>\n",
              "  "
            ]
          },
          "metadata": {},
          "execution_count": 28
        }
      ]
    },
    {
      "cell_type": "code",
      "source": [
        "import matplotlib.pyplot as plt\n",
        "plt.plot(history_df.loss)"
      ],
      "metadata": {
        "colab": {
          "base_uri": "https://localhost:8080/",
          "height": 282
        },
        "id": "PX9ikXymJ6PI",
        "outputId": "9e0d9c87-9bdf-46a0-d146-c56e743e9db0"
      },
      "execution_count": 29,
      "outputs": [
        {
          "output_type": "execute_result",
          "data": {
            "text/plain": [
              "[<matplotlib.lines.Line2D at 0x7f9c18995b20>]"
            ]
          },
          "metadata": {},
          "execution_count": 29
        },
        {
          "output_type": "display_data",
          "data": {
            "text/plain": [
              "<Figure size 432x288 with 1 Axes>"
            ],
            "image/png": "[encoded data removed]"
          },
          "metadata": {
            "needs_background": "light"
          }
        }
      ]
    },
    {
      "cell_type": "markdown",
      "source": [
        "# Задача классификации"
      ],
      "metadata": {
        "id": "tn-gQqdrKWZx"
      }
    },
    {
      "cell_type": "code",
      "source": [
        "X = np.array([[10,6],[7,4],[6,6],[9,8],[10,10],[10,4],[4,4],[4,6],[8,9]])\n",
        "y = np.array([0,1,0,0,0,1,1,1,1])\n",
        "X[:,1]\n",
        "plt.scatter(X[:,0],X[:,1],s=100, marker='o', c=y)"
      ],
      "metadata": {
        "id": "LtPoQA5NKbfp",
        "colab": {
          "base_uri": "https://localhost:8080/",
          "height": 282
        },
        "outputId": "75e73699-e81d-442c-931f-7dc4be96dc2b"
      },
      "execution_count": 30,
      "outputs": [
        {
          "output_type": "execute_result",
          "data": {
            "text/plain": [
              "<matplotlib.collections.PathCollection at 0x7f9c18471f10>"
            ]
          },
          "metadata": {},
          "execution_count": 30
        },
        {
          "output_type": "display_data",
          "data": {
            "text/plain": [
              "<Figure size 432x288 with 1 Axes>"
            ],
            "image/png": "[encoded data removed]"
          },
          "metadata": {
            "needs_background": "light"
          }
        }
      ]
    },
    {
      "cell_type": "code",
      "source": [
        "from tensorflow.python.keras.layers.core import activations\n",
        "model = tf.keras.Sequential()\n",
        "model.add(tf.keras.layers.Dense(4, input_shape=(2,), activation=\"sigmoid\"))\n",
        "model.add(tf.keras.layers.Dense(1))\n",
        "\n",
        "optimizer = tf.keras.optimizers.Adam(learning_rate=0.05)\n",
        "loss = tf.keras.losses.BinaryCrossentropy(from_logits=True)\n",
        "\n"
      ],
      "metadata": {
        "id": "769_wsr2T3Zn"
      },
      "execution_count": 31,
      "outputs": []
    },
    {
      "cell_type": "code",
      "source": [
        "model.compile(optimizer=optimizer, loss=loss, metrics=['accuracy'])\n",
        "\n",
        "history = model.fit(X,y,epochs=100, verbose=2)"
      ],
      "metadata": {
        "colab": {
          "base_uri": "https://localhost:8080/"
        },
        "id": "N4_5aN3_XmJT",
        "outputId": "79954ebb-b733-4daf-c495-d1f6a18d0027"
      },
      "execution_count": 32,
      "outputs": [
        {
          "output_type": "stream",
          "name": "stdout",
          "text": [
            "Epoch 1/100\n",
            "1/1 - 0s - loss: 0.6805 - accuracy: 0.4444 - 490ms/epoch - 490ms/step\n",
            "Epoch 2/100\n",
            "1/1 - 0s - loss: 0.6674 - accuracy: 0.4444 - 6ms/epoch - 6ms/step\n",
            "Epoch 3/100\n",
            "1/1 - 0s - loss: 0.6631 - accuracy: 0.5556 - 7ms/epoch - 7ms/step\n",
            "Epoch 4/100\n",
            "1/1 - 0s - loss: 0.6606 - accuracy: 0.5556 - 6ms/epoch - 6ms/step\n",
            "Epoch 5/100\n",
            "1/1 - 0s - loss: 0.6555 - accuracy: 0.6667 - 5ms/epoch - 5ms/step\n",
            "Epoch 6/100\n",
            "1/1 - 0s - loss: 0.6495 - accuracy: 0.6667 - 13ms/epoch - 13ms/step\n",
            "Epoch 7/100\n",
            "1/1 - 0s - loss: 0.6446 - accuracy: 0.6667 - 5ms/epoch - 5ms/step\n",
            "Epoch 8/100\n",
            "1/1 - 0s - loss: 0.6400 - accuracy: 0.6667 - 5ms/epoch - 5ms/step\n",
            "Epoch 9/100\n",
            "1/1 - 0s - loss: 0.6350 - accuracy: 0.6667 - 6ms/epoch - 6ms/step\n",
            "Epoch 10/100\n",
            "1/1 - 0s - loss: 0.6306 - accuracy: 0.6667 - 6ms/epoch - 6ms/step\n",
            "Epoch 11/100\n",
            "1/1 - 0s - loss: 0.6264 - accuracy: 0.6667 - 7ms/epoch - 7ms/step\n",
            "Epoch 12/100\n",
            "1/1 - 0s - loss: 0.6217 - accuracy: 0.6667 - 8ms/epoch - 8ms/step\n",
            "Epoch 13/100\n",
            "1/1 - 0s - loss: 0.6165 - accuracy: 0.6667 - 7ms/epoch - 7ms/step\n",
            "Epoch 14/100\n",
            "1/1 - 0s - loss: 0.6111 - accuracy: 0.6667 - 6ms/epoch - 6ms/step\n",
            "Epoch 15/100\n",
            "1/1 - 0s - loss: 0.6051 - accuracy: 0.6667 - 6ms/epoch - 6ms/step\n",
            "Epoch 16/100\n",
            "1/1 - 0s - loss: 0.5988 - accuracy: 0.6667 - 6ms/epoch - 6ms/step\n",
            "Epoch 17/100\n",
            "1/1 - 0s - loss: 0.5924 - accuracy: 0.6667 - 9ms/epoch - 9ms/step\n",
            "Epoch 18/100\n",
            "1/1 - 0s - loss: 0.5856 - accuracy: 0.6667 - 4ms/epoch - 4ms/step\n",
            "Epoch 19/100\n",
            "1/1 - 0s - loss: 0.5785 - accuracy: 0.6667 - 8ms/epoch - 8ms/step\n",
            "Epoch 20/100\n",
            "1/1 - 0s - loss: 0.5715 - accuracy: 0.6667 - 6ms/epoch - 6ms/step\n",
            "Epoch 21/100\n",
            "1/1 - 0s - loss: 0.5645 - accuracy: 0.6667 - 6ms/epoch - 6ms/step\n",
            "Epoch 22/100\n",
            "1/1 - 0s - loss: 0.5570 - accuracy: 0.6667 - 6ms/epoch - 6ms/step\n",
            "Epoch 23/100\n",
            "1/1 - 0s - loss: 0.5493 - accuracy: 0.6667 - 7ms/epoch - 7ms/step\n",
            "Epoch 24/100\n",
            "1/1 - 0s - loss: 0.5415 - accuracy: 0.6667 - 6ms/epoch - 6ms/step\n",
            "Epoch 25/100\n",
            "1/1 - 0s - loss: 0.5339 - accuracy: 0.6667 - 6ms/epoch - 6ms/step\n",
            "Epoch 26/100\n",
            "1/1 - 0s - loss: 0.5262 - accuracy: 0.6667 - 6ms/epoch - 6ms/step\n",
            "Epoch 27/100\n",
            "1/1 - 0s - loss: 0.5182 - accuracy: 0.6667 - 5ms/epoch - 5ms/step\n",
            "Epoch 28/100\n",
            "1/1 - 0s - loss: 0.5101 - accuracy: 0.6667 - 7ms/epoch - 7ms/step\n",
            "Epoch 29/100\n",
            "1/1 - 0s - loss: 0.5023 - accuracy: 0.6667 - 6ms/epoch - 6ms/step\n",
            "Epoch 30/100\n",
            "1/1 - 0s - loss: 0.4947 - accuracy: 0.6667 - 9ms/epoch - 9ms/step\n",
            "Epoch 31/100\n",
            "1/1 - 0s - loss: 0.4869 - accuracy: 0.6667 - 6ms/epoch - 6ms/step\n",
            "Epoch 32/100\n",
            "1/1 - 0s - loss: 0.4791 - accuracy: 0.6667 - 5ms/epoch - 5ms/step\n",
            "Epoch 33/100\n",
            "1/1 - 0s - loss: 0.4715 - accuracy: 0.6667 - 5ms/epoch - 5ms/step\n",
            "Epoch 34/100\n",
            "1/1 - 0s - loss: 0.4640 - accuracy: 0.6667 - 10ms/epoch - 10ms/step\n",
            "Epoch 35/100\n",
            "1/1 - 0s - loss: 0.4565 - accuracy: 0.6667 - 9ms/epoch - 9ms/step\n",
            "Epoch 36/100\n",
            "1/1 - 0s - loss: 0.4491 - accuracy: 0.6667 - 4ms/epoch - 4ms/step\n",
            "Epoch 37/100\n",
            "1/1 - 0s - loss: 0.4418 - accuracy: 0.6667 - 5ms/epoch - 5ms/step\n",
            "Epoch 38/100\n",
            "1/1 - 0s - loss: 0.4346 - accuracy: 0.6667 - 8ms/epoch - 8ms/step\n",
            "Epoch 39/100\n",
            "1/1 - 0s - loss: 0.4273 - accuracy: 0.7778 - 5ms/epoch - 5ms/step\n",
            "Epoch 40/100\n",
            "1/1 - 0s - loss: 0.4203 - accuracy: 0.7778 - 5ms/epoch - 5ms/step\n",
            "Epoch 41/100\n",
            "1/1 - 0s - loss: 0.4133 - accuracy: 0.7778 - 8ms/epoch - 8ms/step\n",
            "Epoch 42/100\n",
            "1/1 - 0s - loss: 0.4063 - accuracy: 0.8889 - 4ms/epoch - 4ms/step\n",
            "Epoch 43/100\n",
            "1/1 - 0s - loss: 0.3993 - accuracy: 0.8889 - 5ms/epoch - 5ms/step\n",
            "Epoch 44/100\n",
            "1/1 - 0s - loss: 0.3925 - accuracy: 0.8889 - 8ms/epoch - 8ms/step\n",
            "Epoch 45/100\n",
            "1/1 - 0s - loss: 0.3857 - accuracy: 0.8889 - 7ms/epoch - 7ms/step\n",
            "Epoch 46/100\n",
            "1/1 - 0s - loss: 0.3789 - accuracy: 0.8889 - 8ms/epoch - 8ms/step\n",
            "Epoch 47/100\n",
            "1/1 - 0s - loss: 0.3722 - accuracy: 0.8889 - 5ms/epoch - 5ms/step\n",
            "Epoch 48/100\n",
            "1/1 - 0s - loss: 0.3656 - accuracy: 0.8889 - 6ms/epoch - 6ms/step\n",
            "Epoch 49/100\n",
            "1/1 - 0s - loss: 0.3590 - accuracy: 0.8889 - 6ms/epoch - 6ms/step\n",
            "Epoch 50/100\n",
            "1/1 - 0s - loss: 0.3525 - accuracy: 0.8889 - 6ms/epoch - 6ms/step\n",
            "Epoch 51/100\n",
            "1/1 - 0s - loss: 0.3459 - accuracy: 0.8889 - 6ms/epoch - 6ms/step\n",
            "Epoch 52/100\n",
            "1/1 - 0s - loss: 0.3395 - accuracy: 0.8889 - 6ms/epoch - 6ms/step\n",
            "Epoch 53/100\n",
            "1/1 - 0s - loss: 0.3332 - accuracy: 0.8889 - 7ms/epoch - 7ms/step\n",
            "Epoch 54/100\n",
            "1/1 - 0s - loss: 0.3269 - accuracy: 0.8889 - 6ms/epoch - 6ms/step\n",
            "Epoch 55/100\n",
            "1/1 - 0s - loss: 0.3206 - accuracy: 0.8889 - 6ms/epoch - 6ms/step\n",
            "Epoch 56/100\n",
            "1/1 - 0s - loss: 0.3145 - accuracy: 0.8889 - 7ms/epoch - 7ms/step\n",
            "Epoch 57/100\n",
            "1/1 - 0s - loss: 0.3084 - accuracy: 0.8889 - 5ms/epoch - 5ms/step\n",
            "Epoch 58/100\n",
            "1/1 - 0s - loss: 0.3024 - accuracy: 0.8889 - 6ms/epoch - 6ms/step\n",
            "Epoch 59/100\n",
            "1/1 - 0s - loss: 0.2965 - accuracy: 0.8889 - 7ms/epoch - 7ms/step\n",
            "Epoch 60/100\n",
            "1/1 - 0s - loss: 0.2907 - accuracy: 0.8889 - 7ms/epoch - 7ms/step\n",
            "Epoch 61/100\n",
            "1/1 - 0s - loss: 0.2849 - accuracy: 0.8889 - 8ms/epoch - 8ms/step\n",
            "Epoch 62/100\n",
            "1/1 - 0s - loss: 0.2793 - accuracy: 0.8889 - 6ms/epoch - 6ms/step\n",
            "Epoch 63/100\n",
            "1/1 - 0s - loss: 0.2737 - accuracy: 0.8889 - 7ms/epoch - 7ms/step\n",
            "Epoch 64/100\n",
            "1/1 - 0s - loss: 0.2682 - accuracy: 0.8889 - 6ms/epoch - 6ms/step\n",
            "Epoch 65/100\n",
            "1/1 - 0s - loss: 0.2628 - accuracy: 0.8889 - 6ms/epoch - 6ms/step\n",
            "Epoch 66/100\n",
            "1/1 - 0s - loss: 0.2576 - accuracy: 0.8889 - 8ms/epoch - 8ms/step\n",
            "Epoch 67/100\n",
            "1/1 - 0s - loss: 0.2524 - accuracy: 1.0000 - 6ms/epoch - 6ms/step\n",
            "Epoch 68/100\n",
            "1/1 - 0s - loss: 0.2472 - accuracy: 1.0000 - 8ms/epoch - 8ms/step\n",
            "Epoch 69/100\n",
            "1/1 - 0s - loss: 0.2422 - accuracy: 1.0000 - 8ms/epoch - 8ms/step\n",
            "Epoch 70/100\n",
            "1/1 - 0s - loss: 0.2373 - accuracy: 1.0000 - 6ms/epoch - 6ms/step\n",
            "Epoch 71/100\n",
            "1/1 - 0s - loss: 0.2325 - accuracy: 1.0000 - 6ms/epoch - 6ms/step\n",
            "Epoch 72/100\n",
            "1/1 - 0s - loss: 0.2277 - accuracy: 1.0000 - 6ms/epoch - 6ms/step\n",
            "Epoch 73/100\n",
            "1/1 - 0s - loss: 0.2230 - accuracy: 1.0000 - 5ms/epoch - 5ms/step\n",
            "Epoch 74/100\n",
            "1/1 - 0s - loss: 0.2184 - accuracy: 1.0000 - 6ms/epoch - 6ms/step\n",
            "Epoch 75/100\n",
            "1/1 - 0s - loss: 0.2139 - accuracy: 1.0000 - 6ms/epoch - 6ms/step\n",
            "Epoch 76/100\n",
            "1/1 - 0s - loss: 0.2095 - accuracy: 1.0000 - 7ms/epoch - 7ms/step\n",
            "Epoch 77/100\n",
            "1/1 - 0s - loss: 0.2051 - accuracy: 1.0000 - 6ms/epoch - 6ms/step\n",
            "Epoch 78/100\n",
            "1/1 - 0s - loss: 0.2008 - accuracy: 1.0000 - 6ms/epoch - 6ms/step\n",
            "Epoch 79/100\n",
            "1/1 - 0s - loss: 0.1966 - accuracy: 1.0000 - 5ms/epoch - 5ms/step\n",
            "Epoch 80/100\n",
            "1/1 - 0s - loss: 0.1925 - accuracy: 1.0000 - 7ms/epoch - 7ms/step\n",
            "Epoch 81/100\n",
            "1/1 - 0s - loss: 0.1884 - accuracy: 1.0000 - 7ms/epoch - 7ms/step\n",
            "Epoch 82/100\n",
            "1/1 - 0s - loss: 0.1845 - accuracy: 1.0000 - 7ms/epoch - 7ms/step\n",
            "Epoch 83/100\n",
            "1/1 - 0s - loss: 0.1806 - accuracy: 1.0000 - 8ms/epoch - 8ms/step\n",
            "Epoch 84/100\n",
            "1/1 - 0s - loss: 0.1768 - accuracy: 1.0000 - 8ms/epoch - 8ms/step\n",
            "Epoch 85/100\n",
            "1/1 - 0s - loss: 0.1730 - accuracy: 1.0000 - 7ms/epoch - 7ms/step\n",
            "Epoch 86/100\n",
            "1/1 - 0s - loss: 0.1694 - accuracy: 1.0000 - 7ms/epoch - 7ms/step\n",
            "Epoch 87/100\n",
            "1/1 - 0s - loss: 0.1658 - accuracy: 1.0000 - 7ms/epoch - 7ms/step\n",
            "Epoch 88/100\n",
            "1/1 - 0s - loss: 0.1623 - accuracy: 1.0000 - 7ms/epoch - 7ms/step\n",
            "Epoch 89/100\n",
            "1/1 - 0s - loss: 0.1589 - accuracy: 1.0000 - 7ms/epoch - 7ms/step\n",
            "Epoch 90/100\n",
            "1/1 - 0s - loss: 0.1556 - accuracy: 1.0000 - 6ms/epoch - 6ms/step\n",
            "Epoch 91/100\n",
            "1/1 - 0s - loss: 0.1523 - accuracy: 1.0000 - 7ms/epoch - 7ms/step\n",
            "Epoch 92/100\n",
            "1/1 - 0s - loss: 0.1491 - accuracy: 1.0000 - 5ms/epoch - 5ms/step\n",
            "Epoch 93/100\n",
            "1/1 - 0s - loss: 0.1460 - accuracy: 1.0000 - 6ms/epoch - 6ms/step\n",
            "Epoch 94/100\n",
            "1/1 - 0s - loss: 0.1430 - accuracy: 1.0000 - 7ms/epoch - 7ms/step\n",
            "Epoch 95/100\n",
            "1/1 - 0s - loss: 0.1401 - accuracy: 1.0000 - 7ms/epoch - 7ms/step\n",
            "Epoch 96/100\n",
            "1/1 - 0s - loss: 0.1372 - accuracy: 1.0000 - 5ms/epoch - 5ms/step\n",
            "Epoch 97/100\n",
            "1/1 - 0s - loss: 0.1344 - accuracy: 1.0000 - 8ms/epoch - 8ms/step\n",
            "Epoch 98/100\n",
            "1/1 - 0s - loss: 0.1317 - accuracy: 1.0000 - 9ms/epoch - 9ms/step\n",
            "Epoch 99/100\n",
            "1/1 - 0s - loss: 0.1290 - accuracy: 1.0000 - 7ms/epoch - 7ms/step\n",
            "Epoch 100/100\n",
            "1/1 - 0s - loss: 0.1265 - accuracy: 1.0000 - 5ms/epoch - 5ms/step\n"
          ]
        }
      ]
    },
    {
      "cell_type": "code",
      "source": [
        "history_df_1 = pd.DataFrame(history.history)\n",
        "history_df_1"
      ],
      "metadata": {
        "colab": {
          "base_uri": "https://localhost:8080/",
          "height": 419
        },
        "id": "-eLWCeEFY2Un",
        "outputId": "7cbd4352-716e-4c55-ec44-eebb7c5ade1a"
      },
      "execution_count": 33,
      "outputs": [
        {
          "output_type": "execute_result",
          "data": {
            "text/plain": [
              "        loss  accuracy\n",
              "0   0.680529  0.444444\n",
              "1   0.667389  0.444444\n",
              "2   0.663052  0.555556\n",
              "3   0.660589  0.555556\n",
              "4   0.655482  0.666667\n",
              "..       ...       ...\n",
              "95  0.137206  1.000000\n",
              "96  0.134413  1.000000\n",
              "97  0.131692  1.000000\n",
              "98  0.129040  1.000000\n",
              "99  0.126456  1.000000\n",
              "\n",
              "[100 rows x 2 columns]"
            ],
            "text/html": [
              "\n",
              "  <div id=\"df-34f9388a-22d7-4cb5-859f-e2d108bacf24\">\n",
              "    <div class=\"colab-df-container\">\n",
              "      <div>\n",
              "<style scoped>\n",
              "    .dataframe tbody tr th:only-of-type {\n",
              "        vertical-align: middle;\n",
              "    }\n",
              "\n",
              "    .dataframe tbody tr th {\n",
              "        vertical-align: top;\n",
              "    }\n",
              "\n",
              "    .dataframe thead th {\n",
              "        text-align: right;\n",
              "    }\n",
              "</style>\n",
              "<table border=\"1\" class=\"dataframe\">\n",
              "  <thead>\n",
              "    <tr style=\"text-align: right;\">\n",
              "      <th></th>\n",
              "      <th>loss</th>\n",
              "      <th>accuracy</th>\n",
              "    </tr>\n",
              "  </thead>\n",
              "  <tbody>\n",
              "    <tr>\n",
              "      <th>0</th>\n",
              "      <td>0.680529</td>\n",
              "      <td>0.444444</td>\n",
              "    </tr>\n",
              "    <tr>\n",
              "      <th>1</th>\n",
              "      <td>0.667389</td>\n",
              "      <td>0.444444</td>\n",
              "    </tr>\n",
              "    <tr>\n",
              "      <th>2</th>\n",
              "      <td>0.663052</td>\n",
              "      <td>0.555556</td>\n",
              "    </tr>\n",
              "    <tr>\n",
              "      <th>3</th>\n",
              "      <td>0.660589</td>\n",
              "      <td>0.555556</td>\n",
              "    </tr>\n",
              "    <tr>\n",
              "      <th>4</th>\n",
              "      <td>0.655482</td>\n",
              "      <td>0.666667</td>\n",
              "    </tr>\n",
              "    <tr>\n",
              "      <th>...</th>\n",
              "      <td>...</td>\n",
              "      <td>...</td>\n",
              "    </tr>\n",
              "    <tr>\n",
              "      <th>95</th>\n",
              "      <td>0.137206</td>\n",
              "      <td>1.000000</td>\n",
              "    </tr>\n",
              "    <tr>\n",
              "      <th>96</th>\n",
              "      <td>0.134413</td>\n",
              "      <td>1.000000</td>\n",
              "    </tr>\n",
              "    <tr>\n",
              "      <th>97</th>\n",
              "      <td>0.131692</td>\n",
              "      <td>1.000000</td>\n",
              "    </tr>\n",
              "    <tr>\n",
              "      <th>98</th>\n",
              "      <td>0.129040</td>\n",
              "      <td>1.000000</td>\n",
              "    </tr>\n",
              "    <tr>\n",
              "      <th>99</th>\n",
              "      <td>0.126456</td>\n",
              "      <td>1.000000</td>\n",
              "    </tr>\n",
              "  </tbody>\n",
              "</table>\n",
              "<p>100 rows × 2 columns</p>\n",
              "</div>\n",
              "      <button class=\"colab-df-convert\" onclick=\"convertToInteractive('df-34f9388a-22d7-4cb5-859f-e2d108bacf24')\"\n",
              "              title=\"Convert this dataframe to an interactive table.\"\n",
              "              style=\"display:none;\">\n",
              "        \n",
              "  <svg xmlns=\"http://www.w3.org/2000/svg\" height=\"24px\"viewBox=\"0 0 24 24\"\n",
              "       width=\"24px\">\n",
              "    <path d=\"M0 0h24v24H0V0z\" fill=\"none\"/>\n",
              "    <path d=\"M18.56 5.44l.94 2.06.94-2.06 2.06-.94-2.06-.94-.94-2.06-.94 2.06-2.06.94zm-11 1L8.5 8.5l.94-2.06 2.06-.94-2.06-.94L8.5 2.5l-.94 2.06-2.06.94zm10 10l.94 2.06.94-2.06 2.06-.94-2.06-.94-.94-2.06-.94 2.06-2.06.94z\"/><path d=\"M17.41 7.96l-1.37-1.37c-.4-.4-.92-.59-1.43-.59-.52 0-1.04.2-1.43.59L10.3 9.45l-7.72 7.72c-.78.78-.78 2.05 0 2.83L4 21.41c.39.39.9.59 1.41.59.51 0 1.02-.2 1.41-.59l7.78-7.78 2.81-2.81c.8-.78.8-2.07 0-2.86zM5.41 20L4 18.59l7.72-7.72 1.47 1.35L5.41 20z\"/>\n",
              "  </svg>\n",
              "      </button>\n",
              "      \n",
              "  <style>\n",
              "    .colab-df-container {\n",
              "      display:flex;\n",
              "      flex-wrap:wrap;\n",
              "      gap: 12px;\n",
              "    }\n",
              "\n",
              "    .colab-df-convert {\n",
              "      background-color: #E8F0FE;\n",
              "      border: none;\n",
              "      border-radius: 50%;\n",
              "      cursor: pointer;\n",
              "      display: none;\n",
              "      fill: #1967D2;\n",
              "      height: 32px;\n",
              "      padding: 0 0 0 0;\n",
              "      width: 32px;\n",
              "    }\n",
              "\n",
              "    .colab-df-convert:hover {\n",
              "      background-color: #E2EBFA;\n",
              "      box-shadow: 0px 1px 2px rgba(60, 64, 67, 0.3), 0px 1px 3px 1px rgba(60, 64, 67, 0.15);\n",
              "      fill: #174EA6;\n",
              "    }\n",
              "\n",
              "    [theme=dark] .colab-df-convert {\n",
              "      background-color: #3B4455;\n",
              "      fill: #D2E3FC;\n",
              "    }\n",
              "\n",
              "    [theme=dark] .colab-df-convert:hover {\n",
              "      background-color: #434B5C;\n",
              "      box-shadow: 0px 1px 3px 1px rgba(0, 0, 0, 0.15);\n",
              "      filter: drop-shadow(0px 1px 2px rgba(0, 0, 0, 0.3));\n",
              "      fill: #FFFFFF;\n",
              "    }\n",
              "  </style>\n",
              "\n",
              "      <script>\n",
              "        const buttonEl =\n",
              "          document.querySelector('#df-34f9388a-22d7-4cb5-859f-e2d108bacf24 button.colab-df-convert');\n",
              "        buttonEl.style.display =\n",
              "          google.colab.kernel.accessAllowed ? 'block' : 'none';\n",
              "\n",
              "        async function convertToInteractive(key) {\n",
              "          const element = document.querySelector('#df-34f9388a-22d7-4cb5-859f-e2d108bacf24');\n",
              "          const dataTable =\n",
              "            await google.colab.kernel.invokeFunction('convertToInteractive',\n",
              "                                                     [key], {});\n",
              "          if (!dataTable) return;\n",
              "\n",
              "          const docLinkHtml = 'Like what you see? Visit the ' +\n",
              "            '<a target=\"_blank\" href=https://colab.research.google.com/notebooks/data_table.ipynb>data table notebook</a>'\n",
              "            + ' to learn more about interactive tables.';\n",
              "          element.innerHTML = '';\n",
              "          dataTable['output_type'] = 'display_data';\n",
              "          await google.colab.output.renderOutput(dataTable, element);\n",
              "          const docLink = document.createElement('div');\n",
              "          docLink.innerHTML = docLinkHtml;\n",
              "          element.appendChild(docLink);\n",
              "        }\n",
              "      </script>\n",
              "    </div>\n",
              "  </div>\n",
              "  "
            ]
          },
          "metadata": {},
          "execution_count": 33
        }
      ]
    },
    {
      "cell_type": "code",
      "source": [
        "plt.plot(history_df_1.accuracy)"
      ],
      "metadata": {
        "colab": {
          "base_uri": "https://localhost:8080/",
          "height": 282
        },
        "id": "hDGBjDIpZ2gK",
        "outputId": "de3d3a27-9073-402c-d4f3-85c2e1bcbfac"
      },
      "execution_count": 34,
      "outputs": [
        {
          "output_type": "execute_result",
          "data": {
            "text/plain": [
              "[<matplotlib.lines.Line2D at 0x7f9c1829e640>]"
            ]
          },
          "metadata": {},
          "execution_count": 34
        },
        {
          "output_type": "display_data",
          "data": {
            "text/plain": [
              "<Figure size 432x288 with 1 Axes>"
            ],
            "image/png": "[encoded data removed]"
          },
          "metadata": {
            "needs_background": "light"
          }
        }
      ]
    },
    {
      "cell_type": "markdown",
      "source": [
        "# **Практика**"
      ],
      "metadata": {
        "id": "LTNb2xl43si5"
      }
    },
    {
      "cell_type": "code",
      "source": [
        "import matplotlib.cm as cm\n",
        "from matplotlib.colors import ListedColormap, LinearSegmentedColormap, Normalize\n",
        "from sklearn.metrics import accuracy_score\n",
        "\n",
        "\n",
        "%matplotlib inline\n",
        "np.random.seed(10)\n",
        "\n",
        "colors = ['red', \"blue\"]\n",
        "labels_cmap = ListedColormap(colors, 2)\n",
        "colors = [(1, 0, 0), (1, 1, 1), (0, 0, 1)]  # R -> W -> B\n",
        "main_cmap = LinearSegmentedColormap.from_list(\"main_scheme\", colors, N=300)\n",
        "\n",
        "def show_data(X, y):\n",
        "    plt.figure(figsize=(5, 5))\n",
        "    plt.scatter(X[:, 0], X[:, 1], s=120, color=labels_cmap(y))\n",
        "    \n",
        "\n",
        "def show_descision_boundary(clf, limits, binary=False, X=None, y=None, n_lines=10, show_lines=False,\n",
        "                           figsize=(5, 5), ax=None):\n",
        "    if limits is None:\n",
        "        if X is not None:\n",
        "            xs = [X[:, 0].min() - .3, X[:, 0].max() + .3]\n",
        "            ys = [X[:, 1].min() - .3, X[:, 1].max() + .3]\n",
        "        else:\n",
        "            xs = [-1, 1]\n",
        "            ys = [-1, 1]\n",
        "    else:\n",
        "        xs, ys = limits\n",
        "    \n",
        "    x_min, x_max = xs\n",
        "    y_min, y_max = ys\n",
        "    \n",
        "    xx, yy = np.meshgrid(np.arange(x_min, x_max, 0.01),\n",
        "                         np.arange(y_min, y_max, 0.01))\n",
        "    \n",
        "    if ax is None:\n",
        "        fig = plt.figure(figsize=figsize)\n",
        "        ax = fig.add_subplot(1, 1, 1)\n",
        "    \n",
        "    if binary:\n",
        "        Z = clf.predict(np.c_[xx.ravel(), xx.ravel()])\n",
        "        Z = clf.predict(np.c_[xx.ravel(), yy.ravel()])\n",
        "        norm = Normalize(vmin=0.,vmax=1.)\n",
        "    else:\n",
        "        Z = clf(np.c_[xx.ravel(), xx.ravel()])\n",
        "        Z = clf(np.c_[xx.ravel(), yy.ravel()])\n",
        "        #if clf.prob_output:\n",
        "        #    norm = Normalize(vmin=0.,vmax=1.)\n",
        "        #else:\n",
        "        norm = Normalize(vmin=-10.,vmax=10., clip=True)\n",
        "        Z = Z.numpy() \n",
        "    \n",
        "    Z = Z.reshape(xx.shape)\n",
        "    Z = Z.astype(np.float32)\n",
        "    \n",
        "    ax.contourf(xx, yy, Z, n_lines, alpha=0.4, cmap=main_cmap, norm=norm)\n",
        "    if show_lines:\n",
        "        cp = ax.contour(xx, yy, Z, n_lines)\n",
        "        ax.clabel(cp, inline=True, \n",
        "              fontsize=10, colors=\"green\")\n",
        "    \n",
        "    if y is not None:\n",
        "        X = np.array(X)\n",
        "        y = np.array(y)\n",
        "        ax.scatter(X[:, 0], X[:, 1], s=120, color=labels_cmap(y),\n",
        "                   zorder=4)\n",
        "        \n",
        "\n",
        "def eval_model(model, X, y):\n",
        "    accuracy = model.evaluate(X, y)[1]\n",
        "    if accuracy == 1.0:\n",
        "        print(\"Perfect!\")\n",
        "    elif  accuracy > 0.9:\n",
        "        print(\"Well done! Can you make 100%?\")\n",
        "    else:\n",
        "        print(\"Don't give up!\")\n",
        "    return accuracy"
      ],
      "metadata": {
        "id": "F7PfRQCZ3sGO"
      },
      "execution_count": 35,
      "outputs": []
    },
    {
      "cell_type": "markdown",
      "source": [
        "# Задача 1"
      ],
      "metadata": {
        "id": "v-dqh7Id3_NA"
      }
    },
    {
      "cell_type": "code",
      "source": [
        "X = np.random.rand(200, 2) - 0.5\n",
        "y = ((X[:, 0] < 0) ^ (X[:, 1] < 0))\n",
        "X = X*2\n",
        "show_data(X, y)"
      ],
      "metadata": {
        "colab": {
          "base_uri": "https://localhost:8080/",
          "height": 320
        },
        "id": "TPUUDoTj4Es7",
        "outputId": "714369af-65aa-43ee-e5e9-be9f0a3aa538"
      },
      "execution_count": 38,
      "outputs": [
        {
          "output_type": "display_data",
          "data": {
            "text/plain": [
              "<Figure size 360x360 with 1 Axes>"
            ],
            "image/png": "[encoded data removed]"
          },
          "metadata": {
            "needs_background": "light"
          }
        }
      ]
    },
    {
      "cell_type": "code",
      "source": [
        "model = tf.keras.Sequential()\n",
        "model.add(tf.keras.layers.Dense(4, input_shape=(2,), activation=\"sigmoid\"))\n",
        "model.add(tf.keras.layers.Dense(4, activation=\"sigmoid\"))\n",
        "model.add(tf.keras.layers.Dense(4, activation=\"sigmoid\"))\n",
        "model.add(tf.keras.layers.Dense(1))\n",
        "\n",
        "optimizer = tf.keras.optimizers.Adam(learning_rate=0.05)\n",
        "loss = tf.keras.losses.BinaryCrossentropy(from_logits=True)"
      ],
      "metadata": {
        "id": "hxbGHtdS4fsj"
      },
      "execution_count": 41,
      "outputs": []
    },
    {
      "cell_type": "code",
      "source": [
        "model.compile(optimizer=optimizer, loss=loss, metrics=[\"accuracy\"]) \n",
        "history = model.fit(X, y, epochs=200, verbose=1, batch_size=64, shuffle=True)"
      ],
      "metadata": {
        "colab": {
          "base_uri": "https://localhost:8080/"
        },
        "id": "Kbpmd4625D_J",
        "outputId": "1fe78696-c7ce-4639-f87c-7bb7d43ab5da"
      },
      "execution_count": 42,
      "outputs": [
        {
          "output_type": "stream",
          "name": "stdout",
          "text": [
            "Epoch 1/200\n",
            "4/4 [==============================] - 1s 4ms/step - loss: 0.8066 - accuracy: 0.4350\n",
            "Epoch 2/200\n",
            "4/4 [==============================] - 0s 4ms/step - loss: 0.7027 - accuracy: 0.5550\n",
            "Epoch 3/200\n",
            "4/4 [==============================] - 0s 5ms/step - loss: 0.6864 - accuracy: 0.5550\n",
            "Epoch 4/200\n",
            "4/4 [==============================] - 0s 4ms/step - loss: 0.6909 - accuracy: 0.5550\n",
            "Epoch 5/200\n",
            "4/4 [==============================] - 0s 3ms/step - loss: 0.6937 - accuracy: 0.5550\n",
            "Epoch 6/200\n",
            "4/4 [==============================] - 0s 4ms/step - loss: 0.6932 - accuracy: 0.5550\n",
            "Epoch 7/200\n",
            "4/4 [==============================] - 0s 3ms/step - loss: 0.6913 - accuracy: 0.5550\n",
            "Epoch 8/200\n",
            "4/4 [==============================] - 0s 3ms/step - loss: 0.6897 - accuracy: 0.5550\n",
            "Epoch 9/200\n",
            "4/4 [==============================] - 0s 3ms/step - loss: 0.6887 - accuracy: 0.5550\n",
            "Epoch 10/200\n",
            "4/4 [==============================] - 0s 4ms/step - loss: 0.6886 - accuracy: 0.5550\n",
            "Epoch 11/200\n",
            "4/4 [==============================] - 0s 4ms/step - loss: 0.6882 - accuracy: 0.5550\n",
            "Epoch 12/200\n",
            "4/4 [==============================] - 0s 6ms/step - loss: 0.6875 - accuracy: 0.5550\n",
            "Epoch 13/200\n",
            "4/4 [==============================] - 0s 4ms/step - loss: 0.6889 - accuracy: 0.5550\n",
            "Epoch 14/200\n",
            "4/4 [==============================] - 0s 6ms/step - loss: 0.6878 - accuracy: 0.5550\n",
            "Epoch 15/200\n",
            "4/4 [==============================] - 0s 4ms/step - loss: 0.6870 - accuracy: 0.5550\n",
            "Epoch 16/200\n",
            "4/4 [==============================] - 0s 4ms/step - loss: 0.6869 - accuracy: 0.5550\n",
            "Epoch 17/200\n",
            "4/4 [==============================] - 0s 4ms/step - loss: 0.6880 - accuracy: 0.5550\n",
            "Epoch 18/200\n",
            "4/4 [==============================] - 0s 4ms/step - loss: 0.6888 - accuracy: 0.5550\n",
            "Epoch 19/200\n",
            "4/4 [==============================] - 0s 3ms/step - loss: 0.6896 - accuracy: 0.5550\n",
            "Epoch 20/200\n",
            "4/4 [==============================] - 0s 4ms/step - loss: 0.6890 - accuracy: 0.5550\n",
            "Epoch 21/200\n",
            "4/4 [==============================] - 0s 4ms/step - loss: 0.6871 - accuracy: 0.5550\n",
            "Epoch 22/200\n",
            "4/4 [==============================] - 0s 4ms/step - loss: 0.6860 - accuracy: 0.5550\n",
            "Epoch 23/200\n",
            "4/4 [==============================] - 0s 4ms/step - loss: 0.6874 - accuracy: 0.5550\n",
            "Epoch 24/200\n",
            "4/4 [==============================] - 0s 4ms/step - loss: 0.6885 - accuracy: 0.5550\n",
            "Epoch 25/200\n",
            "4/4 [==============================] - 0s 4ms/step - loss: 0.6879 - accuracy: 0.5550\n",
            "Epoch 26/200\n",
            "4/4 [==============================] - 0s 4ms/step - loss: 0.6863 - accuracy: 0.5550\n",
            "Epoch 27/200\n",
            "4/4 [==============================] - 0s 4ms/step - loss: 0.6858 - accuracy: 0.5550\n",
            "Epoch 28/200\n",
            "4/4 [==============================] - 0s 4ms/step - loss: 0.6855 - accuracy: 0.5550\n",
            "Epoch 29/200\n",
            "4/4 [==============================] - 0s 4ms/step - loss: 0.6839 - accuracy: 0.5550\n",
            "Epoch 30/200\n",
            "4/4 [==============================] - 0s 6ms/step - loss: 0.6807 - accuracy: 0.5550\n",
            "Epoch 31/200\n",
            "4/4 [==============================] - 0s 4ms/step - loss: 0.6773 - accuracy: 0.5550\n",
            "Epoch 32/200\n",
            "4/4 [==============================] - 0s 4ms/step - loss: 0.6732 - accuracy: 0.5550\n",
            "Epoch 33/200\n",
            "4/4 [==============================] - 0s 4ms/step - loss: 0.6626 - accuracy: 0.5550\n",
            "Epoch 34/200\n",
            "4/4 [==============================] - 0s 4ms/step - loss: 0.6496 - accuracy: 0.5550\n",
            "Epoch 35/200\n",
            "4/4 [==============================] - 0s 4ms/step - loss: 0.6357 - accuracy: 0.6700\n",
            "Epoch 36/200\n",
            "4/4 [==============================] - 0s 4ms/step - loss: 0.6169 - accuracy: 0.7550\n",
            "Epoch 37/200\n",
            "4/4 [==============================] - 0s 4ms/step - loss: 0.5919 - accuracy: 0.7450\n",
            "Epoch 38/200\n",
            "4/4 [==============================] - 0s 4ms/step - loss: 0.5745 - accuracy: 0.7350\n",
            "Epoch 39/200\n",
            "4/4 [==============================] - 0s 5ms/step - loss: 0.5532 - accuracy: 0.7450\n",
            "Epoch 40/200\n",
            "4/4 [==============================] - 0s 4ms/step - loss: 0.5352 - accuracy: 0.7650\n",
            "Epoch 41/200\n",
            "4/4 [==============================] - 0s 4ms/step - loss: 0.5314 - accuracy: 0.7600\n",
            "Epoch 42/200\n",
            "4/4 [==============================] - 0s 4ms/step - loss: 0.5174 - accuracy: 0.7650\n",
            "Epoch 43/200\n",
            "4/4 [==============================] - 0s 4ms/step - loss: 0.5152 - accuracy: 0.7450\n",
            "Epoch 44/200\n",
            "4/4 [==============================] - 0s 3ms/step - loss: 0.5067 - accuracy: 0.7650\n",
            "Epoch 45/200\n",
            "4/4 [==============================] - 0s 5ms/step - loss: 0.5252 - accuracy: 0.7600\n",
            "Epoch 46/200\n",
            "4/4 [==============================] - 0s 3ms/step - loss: 0.5458 - accuracy: 0.7550\n",
            "Epoch 47/200\n",
            "4/4 [==============================] - 0s 3ms/step - loss: 0.5216 - accuracy: 0.7650\n",
            "Epoch 48/200\n",
            "4/4 [==============================] - 0s 3ms/step - loss: 0.5087 - accuracy: 0.7700\n",
            "Epoch 49/200\n",
            "4/4 [==============================] - 0s 4ms/step - loss: 0.5108 - accuracy: 0.7550\n",
            "Epoch 50/200\n",
            "4/4 [==============================] - 0s 3ms/step - loss: 0.5081 - accuracy: 0.7500\n",
            "Epoch 51/200\n",
            "4/4 [==============================] - 0s 4ms/step - loss: 0.5072 - accuracy: 0.7650\n",
            "Epoch 52/200\n",
            "4/4 [==============================] - 0s 4ms/step - loss: 0.5089 - accuracy: 0.7650\n",
            "Epoch 53/200\n",
            "4/4 [==============================] - 0s 4ms/step - loss: 0.5083 - accuracy: 0.7700\n",
            "Epoch 54/200\n",
            "4/4 [==============================] - 0s 4ms/step - loss: 0.5058 - accuracy: 0.7700\n",
            "Epoch 55/200\n",
            "4/4 [==============================] - 0s 5ms/step - loss: 0.5072 - accuracy: 0.7650\n",
            "Epoch 56/200\n",
            "4/4 [==============================] - 0s 5ms/step - loss: 0.5086 - accuracy: 0.7650\n",
            "Epoch 57/200\n",
            "4/4 [==============================] - 0s 4ms/step - loss: 0.5070 - accuracy: 0.7650\n",
            "Epoch 58/200\n",
            "4/4 [==============================] - 0s 4ms/step - loss: 0.5037 - accuracy: 0.7650\n",
            "Epoch 59/200\n",
            "4/4 [==============================] - 0s 4ms/step - loss: 0.5045 - accuracy: 0.7700\n",
            "Epoch 60/200\n",
            "4/4 [==============================] - 0s 4ms/step - loss: 0.5026 - accuracy: 0.7750\n",
            "Epoch 61/200\n",
            "4/4 [==============================] - 0s 5ms/step - loss: 0.5046 - accuracy: 0.7700\n",
            "Epoch 62/200\n",
            "4/4 [==============================] - 0s 4ms/step - loss: 0.5056 - accuracy: 0.7700\n",
            "Epoch 63/200\n",
            "4/4 [==============================] - 0s 4ms/step - loss: 0.5025 - accuracy: 0.7700\n",
            "Epoch 64/200\n",
            "4/4 [==============================] - 0s 4ms/step - loss: 0.5004 - accuracy: 0.7700\n",
            "Epoch 65/200\n",
            "4/4 [==============================] - 0s 4ms/step - loss: 0.5020 - accuracy: 0.7700\n",
            "Epoch 66/200\n",
            "4/4 [==============================] - 0s 4ms/step - loss: 0.4992 - accuracy: 0.7700\n",
            "Epoch 67/200\n",
            "4/4 [==============================] - 0s 4ms/step - loss: 0.4968 - accuracy: 0.7700\n",
            "Epoch 68/200\n",
            "4/4 [==============================] - 0s 4ms/step - loss: 0.4970 - accuracy: 0.7700\n",
            "Epoch 69/200\n",
            "4/4 [==============================] - 0s 4ms/step - loss: 0.4972 - accuracy: 0.7700\n",
            "Epoch 70/200\n",
            "4/4 [==============================] - 0s 4ms/step - loss: 0.4977 - accuracy: 0.7700\n",
            "Epoch 71/200\n",
            "4/4 [==============================] - 0s 4ms/step - loss: 0.4969 - accuracy: 0.7700\n",
            "Epoch 72/200\n",
            "4/4 [==============================] - 0s 4ms/step - loss: 0.4939 - accuracy: 0.7700\n",
            "Epoch 73/200\n",
            "4/4 [==============================] - 0s 5ms/step - loss: 0.4925 - accuracy: 0.7700\n",
            "Epoch 74/200\n",
            "4/4 [==============================] - 0s 4ms/step - loss: 0.4903 - accuracy: 0.7700\n",
            "Epoch 75/200\n",
            "4/4 [==============================] - 0s 4ms/step - loss: 0.4889 - accuracy: 0.7700\n",
            "Epoch 76/200\n",
            "4/4 [==============================] - 0s 3ms/step - loss: 0.4890 - accuracy: 0.7700\n",
            "Epoch 77/200\n",
            "4/4 [==============================] - 0s 4ms/step - loss: 0.4844 - accuracy: 0.7700\n",
            "Epoch 78/200\n",
            "4/4 [==============================] - 0s 4ms/step - loss: 0.4856 - accuracy: 0.7650\n",
            "Epoch 79/200\n",
            "4/4 [==============================] - 0s 4ms/step - loss: 0.4904 - accuracy: 0.7650\n",
            "Epoch 80/200\n",
            "4/4 [==============================] - 0s 4ms/step - loss: 0.4853 - accuracy: 0.7600\n",
            "Epoch 81/200\n",
            "4/4 [==============================] - 0s 4ms/step - loss: 0.4789 - accuracy: 0.7700\n",
            "Epoch 82/200\n",
            "4/4 [==============================] - 0s 4ms/step - loss: 0.4822 - accuracy: 0.7750\n",
            "Epoch 83/200\n",
            "4/4 [==============================] - 0s 4ms/step - loss: 0.4824 - accuracy: 0.7800\n",
            "Epoch 84/200\n",
            "4/4 [==============================] - 0s 5ms/step - loss: 0.4702 - accuracy: 0.7800\n",
            "Epoch 85/200\n",
            "4/4 [==============================] - 0s 3ms/step - loss: 0.4655 - accuracy: 0.7750\n",
            "Epoch 86/200\n",
            "4/4 [==============================] - 0s 5ms/step - loss: 0.4636 - accuracy: 0.7850\n",
            "Epoch 87/200\n",
            "4/4 [==============================] - 0s 4ms/step - loss: 0.4595 - accuracy: 0.7850\n",
            "Epoch 88/200\n",
            "4/4 [==============================] - 0s 4ms/step - loss: 0.4581 - accuracy: 0.7850\n",
            "Epoch 89/200\n",
            "4/4 [==============================] - 0s 4ms/step - loss: 0.4573 - accuracy: 0.7900\n",
            "Epoch 90/200\n",
            "4/4 [==============================] - 0s 4ms/step - loss: 0.4588 - accuracy: 0.7900\n",
            "Epoch 91/200\n",
            "4/4 [==============================] - 0s 3ms/step - loss: 0.4577 - accuracy: 0.7800\n",
            "Epoch 92/200\n",
            "4/4 [==============================] - 0s 4ms/step - loss: 0.4459 - accuracy: 0.8000\n",
            "Epoch 93/200\n",
            "4/4 [==============================] - 0s 3ms/step - loss: 0.4382 - accuracy: 0.8050\n",
            "Epoch 94/200\n",
            "4/4 [==============================] - 0s 4ms/step - loss: 0.4355 - accuracy: 0.8050\n",
            "Epoch 95/200\n",
            "4/4 [==============================] - 0s 5ms/step - loss: 0.4268 - accuracy: 0.8050\n",
            "Epoch 96/200\n",
            "4/4 [==============================] - 0s 4ms/step - loss: 0.4164 - accuracy: 0.8000\n",
            "Epoch 97/200\n",
            "4/4 [==============================] - 0s 4ms/step - loss: 0.3942 - accuracy: 0.8050\n",
            "Epoch 98/200\n",
            "4/4 [==============================] - 0s 4ms/step - loss: 0.3671 - accuracy: 0.8050\n",
            "Epoch 99/200\n",
            "4/4 [==============================] - 0s 4ms/step - loss: 0.3311 - accuracy: 0.8050\n",
            "Epoch 100/200\n",
            "4/4 [==============================] - 0s 4ms/step - loss: 0.2919 - accuracy: 0.8050\n",
            "Epoch 101/200\n",
            "4/4 [==============================] - 0s 4ms/step - loss: 0.2611 - accuracy: 0.9650\n",
            "Epoch 102/200\n",
            "4/4 [==============================] - 0s 6ms/step - loss: 0.2309 - accuracy: 0.9650\n",
            "Epoch 103/200\n",
            "4/4 [==============================] - 0s 4ms/step - loss: 0.2058 - accuracy: 0.9700\n",
            "Epoch 104/200\n",
            "4/4 [==============================] - 0s 4ms/step - loss: 0.1867 - accuracy: 0.9650\n",
            "Epoch 105/200\n",
            "4/4 [==============================] - 0s 3ms/step - loss: 0.1716 - accuracy: 0.9650\n",
            "Epoch 106/200\n",
            "4/4 [==============================] - 0s 4ms/step - loss: 0.1614 - accuracy: 0.9700\n",
            "Epoch 107/200\n",
            "4/4 [==============================] - 0s 4ms/step - loss: 0.1453 - accuracy: 0.9800\n",
            "Epoch 108/200\n",
            "4/4 [==============================] - 0s 4ms/step - loss: 0.1477 - accuracy: 0.9650\n",
            "Epoch 109/200\n",
            "4/4 [==============================] - 0s 3ms/step - loss: 0.1447 - accuracy: 0.9650\n",
            "Epoch 110/200\n",
            "4/4 [==============================] - 0s 4ms/step - loss: 0.1342 - accuracy: 0.9650\n",
            "Epoch 111/200\n",
            "4/4 [==============================] - 0s 4ms/step - loss: 0.1138 - accuracy: 0.9750\n",
            "Epoch 112/200\n",
            "4/4 [==============================] - 0s 5ms/step - loss: 0.0939 - accuracy: 0.9850\n",
            "Epoch 113/200\n",
            "4/4 [==============================] - 0s 6ms/step - loss: 0.1003 - accuracy: 0.9750\n",
            "Epoch 114/200\n",
            "4/4 [==============================] - 0s 4ms/step - loss: 0.0811 - accuracy: 0.9750\n",
            "Epoch 115/200\n",
            "4/4 [==============================] - 0s 3ms/step - loss: 0.1202 - accuracy: 0.9650\n",
            "Epoch 116/200\n",
            "4/4 [==============================] - 0s 4ms/step - loss: 0.0742 - accuracy: 0.9900\n",
            "Epoch 117/200\n",
            "4/4 [==============================] - 0s 4ms/step - loss: 0.0797 - accuracy: 0.9750\n",
            "Epoch 118/200\n",
            "4/4 [==============================] - 0s 4ms/step - loss: 0.0684 - accuracy: 0.9800\n",
            "Epoch 119/200\n",
            "4/4 [==============================] - 0s 4ms/step - loss: 0.0629 - accuracy: 1.0000\n",
            "Epoch 120/200\n",
            "4/4 [==============================] - 0s 4ms/step - loss: 0.0590 - accuracy: 1.0000\n",
            "Epoch 121/200\n",
            "4/4 [==============================] - 0s 4ms/step - loss: 0.0505 - accuracy: 1.0000\n",
            "Epoch 122/200\n",
            "4/4 [==============================] - 0s 4ms/step - loss: 0.0486 - accuracy: 0.9950\n",
            "Epoch 123/200\n",
            "4/4 [==============================] - 0s 3ms/step - loss: 0.0464 - accuracy: 0.9950\n",
            "Epoch 124/200\n",
            "4/4 [==============================] - 0s 4ms/step - loss: 0.0450 - accuracy: 0.9950\n",
            "Epoch 125/200\n",
            "4/4 [==============================] - 0s 5ms/step - loss: 0.0419 - accuracy: 1.0000\n",
            "Epoch 126/200\n",
            "4/4 [==============================] - 0s 4ms/step - loss: 0.0392 - accuracy: 1.0000\n",
            "Epoch 127/200\n",
            "4/4 [==============================] - 0s 4ms/step - loss: 0.0381 - accuracy: 1.0000\n",
            "Epoch 128/200\n",
            "4/4 [==============================] - 0s 4ms/step - loss: 0.0376 - accuracy: 1.0000\n",
            "Epoch 129/200\n",
            "4/4 [==============================] - 0s 4ms/step - loss: 0.0361 - accuracy: 1.0000\n",
            "Epoch 130/200\n",
            "4/4 [==============================] - 0s 4ms/step - loss: 0.0342 - accuracy: 1.0000\n",
            "Epoch 131/200\n",
            "4/4 [==============================] - 0s 4ms/step - loss: 0.0330 - accuracy: 1.0000\n",
            "Epoch 132/200\n",
            "4/4 [==============================] - 0s 5ms/step - loss: 0.0319 - accuracy: 1.0000\n",
            "Epoch 133/200\n",
            "4/4 [==============================] - 0s 4ms/step - loss: 0.0306 - accuracy: 1.0000\n",
            "Epoch 134/200\n",
            "4/4 [==============================] - 0s 4ms/step - loss: 0.0298 - accuracy: 1.0000\n",
            "Epoch 135/200\n",
            "4/4 [==============================] - 0s 3ms/step - loss: 0.0291 - accuracy: 1.0000\n",
            "Epoch 136/200\n",
            "4/4 [==============================] - 0s 4ms/step - loss: 0.0283 - accuracy: 1.0000\n",
            "Epoch 137/200\n",
            "4/4 [==============================] - 0s 4ms/step - loss: 0.0276 - accuracy: 1.0000\n",
            "Epoch 138/200\n",
            "4/4 [==============================] - 0s 4ms/step - loss: 0.0318 - accuracy: 1.0000\n",
            "Epoch 139/200\n",
            "4/4 [==============================] - 0s 4ms/step - loss: 0.0278 - accuracy: 1.0000\n",
            "Epoch 140/200\n",
            "4/4 [==============================] - 0s 4ms/step - loss: 0.0252 - accuracy: 1.0000\n",
            "Epoch 141/200\n",
            "4/4 [==============================] - 0s 4ms/step - loss: 0.0240 - accuracy: 1.0000\n",
            "Epoch 142/200\n",
            "4/4 [==============================] - 0s 4ms/step - loss: 0.0232 - accuracy: 1.0000\n",
            "Epoch 143/200\n",
            "4/4 [==============================] - 0s 4ms/step - loss: 0.0227 - accuracy: 1.0000\n",
            "Epoch 144/200\n",
            "4/4 [==============================] - 0s 4ms/step - loss: 0.0219 - accuracy: 1.0000\n",
            "Epoch 145/200\n",
            "4/4 [==============================] - 0s 3ms/step - loss: 0.0228 - accuracy: 1.0000\n",
            "Epoch 146/200\n",
            "4/4 [==============================] - 0s 4ms/step - loss: 0.0221 - accuracy: 1.0000\n",
            "Epoch 147/200\n",
            "4/4 [==============================] - 0s 4ms/step - loss: 0.0240 - accuracy: 1.0000\n",
            "Epoch 148/200\n",
            "4/4 [==============================] - 0s 5ms/step - loss: 0.0217 - accuracy: 1.0000\n",
            "Epoch 149/200\n",
            "4/4 [==============================] - 0s 5ms/step - loss: 0.0194 - accuracy: 1.0000\n",
            "Epoch 150/200\n",
            "4/4 [==============================] - 0s 4ms/step - loss: 0.0195 - accuracy: 1.0000\n",
            "Epoch 151/200\n",
            "4/4 [==============================] - 0s 4ms/step - loss: 0.0198 - accuracy: 1.0000\n",
            "Epoch 152/200\n",
            "4/4 [==============================] - 0s 4ms/step - loss: 0.0187 - accuracy: 1.0000\n",
            "Epoch 153/200\n",
            "4/4 [==============================] - 0s 4ms/step - loss: 0.0178 - accuracy: 1.0000\n",
            "Epoch 154/200\n",
            "4/4 [==============================] - 0s 4ms/step - loss: 0.0176 - accuracy: 1.0000\n",
            "Epoch 155/200\n",
            "4/4 [==============================] - 0s 4ms/step - loss: 0.0172 - accuracy: 1.0000\n",
            "Epoch 156/200\n",
            "4/4 [==============================] - 0s 4ms/step - loss: 0.0180 - accuracy: 1.0000\n",
            "Epoch 157/200\n",
            "4/4 [==============================] - 0s 4ms/step - loss: 0.0172 - accuracy: 1.0000\n",
            "Epoch 158/200\n",
            "4/4 [==============================] - 0s 4ms/step - loss: 0.0245 - accuracy: 0.9950\n",
            "Epoch 159/200\n",
            "4/4 [==============================] - 0s 4ms/step - loss: 0.0201 - accuracy: 1.0000\n",
            "Epoch 160/200\n",
            "4/4 [==============================] - 0s 4ms/step - loss: 0.0168 - accuracy: 1.0000\n",
            "Epoch 161/200\n",
            "4/4 [==============================] - 0s 4ms/step - loss: 0.0167 - accuracy: 1.0000\n",
            "Epoch 162/200\n",
            "4/4 [==============================] - 0s 4ms/step - loss: 0.0173 - accuracy: 0.9950\n",
            "Epoch 163/200\n",
            "4/4 [==============================] - 0s 4ms/step - loss: 0.0154 - accuracy: 1.0000\n",
            "Epoch 164/200\n",
            "4/4 [==============================] - 0s 4ms/step - loss: 0.0168 - accuracy: 1.0000\n",
            "Epoch 165/200\n",
            "4/4 [==============================] - 0s 4ms/step - loss: 0.0152 - accuracy: 1.0000\n",
            "Epoch 166/200\n",
            "4/4 [==============================] - 0s 4ms/step - loss: 0.0143 - accuracy: 1.0000\n",
            "Epoch 167/200\n",
            "4/4 [==============================] - 0s 4ms/step - loss: 0.0141 - accuracy: 1.0000\n",
            "Epoch 168/200\n",
            "4/4 [==============================] - 0s 4ms/step - loss: 0.0134 - accuracy: 1.0000\n",
            "Epoch 169/200\n",
            "4/4 [==============================] - 0s 4ms/step - loss: 0.0131 - accuracy: 1.0000\n",
            "Epoch 170/200\n",
            "4/4 [==============================] - 0s 4ms/step - loss: 0.0130 - accuracy: 1.0000\n",
            "Epoch 171/200\n",
            "4/4 [==============================] - 0s 4ms/step - loss: 0.0128 - accuracy: 1.0000\n",
            "Epoch 172/200\n",
            "4/4 [==============================] - 0s 4ms/step - loss: 0.0127 - accuracy: 1.0000\n",
            "Epoch 173/200\n",
            "4/4 [==============================] - 0s 4ms/step - loss: 0.0138 - accuracy: 1.0000\n",
            "Epoch 174/200\n",
            "4/4 [==============================] - 0s 4ms/step - loss: 0.0130 - accuracy: 1.0000\n",
            "Epoch 175/200\n",
            "4/4 [==============================] - 0s 4ms/step - loss: 0.0120 - accuracy: 1.0000\n",
            "Epoch 176/200\n",
            "4/4 [==============================] - 0s 4ms/step - loss: 0.0122 - accuracy: 1.0000\n",
            "Epoch 177/200\n",
            "4/4 [==============================] - 0s 4ms/step - loss: 0.0130 - accuracy: 1.0000\n",
            "Epoch 178/200\n",
            "4/4 [==============================] - 0s 5ms/step - loss: 0.0125 - accuracy: 1.0000\n",
            "Epoch 179/200\n",
            "4/4 [==============================] - 0s 4ms/step - loss: 0.0116 - accuracy: 1.0000\n",
            "Epoch 180/200\n",
            "4/4 [==============================] - 0s 4ms/step - loss: 0.0109 - accuracy: 1.0000\n",
            "Epoch 181/200\n",
            "4/4 [==============================] - 0s 4ms/step - loss: 0.0110 - accuracy: 1.0000\n",
            "Epoch 182/200\n",
            "4/4 [==============================] - 0s 3ms/step - loss: 0.0110 - accuracy: 1.0000\n",
            "Epoch 183/200\n",
            "4/4 [==============================] - 0s 4ms/step - loss: 0.0108 - accuracy: 1.0000\n",
            "Epoch 184/200\n",
            "4/4 [==============================] - 0s 6ms/step - loss: 0.0112 - accuracy: 1.0000\n",
            "Epoch 185/200\n",
            "4/4 [==============================] - 0s 4ms/step - loss: 0.0109 - accuracy: 1.0000\n",
            "Epoch 186/200\n",
            "4/4 [==============================] - 0s 4ms/step - loss: 0.0100 - accuracy: 1.0000\n",
            "Epoch 187/200\n",
            "4/4 [==============================] - 0s 4ms/step - loss: 0.0099 - accuracy: 1.0000\n",
            "Epoch 188/200\n",
            "4/4 [==============================] - 0s 4ms/step - loss: 0.0099 - accuracy: 1.0000\n",
            "Epoch 189/200\n",
            "4/4 [==============================] - 0s 4ms/step - loss: 0.0097 - accuracy: 1.0000\n",
            "Epoch 190/200\n",
            "4/4 [==============================] - 0s 4ms/step - loss: 0.0094 - accuracy: 1.0000\n",
            "Epoch 191/200\n",
            "4/4 [==============================] - 0s 5ms/step - loss: 0.0095 - accuracy: 1.0000\n",
            "Epoch 192/200\n",
            "4/4 [==============================] - 0s 4ms/step - loss: 0.0094 - accuracy: 1.0000\n",
            "Epoch 193/200\n",
            "4/4 [==============================] - 0s 4ms/step - loss: 0.0093 - accuracy: 1.0000\n",
            "Epoch 194/200\n",
            "4/4 [==============================] - 0s 5ms/step - loss: 0.0089 - accuracy: 1.0000\n",
            "Epoch 195/200\n",
            "4/4 [==============================] - 0s 4ms/step - loss: 0.0087 - accuracy: 1.0000\n",
            "Epoch 196/200\n",
            "4/4 [==============================] - 0s 5ms/step - loss: 0.0087 - accuracy: 1.0000\n",
            "Epoch 197/200\n",
            "4/4 [==============================] - 0s 4ms/step - loss: 0.0085 - accuracy: 1.0000\n",
            "Epoch 198/200\n",
            "4/4 [==============================] - 0s 4ms/step - loss: 0.0084 - accuracy: 1.0000\n",
            "Epoch 199/200\n",
            "4/4 [==============================] - 0s 4ms/step - loss: 0.0084 - accuracy: 1.0000\n",
            "Epoch 200/200\n",
            "4/4 [==============================] - 0s 4ms/step - loss: 0.0082 - accuracy: 1.0000\n"
          ]
        }
      ]
    },
    {
      "cell_type": "code",
      "source": [
        "limits = [[-0.6, 0.6], [-0.6, 0.6]]\n",
        "eval_model(model, X, y)\n",
        "show_descision_boundary(limits=None, clf=model, binary=False,\n",
        "                                X=X,\n",
        "                                y=y, \n",
        "                                n_lines=50,\n",
        "                                show_lines=False)"
      ],
      "metadata": {
        "colab": {
          "base_uri": "https://localhost:8080/",
          "height": 354
        },
        "id": "aXX1oBTu5RD3",
        "outputId": "84200b03-869b-4d13-d0b3-731f3befc988"
      },
      "execution_count": 43,
      "outputs": [
        {
          "output_type": "stream",
          "name": "stdout",
          "text": [
            "7/7 [==============================] - 0s 3ms/step - loss: 0.0081 - accuracy: 1.0000\n",
            "Perfect!\n"
          ]
        },
        {
          "output_type": "display_data",
          "data": {
            "text/plain": [
              "<Figure size 360x360 with 1 Axes>"
            ],
            "image/png": "[encoded data removed]"
          },
          "metadata": {
            "needs_background": "light"
          }
        }
      ]
    },
    {
      "cell_type": "code",
      "source": [
        "history_df_2 = pd.DataFrame(history.history)\n",
        "history_df_2"
      ],
      "metadata": {
        "colab": {
          "base_uri": "https://localhost:8080/",
          "height": 419
        },
        "id": "68GcYGza545W",
        "outputId": "a4165f09-249b-458f-fa52-6de056271a66"
      },
      "execution_count": 45,
      "outputs": [
        {
          "output_type": "execute_result",
          "data": {
            "text/plain": [
              "         loss  accuracy\n",
              "0    0.806606     0.435\n",
              "1    0.702678     0.555\n",
              "2    0.686417     0.555\n",
              "3    0.690882     0.555\n",
              "4    0.693726     0.555\n",
              "..        ...       ...\n",
              "195  0.008680     1.000\n",
              "196  0.008541     1.000\n",
              "197  0.008441     1.000\n",
              "198  0.008350     1.000\n",
              "199  0.008202     1.000\n",
              "\n",
              "[200 rows x 2 columns]"
            ],
            "text/html": [
              "\n",
              "  <div id=\"df-2267f72f-c987-4e40-b23b-6868531b0644\">\n",
              "    <div class=\"colab-df-container\">\n",
              "      <div>\n",
              "<style scoped>\n",
              "    .dataframe tbody tr th:only-of-type {\n",
              "        vertical-align: middle;\n",
              "    }\n",
              "\n",
              "    .dataframe tbody tr th {\n",
              "        vertical-align: top;\n",
              "    }\n",
              "\n",
              "    .dataframe thead th {\n",
              "        text-align: right;\n",
              "    }\n",
              "</style>\n",
              "<table border=\"1\" class=\"dataframe\">\n",
              "  <thead>\n",
              "    <tr style=\"text-align: right;\">\n",
              "      <th></th>\n",
              "      <th>loss</th>\n",
              "      <th>accuracy</th>\n",
              "    </tr>\n",
              "  </thead>\n",
              "  <tbody>\n",
              "    <tr>\n",
              "      <th>0</th>\n",
              "      <td>0.806606</td>\n",
              "      <td>0.435</td>\n",
              "    </tr>\n",
              "    <tr>\n",
              "      <th>1</th>\n",
              "      <td>0.702678</td>\n",
              "      <td>0.555</td>\n",
              "    </tr>\n",
              "    <tr>\n",
              "      <th>2</th>\n",
              "      <td>0.686417</td>\n",
              "      <td>0.555</td>\n",
              "    </tr>\n",
              "    <tr>\n",
              "      <th>3</th>\n",
              "      <td>0.690882</td>\n",
              "      <td>0.555</td>\n",
              "    </tr>\n",
              "    <tr>\n",
              "      <th>4</th>\n",
              "      <td>0.693726</td>\n",
              "      <td>0.555</td>\n",
              "    </tr>\n",
              "    <tr>\n",
              "      <th>...</th>\n",
              "      <td>...</td>\n",
              "      <td>...</td>\n",
              "    </tr>\n",
              "    <tr>\n",
              "      <th>195</th>\n",
              "      <td>0.008680</td>\n",
              "      <td>1.000</td>\n",
              "    </tr>\n",
              "    <tr>\n",
              "      <th>196</th>\n",
              "      <td>0.008541</td>\n",
              "      <td>1.000</td>\n",
              "    </tr>\n",
              "    <tr>\n",
              "      <th>197</th>\n",
              "      <td>0.008441</td>\n",
              "      <td>1.000</td>\n",
              "    </tr>\n",
              "    <tr>\n",
              "      <th>198</th>\n",
              "      <td>0.008350</td>\n",
              "      <td>1.000</td>\n",
              "    </tr>\n",
              "    <tr>\n",
              "      <th>199</th>\n",
              "      <td>0.008202</td>\n",
              "      <td>1.000</td>\n",
              "    </tr>\n",
              "  </tbody>\n",
              "</table>\n",
              "<p>200 rows × 2 columns</p>\n",
              "</div>\n",
              "      <button class=\"colab-df-convert\" onclick=\"convertToInteractive('df-2267f72f-c987-4e40-b23b-6868531b0644')\"\n",
              "              title=\"Convert this dataframe to an interactive table.\"\n",
              "              style=\"display:none;\">\n",
              "        \n",
              "  <svg xmlns=\"http://www.w3.org/2000/svg\" height=\"24px\"viewBox=\"0 0 24 24\"\n",
              "       width=\"24px\">\n",
              "    <path d=\"M0 0h24v24H0V0z\" fill=\"none\"/>\n",
              "    <path d=\"M18.56 5.44l.94 2.06.94-2.06 2.06-.94-2.06-.94-.94-2.06-.94 2.06-2.06.94zm-11 1L8.5 8.5l.94-2.06 2.06-.94-2.06-.94L8.5 2.5l-.94 2.06-2.06.94zm10 10l.94 2.06.94-2.06 2.06-.94-2.06-.94-.94-2.06-.94 2.06-2.06.94z\"/><path d=\"M17.41 7.96l-1.37-1.37c-.4-.4-.92-.59-1.43-.59-.52 0-1.04.2-1.43.59L10.3 9.45l-7.72 7.72c-.78.78-.78 2.05 0 2.83L4 21.41c.39.39.9.59 1.41.59.51 0 1.02-.2 1.41-.59l7.78-7.78 2.81-2.81c.8-.78.8-2.07 0-2.86zM5.41 20L4 18.59l7.72-7.72 1.47 1.35L5.41 20z\"/>\n",
              "  </svg>\n",
              "      </button>\n",
              "      \n",
              "  <style>\n",
              "    .colab-df-container {\n",
              "      display:flex;\n",
              "      flex-wrap:wrap;\n",
              "      gap: 12px;\n",
              "    }\n",
              "\n",
              "    .colab-df-convert {\n",
              "      background-color: #E8F0FE;\n",
              "      border: none;\n",
              "      border-radius: 50%;\n",
              "      cursor: pointer;\n",
              "      display: none;\n",
              "      fill: #1967D2;\n",
              "      height: 32px;\n",
              "      padding: 0 0 0 0;\n",
              "      width: 32px;\n",
              "    }\n",
              "\n",
              "    .colab-df-convert:hover {\n",
              "      background-color: #E2EBFA;\n",
              "      box-shadow: 0px 1px 2px rgba(60, 64, 67, 0.3), 0px 1px 3px 1px rgba(60, 64, 67, 0.15);\n",
              "      fill: #174EA6;\n",
              "    }\n",
              "\n",
              "    [theme=dark] .colab-df-convert {\n",
              "      background-color: #3B4455;\n",
              "      fill: #D2E3FC;\n",
              "    }\n",
              "\n",
              "    [theme=dark] .colab-df-convert:hover {\n",
              "      background-color: #434B5C;\n",
              "      box-shadow: 0px 1px 3px 1px rgba(0, 0, 0, 0.15);\n",
              "      filter: drop-shadow(0px 1px 2px rgba(0, 0, 0, 0.3));\n",
              "      fill: #FFFFFF;\n",
              "    }\n",
              "  </style>\n",
              "\n",
              "      <script>\n",
              "        const buttonEl =\n",
              "          document.querySelector('#df-2267f72f-c987-4e40-b23b-6868531b0644 button.colab-df-convert');\n",
              "        buttonEl.style.display =\n",
              "          google.colab.kernel.accessAllowed ? 'block' : 'none';\n",
              "\n",
              "        async function convertToInteractive(key) {\n",
              "          const element = document.querySelector('#df-2267f72f-c987-4e40-b23b-6868531b0644');\n",
              "          const dataTable =\n",
              "            await google.colab.kernel.invokeFunction('convertToInteractive',\n",
              "                                                     [key], {});\n",
              "          if (!dataTable) return;\n",
              "\n",
              "          const docLinkHtml = 'Like what you see? Visit the ' +\n",
              "            '<a target=\"_blank\" href=https://colab.research.google.com/notebooks/data_table.ipynb>data table notebook</a>'\n",
              "            + ' to learn more about interactive tables.';\n",
              "          element.innerHTML = '';\n",
              "          dataTable['output_type'] = 'display_data';\n",
              "          await google.colab.output.renderOutput(dataTable, element);\n",
              "          const docLink = document.createElement('div');\n",
              "          docLink.innerHTML = docLinkHtml;\n",
              "          element.appendChild(docLink);\n",
              "        }\n",
              "      </script>\n",
              "    </div>\n",
              "  </div>\n",
              "  "
            ]
          },
          "metadata": {},
          "execution_count": 45
        }
      ]
    },
    {
      "cell_type": "code",
      "source": [
        "plt.plot(history_df_2.loss)"
      ],
      "metadata": {
        "colab": {
          "base_uri": "https://localhost:8080/",
          "height": 282
        },
        "id": "B5mwN5Q56BFe",
        "outputId": "d5cefbb1-103c-47d9-a6f4-7a724f0db262"
      },
      "execution_count": 47,
      "outputs": [
        {
          "output_type": "execute_result",
          "data": {
            "text/plain": [
              "[<matplotlib.lines.Line2D at 0x7f9c0b06c190>]"
            ]
          },
          "metadata": {},
          "execution_count": 47
        },
        {
          "output_type": "display_data",
          "data": {
            "text/plain": [
              "<Figure size 432x288 with 1 Axes>"
            ],
            "image/png": "[encoded data removed]"
          },
          "metadata": {
            "needs_background": "light"
          }
        }
      ]
    },
    {
      "cell_type": "markdown",
      "source": [
        "# Задача 2"
      ],
      "metadata": {
        "id": "WZcXzGY_7JYm"
      }
    },
    {
      "cell_type": "code",
      "source": [
        "from sklearn.datasets import make_moons\n",
        "\n",
        "X, y = make_moons(noise=0.04)\n",
        "show_data(X, y)"
      ],
      "metadata": {
        "colab": {
          "base_uri": "https://localhost:8080/",
          "height": 320
        },
        "id": "6Dxj4zKV7JD1",
        "outputId": "26d31aef-046f-4a06-d97c-cab67281d1f0"
      },
      "execution_count": 48,
      "outputs": [
        {
          "output_type": "display_data",
          "data": {
            "text/plain": [
              "<Figure size 360x360 with 1 Axes>"
            ],
            "image/png": "[encoded data removed]"
          },
          "metadata": {
            "needs_background": "light"
          }
        }
      ]
    },
    {
      "cell_type": "code",
      "source": [
        "model = tf.keras.Sequential()\n",
        "model.add(tf.keras.layers.Dense(15, input_shape=(2,), activation=\"relu\"))\n",
        "model.add(tf.keras.layers.Dense(15, activation=\"relu\"))\n",
        "model.add(tf.keras.layers.Dense(15, activation=\"relu\"))\n",
        "model.add(tf.keras.layers.Dense(1))\n",
        "\n",
        "optimizer = tf.keras.optimizers.Adam(learning_rate=0.05)\n",
        "loss = tf.keras.losses.BinaryCrossentropy(from_logits=True)"
      ],
      "metadata": {
        "id": "jXPBR3th7fBf"
      },
      "execution_count": 52,
      "outputs": []
    },
    {
      "cell_type": "code",
      "source": [
        "model.compile(optimizer=optimizer, loss=loss, metrics=[\"accuracy\"]) \n",
        "history = model.fit(X, y, epochs=200, verbose=1, batch_size=64, shuffle=True)"
      ],
      "metadata": {
        "colab": {
          "base_uri": "https://localhost:8080/"
        },
        "id": "HNzyrjlk7p27",
        "outputId": "e38ba175-c001-4c9c-f6db-3e444d54e788"
      },
      "execution_count": 54,
      "outputs": [
        {
          "output_type": "stream",
          "name": "stdout",
          "text": [
            "Epoch 1/200\n",
            "2/2 [==============================] - 1s 7ms/step - loss: 0.6132 - accuracy: 0.5800\n",
            "Epoch 2/200\n",
            "2/2 [==============================] - 0s 5ms/step - loss: 0.3658 - accuracy: 0.8600\n",
            "Epoch 3/200\n",
            "2/2 [==============================] - 0s 6ms/step - loss: 0.3469 - accuracy: 0.8500\n",
            "Epoch 4/200\n",
            "2/2 [==============================] - 0s 7ms/step - loss: 0.3473 - accuracy: 0.8600\n",
            "Epoch 5/200\n",
            "2/2 [==============================] - 0s 6ms/step - loss: 0.2985 - accuracy: 0.8600\n",
            "Epoch 6/200\n",
            "2/2 [==============================] - 0s 6ms/step - loss: 0.2696 - accuracy: 0.8600\n",
            "Epoch 7/200\n",
            "2/2 [==============================] - 0s 5ms/step - loss: 0.2528 - accuracy: 0.8600\n",
            "Epoch 8/200\n",
            "2/2 [==============================] - 0s 5ms/step - loss: 0.2596 - accuracy: 0.8700\n",
            "Epoch 9/200\n",
            "2/2 [==============================] - 0s 7ms/step - loss: 0.2623 - accuracy: 0.8600\n",
            "Epoch 10/200\n",
            "2/2 [==============================] - 0s 6ms/step - loss: 0.2321 - accuracy: 0.8800\n",
            "Epoch 11/200\n",
            "2/2 [==============================] - 0s 5ms/step - loss: 0.2377 - accuracy: 0.8700\n",
            "Epoch 12/200\n",
            "2/2 [==============================] - 0s 6ms/step - loss: 0.2198 - accuracy: 0.8600\n",
            "Epoch 13/200\n",
            "2/2 [==============================] - 0s 6ms/step - loss: 0.2198 - accuracy: 0.8800\n",
            "Epoch 14/200\n",
            "2/2 [==============================] - 0s 6ms/step - loss: 0.2152 - accuracy: 0.8700\n",
            "Epoch 15/200\n",
            "2/2 [==============================] - 0s 6ms/step - loss: 0.2032 - accuracy: 0.8500\n",
            "Epoch 16/200\n",
            "2/2 [==============================] - 0s 4ms/step - loss: 0.1861 - accuracy: 0.8500\n",
            "Epoch 17/200\n",
            "2/2 [==============================] - 0s 6ms/step - loss: 0.1766 - accuracy: 0.8700\n",
            "Epoch 18/200\n",
            "2/2 [==============================] - 0s 6ms/step - loss: 0.1596 - accuracy: 0.9200\n",
            "Epoch 19/200\n",
            "2/2 [==============================] - 0s 7ms/step - loss: 0.1593 - accuracy: 0.9100\n",
            "Epoch 20/200\n",
            "2/2 [==============================] - 0s 7ms/step - loss: 0.1465 - accuracy: 0.9000\n",
            "Epoch 21/200\n",
            "2/2 [==============================] - 0s 5ms/step - loss: 0.1355 - accuracy: 0.9600\n",
            "Epoch 22/200\n",
            "2/2 [==============================] - 0s 5ms/step - loss: 0.1297 - accuracy: 0.9700\n",
            "Epoch 23/200\n",
            "2/2 [==============================] - 0s 6ms/step - loss: 0.1096 - accuracy: 0.9500\n",
            "Epoch 24/200\n",
            "2/2 [==============================] - 0s 7ms/step - loss: 0.0960 - accuracy: 0.9500\n",
            "Epoch 25/200\n",
            "2/2 [==============================] - 0s 6ms/step - loss: 0.0761 - accuracy: 0.9700\n",
            "Epoch 26/200\n",
            "2/2 [==============================] - 0s 6ms/step - loss: 0.0613 - accuracy: 0.9900\n",
            "Epoch 27/200\n",
            "2/2 [==============================] - 0s 6ms/step - loss: 0.0444 - accuracy: 1.0000\n",
            "Epoch 28/200\n",
            "2/2 [==============================] - 0s 5ms/step - loss: 0.0295 - accuracy: 1.0000\n",
            "Epoch 29/200\n",
            "2/2 [==============================] - 0s 6ms/step - loss: 0.0193 - accuracy: 1.0000\n",
            "Epoch 30/200\n",
            "2/2 [==============================] - 0s 7ms/step - loss: 0.0129 - accuracy: 1.0000\n",
            "Epoch 31/200\n",
            "2/2 [==============================] - 0s 7ms/step - loss: 0.0057 - accuracy: 1.0000\n",
            "Epoch 32/200\n",
            "2/2 [==============================] - 0s 7ms/step - loss: 0.0048 - accuracy: 1.0000\n",
            "Epoch 33/200\n",
            "2/2 [==============================] - 0s 6ms/step - loss: 0.0030 - accuracy: 1.0000\n",
            "Epoch 34/200\n",
            "2/2 [==============================] - 0s 7ms/step - loss: 0.0017 - accuracy: 1.0000\n",
            "Epoch 35/200\n",
            "2/2 [==============================] - 0s 6ms/step - loss: 0.0013 - accuracy: 1.0000\n",
            "Epoch 36/200\n",
            "2/2 [==============================] - 0s 4ms/step - loss: 0.0011 - accuracy: 1.0000\n",
            "Epoch 37/200\n",
            "2/2 [==============================] - 0s 5ms/step - loss: 8.1711e-04 - accuracy: 1.0000\n",
            "Epoch 38/200\n",
            "2/2 [==============================] - 0s 6ms/step - loss: 5.7788e-04 - accuracy: 1.0000\n",
            "Epoch 39/200\n",
            "2/2 [==============================] - 0s 6ms/step - loss: 4.2084e-04 - accuracy: 1.0000\n",
            "Epoch 40/200\n",
            "2/2 [==============================] - 0s 7ms/step - loss: 2.9875e-04 - accuracy: 1.0000\n",
            "Epoch 41/200\n",
            "2/2 [==============================] - 0s 7ms/step - loss: 2.3856e-04 - accuracy: 1.0000\n",
            "Epoch 42/200\n",
            "2/2 [==============================] - 0s 5ms/step - loss: 1.9584e-04 - accuracy: 1.0000\n",
            "Epoch 43/200\n",
            "2/2 [==============================] - 0s 6ms/step - loss: 1.6689e-04 - accuracy: 1.0000\n",
            "Epoch 44/200\n",
            "2/2 [==============================] - 0s 6ms/step - loss: 1.4507e-04 - accuracy: 1.0000\n",
            "Epoch 45/200\n",
            "2/2 [==============================] - 0s 6ms/step - loss: 1.2998e-04 - accuracy: 1.0000\n",
            "Epoch 46/200\n",
            "2/2 [==============================] - 0s 6ms/step - loss: 1.1651e-04 - accuracy: 1.0000\n",
            "Epoch 47/200\n",
            "2/2 [==============================] - 0s 6ms/step - loss: 1.0742e-04 - accuracy: 1.0000\n",
            "Epoch 48/200\n",
            "2/2 [==============================] - 0s 5ms/step - loss: 9.9476e-05 - accuracy: 1.0000\n",
            "Epoch 49/200\n",
            "2/2 [==============================] - 0s 6ms/step - loss: 9.1699e-05 - accuracy: 1.0000\n",
            "Epoch 50/200\n",
            "2/2 [==============================] - 0s 8ms/step - loss: 8.6761e-05 - accuracy: 1.0000\n",
            "Epoch 51/200\n",
            "2/2 [==============================] - 0s 7ms/step - loss: 8.0709e-05 - accuracy: 1.0000\n",
            "Epoch 52/200\n",
            "2/2 [==============================] - 0s 6ms/step - loss: 7.5949e-05 - accuracy: 1.0000\n",
            "Epoch 53/200\n",
            "2/2 [==============================] - 0s 6ms/step - loss: 7.2350e-05 - accuracy: 1.0000\n",
            "Epoch 54/200\n",
            "2/2 [==============================] - 0s 6ms/step - loss: 6.8485e-05 - accuracy: 1.0000\n",
            "Epoch 55/200\n",
            "2/2 [==============================] - 0s 6ms/step - loss: 6.5371e-05 - accuracy: 1.0000\n",
            "Epoch 56/200\n",
            "2/2 [==============================] - 0s 7ms/step - loss: 6.2159e-05 - accuracy: 1.0000\n",
            "Epoch 57/200\n",
            "2/2 [==============================] - 0s 7ms/step - loss: 5.9834e-05 - accuracy: 1.0000\n",
            "Epoch 58/200\n",
            "2/2 [==============================] - 0s 6ms/step - loss: 5.7401e-05 - accuracy: 1.0000\n",
            "Epoch 59/200\n",
            "2/2 [==============================] - 0s 4ms/step - loss: 5.4986e-05 - accuracy: 1.0000\n",
            "Epoch 60/200\n",
            "2/2 [==============================] - 0s 6ms/step - loss: 5.3684e-05 - accuracy: 1.0000\n",
            "Epoch 61/200\n",
            "2/2 [==============================] - 0s 5ms/step - loss: 5.1758e-05 - accuracy: 1.0000\n",
            "Epoch 62/200\n",
            "2/2 [==============================] - 0s 5ms/step - loss: 5.0396e-05 - accuracy: 1.0000\n",
            "Epoch 63/200\n",
            "2/2 [==============================] - 0s 5ms/step - loss: 4.9269e-05 - accuracy: 1.0000\n",
            "Epoch 64/200\n",
            "2/2 [==============================] - 0s 6ms/step - loss: 4.7922e-05 - accuracy: 1.0000\n",
            "Epoch 65/200\n",
            "2/2 [==============================] - 0s 8ms/step - loss: 4.6790e-05 - accuracy: 1.0000\n",
            "Epoch 66/200\n",
            "2/2 [==============================] - 0s 6ms/step - loss: 4.5529e-05 - accuracy: 1.0000\n",
            "Epoch 67/200\n",
            "2/2 [==============================] - 0s 5ms/step - loss: 4.4631e-05 - accuracy: 1.0000\n",
            "Epoch 68/200\n",
            "2/2 [==============================] - 0s 6ms/step - loss: 4.3571e-05 - accuracy: 1.0000\n",
            "Epoch 69/200\n",
            "2/2 [==============================] - 0s 6ms/step - loss: 4.2492e-05 - accuracy: 1.0000\n",
            "Epoch 70/200\n",
            "2/2 [==============================] - 0s 6ms/step - loss: 4.1403e-05 - accuracy: 1.0000\n",
            "Epoch 71/200\n",
            "2/2 [==============================] - 0s 6ms/step - loss: 4.0575e-05 - accuracy: 1.0000\n",
            "Epoch 72/200\n",
            "2/2 [==============================] - 0s 6ms/step - loss: 3.9739e-05 - accuracy: 1.0000\n",
            "Epoch 73/200\n",
            "2/2 [==============================] - 0s 7ms/step - loss: 3.8856e-05 - accuracy: 1.0000\n",
            "Epoch 74/200\n",
            "2/2 [==============================] - 0s 6ms/step - loss: 3.8116e-05 - accuracy: 1.0000\n",
            "Epoch 75/200\n",
            "2/2 [==============================] - 0s 6ms/step - loss: 3.7230e-05 - accuracy: 1.0000\n",
            "Epoch 76/200\n",
            "2/2 [==============================] - 0s 7ms/step - loss: 3.6517e-05 - accuracy: 1.0000\n",
            "Epoch 77/200\n",
            "2/2 [==============================] - 0s 6ms/step - loss: 3.5809e-05 - accuracy: 1.0000\n",
            "Epoch 78/200\n",
            "2/2 [==============================] - 0s 6ms/step - loss: 3.5061e-05 - accuracy: 1.0000\n",
            "Epoch 79/200\n",
            "2/2 [==============================] - 0s 6ms/step - loss: 3.4379e-05 - accuracy: 1.0000\n",
            "Epoch 80/200\n",
            "2/2 [==============================] - 0s 6ms/step - loss: 3.3822e-05 - accuracy: 1.0000\n",
            "Epoch 81/200\n",
            "2/2 [==============================] - 0s 6ms/step - loss: 3.3167e-05 - accuracy: 1.0000\n",
            "Epoch 82/200\n",
            "2/2 [==============================] - 0s 6ms/step - loss: 3.2525e-05 - accuracy: 1.0000\n",
            "Epoch 83/200\n",
            "2/2 [==============================] - 0s 6ms/step - loss: 3.2008e-05 - accuracy: 1.0000\n",
            "Epoch 84/200\n",
            "2/2 [==============================] - 0s 6ms/step - loss: 3.1430e-05 - accuracy: 1.0000\n",
            "Epoch 85/200\n",
            "2/2 [==============================] - 0s 6ms/step - loss: 3.0930e-05 - accuracy: 1.0000\n",
            "Epoch 86/200\n",
            "2/2 [==============================] - 0s 9ms/step - loss: 3.0385e-05 - accuracy: 1.0000\n",
            "Epoch 87/200\n",
            "2/2 [==============================] - 0s 6ms/step - loss: 2.9934e-05 - accuracy: 1.0000\n",
            "Epoch 88/200\n",
            "2/2 [==============================] - 0s 7ms/step - loss: 2.9447e-05 - accuracy: 1.0000\n",
            "Epoch 89/200\n",
            "2/2 [==============================] - 0s 7ms/step - loss: 2.8997e-05 - accuracy: 1.0000\n",
            "Epoch 90/200\n",
            "2/2 [==============================] - 0s 6ms/step - loss: 2.8516e-05 - accuracy: 1.0000\n",
            "Epoch 91/200\n",
            "2/2 [==============================] - 0s 6ms/step - loss: 2.8060e-05 - accuracy: 1.0000\n",
            "Epoch 92/200\n",
            "2/2 [==============================] - 0s 6ms/step - loss: 2.7672e-05 - accuracy: 1.0000\n",
            "Epoch 93/200\n",
            "2/2 [==============================] - 0s 6ms/step - loss: 2.7246e-05 - accuracy: 1.0000\n",
            "Epoch 94/200\n",
            "2/2 [==============================] - 0s 7ms/step - loss: 2.6829e-05 - accuracy: 1.0000\n",
            "Epoch 95/200\n",
            "2/2 [==============================] - 0s 7ms/step - loss: 2.6418e-05 - accuracy: 1.0000\n",
            "Epoch 96/200\n",
            "2/2 [==============================] - 0s 6ms/step - loss: 2.6040e-05 - accuracy: 1.0000\n",
            "Epoch 97/200\n",
            "2/2 [==============================] - 0s 6ms/step - loss: 2.5642e-05 - accuracy: 1.0000\n",
            "Epoch 98/200\n",
            "2/2 [==============================] - 0s 7ms/step - loss: 2.5236e-05 - accuracy: 1.0000\n",
            "Epoch 99/200\n",
            "2/2 [==============================] - 0s 6ms/step - loss: 2.4849e-05 - accuracy: 1.0000\n",
            "Epoch 100/200\n",
            "2/2 [==============================] - 0s 6ms/step - loss: 2.4567e-05 - accuracy: 1.0000\n",
            "Epoch 101/200\n",
            "2/2 [==============================] - 0s 7ms/step - loss: 2.4158e-05 - accuracy: 1.0000\n",
            "Epoch 102/200\n",
            "2/2 [==============================] - 0s 6ms/step - loss: 2.3821e-05 - accuracy: 1.0000\n",
            "Epoch 103/200\n",
            "2/2 [==============================] - 0s 7ms/step - loss: 2.3471e-05 - accuracy: 1.0000\n",
            "Epoch 104/200\n",
            "2/2 [==============================] - 0s 7ms/step - loss: 2.3115e-05 - accuracy: 1.0000\n",
            "Epoch 105/200\n",
            "2/2 [==============================] - 0s 7ms/step - loss: 2.2815e-05 - accuracy: 1.0000\n",
            "Epoch 106/200\n",
            "2/2 [==============================] - 0s 5ms/step - loss: 2.2508e-05 - accuracy: 1.0000\n",
            "Epoch 107/200\n",
            "2/2 [==============================] - 0s 5ms/step - loss: 2.2217e-05 - accuracy: 1.0000\n",
            "Epoch 108/200\n",
            "2/2 [==============================] - 0s 6ms/step - loss: 2.1880e-05 - accuracy: 1.0000\n",
            "Epoch 109/200\n",
            "2/2 [==============================] - 0s 7ms/step - loss: 2.1572e-05 - accuracy: 1.0000\n",
            "Epoch 110/200\n",
            "2/2 [==============================] - 0s 6ms/step - loss: 2.1373e-05 - accuracy: 1.0000\n",
            "Epoch 111/200\n",
            "2/2 [==============================] - 0s 5ms/step - loss: 2.1081e-05 - accuracy: 1.0000\n",
            "Epoch 112/200\n",
            "2/2 [==============================] - 0s 5ms/step - loss: 2.0830e-05 - accuracy: 1.0000\n",
            "Epoch 113/200\n",
            "2/2 [==============================] - 0s 5ms/step - loss: 2.0580e-05 - accuracy: 1.0000\n",
            "Epoch 114/200\n",
            "2/2 [==============================] - 0s 6ms/step - loss: 2.0358e-05 - accuracy: 1.0000\n",
            "Epoch 115/200\n",
            "2/2 [==============================] - 0s 5ms/step - loss: 2.0105e-05 - accuracy: 1.0000\n",
            "Epoch 116/200\n",
            "2/2 [==============================] - 0s 5ms/step - loss: 1.9876e-05 - accuracy: 1.0000\n",
            "Epoch 117/200\n",
            "2/2 [==============================] - 0s 6ms/step - loss: 1.9666e-05 - accuracy: 1.0000\n",
            "Epoch 118/200\n",
            "2/2 [==============================] - 0s 6ms/step - loss: 1.9449e-05 - accuracy: 1.0000\n",
            "Epoch 119/200\n",
            "2/2 [==============================] - 0s 6ms/step - loss: 1.9237e-05 - accuracy: 1.0000\n",
            "Epoch 120/200\n",
            "2/2 [==============================] - 0s 9ms/step - loss: 1.9026e-05 - accuracy: 1.0000\n",
            "Epoch 121/200\n",
            "2/2 [==============================] - 0s 6ms/step - loss: 1.8817e-05 - accuracy: 1.0000\n",
            "Epoch 122/200\n",
            "2/2 [==============================] - 0s 5ms/step - loss: 1.8621e-05 - accuracy: 1.0000\n",
            "Epoch 123/200\n",
            "2/2 [==============================] - 0s 5ms/step - loss: 1.8385e-05 - accuracy: 1.0000\n",
            "Epoch 124/200\n",
            "2/2 [==============================] - 0s 5ms/step - loss: 1.8223e-05 - accuracy: 1.0000\n",
            "Epoch 125/200\n",
            "2/2 [==============================] - 0s 5ms/step - loss: 1.8005e-05 - accuracy: 1.0000\n",
            "Epoch 126/200\n",
            "2/2 [==============================] - 0s 5ms/step - loss: 1.7838e-05 - accuracy: 1.0000\n",
            "Epoch 127/200\n",
            "2/2 [==============================] - 0s 14ms/step - loss: 1.7644e-05 - accuracy: 1.0000\n",
            "Epoch 128/200\n",
            "2/2 [==============================] - 0s 6ms/step - loss: 1.7449e-05 - accuracy: 1.0000\n",
            "Epoch 129/200\n",
            "2/2 [==============================] - 0s 5ms/step - loss: 1.7251e-05 - accuracy: 1.0000\n",
            "Epoch 130/200\n",
            "2/2 [==============================] - 0s 10ms/step - loss: 1.7069e-05 - accuracy: 1.0000\n",
            "Epoch 131/200\n",
            "2/2 [==============================] - 0s 6ms/step - loss: 1.6896e-05 - accuracy: 1.0000\n",
            "Epoch 132/200\n",
            "2/2 [==============================] - 0s 5ms/step - loss: 1.6694e-05 - accuracy: 1.0000\n",
            "Epoch 133/200\n",
            "2/2 [==============================] - 0s 6ms/step - loss: 1.6549e-05 - accuracy: 1.0000\n",
            "Epoch 134/200\n",
            "2/2 [==============================] - 0s 10ms/step - loss: 1.6355e-05 - accuracy: 1.0000\n",
            "Epoch 135/200\n",
            "2/2 [==============================] - 0s 6ms/step - loss: 1.6168e-05 - accuracy: 1.0000\n",
            "Epoch 136/200\n",
            "2/2 [==============================] - 0s 9ms/step - loss: 1.6025e-05 - accuracy: 1.0000\n",
            "Epoch 137/200\n",
            "2/2 [==============================] - 0s 5ms/step - loss: 1.5848e-05 - accuracy: 1.0000\n",
            "Epoch 138/200\n",
            "2/2 [==============================] - 0s 5ms/step - loss: 1.5681e-05 - accuracy: 1.0000\n",
            "Epoch 139/200\n",
            "2/2 [==============================] - 0s 5ms/step - loss: 1.5514e-05 - accuracy: 1.0000\n",
            "Epoch 140/200\n",
            "2/2 [==============================] - 0s 5ms/step - loss: 1.5367e-05 - accuracy: 1.0000\n",
            "Epoch 141/200\n",
            "2/2 [==============================] - 0s 5ms/step - loss: 1.5206e-05 - accuracy: 1.0000\n",
            "Epoch 142/200\n",
            "2/2 [==============================] - 0s 5ms/step - loss: 1.5042e-05 - accuracy: 1.0000\n",
            "Epoch 143/200\n",
            "2/2 [==============================] - 0s 8ms/step - loss: 1.4912e-05 - accuracy: 1.0000\n",
            "Epoch 144/200\n",
            "2/2 [==============================] - 0s 4ms/step - loss: 1.4766e-05 - accuracy: 1.0000\n",
            "Epoch 145/200\n",
            "2/2 [==============================] - 0s 4ms/step - loss: 1.4614e-05 - accuracy: 1.0000\n",
            "Epoch 146/200\n",
            "2/2 [==============================] - 0s 4ms/step - loss: 1.4480e-05 - accuracy: 1.0000\n",
            "Epoch 147/200\n",
            "2/2 [==============================] - 0s 4ms/step - loss: 1.4342e-05 - accuracy: 1.0000\n",
            "Epoch 148/200\n",
            "2/2 [==============================] - 0s 4ms/step - loss: 1.4191e-05 - accuracy: 1.0000\n",
            "Epoch 149/200\n",
            "2/2 [==============================] - 0s 10ms/step - loss: 1.4062e-05 - accuracy: 1.0000\n",
            "Epoch 150/200\n",
            "2/2 [==============================] - 0s 5ms/step - loss: 1.3927e-05 - accuracy: 1.0000\n",
            "Epoch 151/200\n",
            "2/2 [==============================] - 0s 4ms/step - loss: 1.3800e-05 - accuracy: 1.0000\n",
            "Epoch 152/200\n",
            "2/2 [==============================] - 0s 5ms/step - loss: 1.3668e-05 - accuracy: 1.0000\n",
            "Epoch 153/200\n",
            "2/2 [==============================] - 0s 8ms/step - loss: 1.3538e-05 - accuracy: 1.0000\n",
            "Epoch 154/200\n",
            "2/2 [==============================] - 0s 6ms/step - loss: 1.3418e-05 - accuracy: 1.0000\n",
            "Epoch 155/200\n",
            "2/2 [==============================] - 0s 9ms/step - loss: 1.3280e-05 - accuracy: 1.0000\n",
            "Epoch 156/200\n",
            "2/2 [==============================] - 0s 6ms/step - loss: 1.3162e-05 - accuracy: 1.0000\n",
            "Epoch 157/200\n",
            "2/2 [==============================] - 0s 6ms/step - loss: 1.3040e-05 - accuracy: 1.0000\n",
            "Epoch 158/200\n",
            "2/2 [==============================] - 0s 9ms/step - loss: 1.2925e-05 - accuracy: 1.0000\n",
            "Epoch 159/200\n",
            "2/2 [==============================] - 0s 6ms/step - loss: 1.2790e-05 - accuracy: 1.0000\n",
            "Epoch 160/200\n",
            "2/2 [==============================] - 0s 5ms/step - loss: 1.2681e-05 - accuracy: 1.0000\n",
            "Epoch 161/200\n",
            "2/2 [==============================] - 0s 5ms/step - loss: 1.2549e-05 - accuracy: 1.0000\n",
            "Epoch 162/200\n",
            "2/2 [==============================] - 0s 6ms/step - loss: 1.2453e-05 - accuracy: 1.0000\n",
            "Epoch 163/200\n",
            "2/2 [==============================] - 0s 6ms/step - loss: 1.2329e-05 - accuracy: 1.0000\n",
            "Epoch 164/200\n",
            "2/2 [==============================] - 0s 6ms/step - loss: 1.2225e-05 - accuracy: 1.0000\n",
            "Epoch 165/200\n",
            "2/2 [==============================] - 0s 6ms/step - loss: 1.2115e-05 - accuracy: 1.0000\n",
            "Epoch 166/200\n",
            "2/2 [==============================] - 0s 5ms/step - loss: 1.1999e-05 - accuracy: 1.0000\n",
            "Epoch 167/200\n",
            "2/2 [==============================] - 0s 6ms/step - loss: 1.1888e-05 - accuracy: 1.0000\n",
            "Epoch 168/200\n",
            "2/2 [==============================] - 0s 5ms/step - loss: 1.1784e-05 - accuracy: 1.0000\n",
            "Epoch 169/200\n",
            "2/2 [==============================] - 0s 11ms/step - loss: 1.1686e-05 - accuracy: 1.0000\n",
            "Epoch 170/200\n",
            "2/2 [==============================] - 0s 6ms/step - loss: 1.1573e-05 - accuracy: 1.0000\n",
            "Epoch 171/200\n",
            "2/2 [==============================] - 0s 5ms/step - loss: 1.1484e-05 - accuracy: 1.0000\n",
            "Epoch 172/200\n",
            "2/2 [==============================] - 0s 5ms/step - loss: 1.1377e-05 - accuracy: 1.0000\n",
            "Epoch 173/200\n",
            "2/2 [==============================] - 0s 6ms/step - loss: 1.1277e-05 - accuracy: 1.0000\n",
            "Epoch 174/200\n",
            "2/2 [==============================] - 0s 6ms/step - loss: 1.1177e-05 - accuracy: 1.0000\n",
            "Epoch 175/200\n",
            "2/2 [==============================] - 0s 5ms/step - loss: 1.1071e-05 - accuracy: 1.0000\n",
            "Epoch 176/200\n",
            "2/2 [==============================] - 0s 5ms/step - loss: 1.0984e-05 - accuracy: 1.0000\n",
            "Epoch 177/200\n",
            "2/2 [==============================] - 0s 6ms/step - loss: 1.0890e-05 - accuracy: 1.0000\n",
            "Epoch 178/200\n",
            "2/2 [==============================] - 0s 5ms/step - loss: 1.0793e-05 - accuracy: 1.0000\n",
            "Epoch 179/200\n",
            "2/2 [==============================] - 0s 8ms/step - loss: 1.0709e-05 - accuracy: 1.0000\n",
            "Epoch 180/200\n",
            "2/2 [==============================] - 0s 5ms/step - loss: 1.0610e-05 - accuracy: 1.0000\n",
            "Epoch 181/200\n",
            "2/2 [==============================] - 0s 5ms/step - loss: 1.0522e-05 - accuracy: 1.0000\n",
            "Epoch 182/200\n",
            "2/2 [==============================] - 0s 5ms/step - loss: 1.0428e-05 - accuracy: 1.0000\n",
            "Epoch 183/200\n",
            "2/2 [==============================] - 0s 6ms/step - loss: 1.0349e-05 - accuracy: 1.0000\n",
            "Epoch 184/200\n",
            "2/2 [==============================] - 0s 6ms/step - loss: 1.0248e-05 - accuracy: 1.0000\n",
            "Epoch 185/200\n",
            "2/2 [==============================] - 0s 6ms/step - loss: 1.0178e-05 - accuracy: 1.0000\n",
            "Epoch 186/200\n",
            "2/2 [==============================] - 0s 5ms/step - loss: 1.0087e-05 - accuracy: 1.0000\n",
            "Epoch 187/200\n",
            "2/2 [==============================] - 0s 5ms/step - loss: 1.0002e-05 - accuracy: 1.0000\n",
            "Epoch 188/200\n",
            "2/2 [==============================] - 0s 6ms/step - loss: 9.9186e-06 - accuracy: 1.0000\n",
            "Epoch 189/200\n",
            "2/2 [==============================] - 0s 6ms/step - loss: 9.8379e-06 - accuracy: 1.0000\n",
            "Epoch 190/200\n",
            "2/2 [==============================] - 0s 5ms/step - loss: 9.7625e-06 - accuracy: 1.0000\n",
            "Epoch 191/200\n",
            "2/2 [==============================] - 0s 5ms/step - loss: 9.6802e-06 - accuracy: 1.0000\n",
            "Epoch 192/200\n",
            "2/2 [==============================] - 0s 6ms/step - loss: 9.6064e-06 - accuracy: 1.0000\n",
            "Epoch 193/200\n",
            "2/2 [==============================] - 0s 6ms/step - loss: 9.5186e-06 - accuracy: 1.0000\n",
            "Epoch 194/200\n",
            "2/2 [==============================] - 0s 6ms/step - loss: 9.4541e-06 - accuracy: 1.0000\n",
            "Epoch 195/200\n",
            "2/2 [==============================] - 0s 14ms/step - loss: 9.3670e-06 - accuracy: 1.0000\n",
            "Epoch 196/200\n",
            "2/2 [==============================] - 0s 5ms/step - loss: 9.2997e-06 - accuracy: 1.0000\n",
            "Epoch 197/200\n",
            "2/2 [==============================] - 0s 13ms/step - loss: 9.2292e-06 - accuracy: 1.0000\n",
            "Epoch 198/200\n",
            "2/2 [==============================] - 0s 6ms/step - loss: 9.1446e-06 - accuracy: 1.0000\n",
            "Epoch 199/200\n",
            "2/2 [==============================] - 0s 6ms/step - loss: 9.0717e-06 - accuracy: 1.0000\n",
            "Epoch 200/200\n",
            "2/2 [==============================] - 0s 5ms/step - loss: 9.0127e-06 - accuracy: 1.0000\n"
          ]
        }
      ]
    },
    {
      "cell_type": "code",
      "source": [
        "eval_model(model, X, y)\n",
        "show_descision_boundary(limits=None, clf=model, binary=False,\n",
        "                                X=X,\n",
        "                                y=y, \n",
        "                                n_lines=50,\n",
        "                                show_lines=False)"
      ],
      "metadata": {
        "colab": {
          "base_uri": "https://localhost:8080/",
          "height": 354
        },
        "id": "PUPZhLnX70LB",
        "outputId": "b39eedcc-94ac-4cbb-f4fe-24ccf09a4e02"
      },
      "execution_count": 55,
      "outputs": [
        {
          "output_type": "stream",
          "name": "stdout",
          "text": [
            "4/4 [==============================] - 0s 3ms/step - loss: 8.9465e-06 - accuracy: 1.0000\n",
            "Perfect!\n"
          ]
        },
        {
          "output_type": "display_data",
          "data": {
            "text/plain": [
              "<Figure size 360x360 with 1 Axes>"
            ],
            "image/png": "[encoded data removed]"
          },
          "metadata": {
            "needs_background": "light"
          }
        }
      ]
    },
    {
      "cell_type": "code",
      "source": [
        "history_df_3 = pd.DataFrame(history.history)\n",
        "plt.plot(history_df_3.accuracy)"
      ],
      "metadata": {
        "colab": {
          "base_uri": "https://localhost:8080/",
          "height": 282
        },
        "id": "LWOOpXZ18PB4",
        "outputId": "8231d4a1-9dc9-4ea6-f84c-a714c80e8e94"
      },
      "execution_count": 57,
      "outputs": [
        {
          "output_type": "execute_result",
          "data": {
            "text/plain": [
              "[<matplotlib.lines.Line2D at 0x7f9c0a5f5550>]"
            ]
          },
          "metadata": {},
          "execution_count": 57
        },
        {
          "output_type": "display_data",
          "data": {
            "text/plain": [
              "<Figure size 432x288 with 1 Axes>"
            ],
            "image/png": "[encoded data removed]"
          },
          "metadata": {
            "needs_background": "light"
          }
        }
      ]
    },
    {
      "cell_type": "markdown",
      "source": [
        "# Задача 3"
      ],
      "metadata": {
        "id": "RsX0l32C8hj9"
      }
    },
    {
      "cell_type": "code",
      "source": [
        "from sklearn.datasets import make_circles\n",
        "\n",
        "X, y = make_circles(factor=0.5, noise=0.05)\n",
        "show_data(X, y)"
      ],
      "metadata": {
        "colab": {
          "base_uri": "https://localhost:8080/",
          "height": 320
        },
        "id": "iILdo2Rn8g5f",
        "outputId": "5527e62d-296e-41a1-af18-06a7d0a87089"
      },
      "execution_count": 58,
      "outputs": [
        {
          "output_type": "display_data",
          "data": {
            "text/plain": [
              "<Figure size 360x360 with 1 Axes>"
            ],
            "image/png": "[encoded data removed]"
          },
          "metadata": {
            "needs_background": "light"
          }
        }
      ]
    },
    {
      "cell_type": "code",
      "source": [
        "model = tf.keras.Sequential()\n",
        "model.add(tf.keras.layers.Dense(4, input_shape=(2,), activation=\"relu\"))\n",
        "#model.add(tf.keras.layers.Dense(2, activation=\"relu\"))\n",
        "#model.add(tf.keras.layers.Dense(3, activation=\"relu\"))\n",
        "model.add(tf.keras.layers.Dense(1))\n",
        "\n",
        "optimizer = tf.keras.optimizers.Adam(learning_rate=0.05)\n",
        "loss = tf.keras.losses.BinaryCrossentropy(from_logits=True)"
      ],
      "metadata": {
        "id": "Ms63An4Z8v8B"
      },
      "execution_count": 86,
      "outputs": []
    },
    {
      "cell_type": "code",
      "source": [
        "model.compile(optimizer=optimizer, loss=loss, metrics=[\"accuracy\"]) \n",
        "history = model.fit(X, y, epochs=200, verbose=1, batch_size=64, shuffle=True)"
      ],
      "metadata": {
        "colab": {
          "base_uri": "https://localhost:8080/"
        },
        "id": "c5W1IkMp86NR",
        "outputId": "60d85a23-b4c5-4f74-9a95-924972286b5e"
      },
      "execution_count": 87,
      "outputs": [
        {
          "output_type": "stream",
          "name": "stdout",
          "text": [
            "Epoch 1/200\n",
            "2/2 [==============================] - 0s 6ms/step - loss: 0.6863 - accuracy: 0.5000\n",
            "Epoch 2/200\n",
            "2/2 [==============================] - 0s 9ms/step - loss: 0.6752 - accuracy: 0.5000\n",
            "Epoch 3/200\n",
            "2/2 [==============================] - 0s 7ms/step - loss: 0.6645 - accuracy: 0.5000\n",
            "Epoch 4/200\n",
            "2/2 [==============================] - 0s 12ms/step - loss: 0.6525 - accuracy: 0.5000\n",
            "Epoch 5/200\n",
            "2/2 [==============================] - 0s 8ms/step - loss: 0.6427 - accuracy: 0.5000\n",
            "Epoch 6/200\n",
            "2/2 [==============================] - 0s 8ms/step - loss: 0.6312 - accuracy: 0.5000\n",
            "Epoch 7/200\n",
            "2/2 [==============================] - 0s 6ms/step - loss: 0.6199 - accuracy: 0.5000\n",
            "Epoch 8/200\n",
            "2/2 [==============================] - 0s 6ms/step - loss: 0.6089 - accuracy: 0.5000\n",
            "Epoch 9/200\n",
            "2/2 [==============================] - 0s 6ms/step - loss: 0.5981 - accuracy: 0.5000\n",
            "Epoch 10/200\n",
            "2/2 [==============================] - 0s 7ms/step - loss: 0.5868 - accuracy: 0.5000\n",
            "Epoch 11/200\n",
            "2/2 [==============================] - 0s 7ms/step - loss: 0.5772 - accuracy: 0.5000\n",
            "Epoch 12/200\n",
            "2/2 [==============================] - 0s 7ms/step - loss: 0.5658 - accuracy: 0.5100\n",
            "Epoch 13/200\n",
            "2/2 [==============================] - 0s 7ms/step - loss: 0.5552 - accuracy: 0.5700\n",
            "Epoch 14/200\n",
            "2/2 [==============================] - 0s 6ms/step - loss: 0.5431 - accuracy: 0.5800\n",
            "Epoch 15/200\n",
            "2/2 [==============================] - 0s 6ms/step - loss: 0.5326 - accuracy: 0.5900\n",
            "Epoch 16/200\n",
            "2/2 [==============================] - 0s 5ms/step - loss: 0.5218 - accuracy: 0.6600\n",
            "Epoch 17/200\n",
            "2/2 [==============================] - 0s 5ms/step - loss: 0.5089 - accuracy: 0.6700\n",
            "Epoch 18/200\n",
            "2/2 [==============================] - 0s 6ms/step - loss: 0.4978 - accuracy: 0.6800\n",
            "Epoch 19/200\n",
            "2/2 [==============================] - 0s 5ms/step - loss: 0.4854 - accuracy: 0.6800\n",
            "Epoch 20/200\n",
            "2/2 [==============================] - 0s 5ms/step - loss: 0.4723 - accuracy: 0.7200\n",
            "Epoch 21/200\n",
            "2/2 [==============================] - 0s 6ms/step - loss: 0.4605 - accuracy: 0.7300\n",
            "Epoch 22/200\n",
            "2/2 [==============================] - 0s 6ms/step - loss: 0.4473 - accuracy: 0.7500\n",
            "Epoch 23/200\n",
            "2/2 [==============================] - 0s 5ms/step - loss: 0.4354 - accuracy: 0.7800\n",
            "Epoch 24/200\n",
            "2/2 [==============================] - 0s 5ms/step - loss: 0.4237 - accuracy: 0.7900\n",
            "Epoch 25/200\n",
            "2/2 [==============================] - 0s 5ms/step - loss: 0.4096 - accuracy: 0.8300\n",
            "Epoch 26/200\n",
            "2/2 [==============================] - 0s 6ms/step - loss: 0.3940 - accuracy: 0.8100\n",
            "Epoch 27/200\n",
            "2/2 [==============================] - 0s 6ms/step - loss: 0.3812 - accuracy: 0.7800\n",
            "Epoch 28/200\n",
            "2/2 [==============================] - 0s 5ms/step - loss: 0.3648 - accuracy: 0.8000\n",
            "Epoch 29/200\n",
            "2/2 [==============================] - 0s 5ms/step - loss: 0.3467 - accuracy: 0.8800\n",
            "Epoch 30/200\n",
            "2/2 [==============================] - 0s 6ms/step - loss: 0.3282 - accuracy: 0.9100\n",
            "Epoch 31/200\n",
            "2/2 [==============================] - 0s 5ms/step - loss: 0.3110 - accuracy: 0.9400\n",
            "Epoch 32/200\n",
            "2/2 [==============================] - 0s 7ms/step - loss: 0.2930 - accuracy: 0.9500\n",
            "Epoch 33/200\n",
            "2/2 [==============================] - 0s 6ms/step - loss: 0.2741 - accuracy: 0.9700\n",
            "Epoch 34/200\n",
            "2/2 [==============================] - 0s 5ms/step - loss: 0.2563 - accuracy: 0.9900\n",
            "Epoch 35/200\n",
            "2/2 [==============================] - 0s 6ms/step - loss: 0.2407 - accuracy: 0.9900\n",
            "Epoch 36/200\n",
            "2/2 [==============================] - 0s 4ms/step - loss: 0.2248 - accuracy: 1.0000\n",
            "Epoch 37/200\n",
            "2/2 [==============================] - 0s 6ms/step - loss: 0.2083 - accuracy: 1.0000\n",
            "Epoch 38/200\n",
            "2/2 [==============================] - 0s 5ms/step - loss: 0.1931 - accuracy: 1.0000\n",
            "Epoch 39/200\n",
            "2/2 [==============================] - 0s 3ms/step - loss: 0.1793 - accuracy: 1.0000\n",
            "Epoch 40/200\n",
            "2/2 [==============================] - 0s 4ms/step - loss: 0.1654 - accuracy: 1.0000\n",
            "Epoch 41/200\n",
            "2/2 [==============================] - 0s 6ms/step - loss: 0.1518 - accuracy: 1.0000\n",
            "Epoch 42/200\n",
            "2/2 [==============================] - 0s 5ms/step - loss: 0.1403 - accuracy: 1.0000\n",
            "Epoch 43/200\n",
            "2/2 [==============================] - 0s 5ms/step - loss: 0.1306 - accuracy: 1.0000\n",
            "Epoch 44/200\n",
            "2/2 [==============================] - 0s 5ms/step - loss: 0.1211 - accuracy: 1.0000\n",
            "Epoch 45/200\n",
            "2/2 [==============================] - 0s 7ms/step - loss: 0.1127 - accuracy: 1.0000\n",
            "Epoch 46/200\n",
            "2/2 [==============================] - 0s 8ms/step - loss: 0.1055 - accuracy: 1.0000\n",
            "Epoch 47/200\n",
            "2/2 [==============================] - 0s 8ms/step - loss: 0.0989 - accuracy: 1.0000\n",
            "Epoch 48/200\n",
            "2/2 [==============================] - 0s 4ms/step - loss: 0.0927 - accuracy: 1.0000\n",
            "Epoch 49/200\n",
            "2/2 [==============================] - 0s 5ms/step - loss: 0.0876 - accuracy: 1.0000\n",
            "Epoch 50/200\n",
            "2/2 [==============================] - 0s 5ms/step - loss: 0.0832 - accuracy: 1.0000\n",
            "Epoch 51/200\n",
            "2/2 [==============================] - 0s 4ms/step - loss: 0.0778 - accuracy: 1.0000\n",
            "Epoch 52/200\n",
            "2/2 [==============================] - 0s 4ms/step - loss: 0.0737 - accuracy: 1.0000\n",
            "Epoch 53/200\n",
            "2/2 [==============================] - 0s 3ms/step - loss: 0.0701 - accuracy: 1.0000\n",
            "Epoch 54/200\n",
            "2/2 [==============================] - 0s 5ms/step - loss: 0.0666 - accuracy: 1.0000\n",
            "Epoch 55/200\n",
            "2/2 [==============================] - 0s 5ms/step - loss: 0.0634 - accuracy: 1.0000\n",
            "Epoch 56/200\n",
            "2/2 [==============================] - 0s 5ms/step - loss: 0.0605 - accuracy: 1.0000\n",
            "Epoch 57/200\n",
            "2/2 [==============================] - 0s 6ms/step - loss: 0.0580 - accuracy: 1.0000\n",
            "Epoch 58/200\n",
            "2/2 [==============================] - 0s 6ms/step - loss: 0.0555 - accuracy: 1.0000\n",
            "Epoch 59/200\n",
            "2/2 [==============================] - 0s 6ms/step - loss: 0.0531 - accuracy: 1.0000\n",
            "Epoch 60/200\n",
            "2/2 [==============================] - 0s 7ms/step - loss: 0.0512 - accuracy: 1.0000\n",
            "Epoch 61/200\n",
            "2/2 [==============================] - 0s 4ms/step - loss: 0.0492 - accuracy: 1.0000\n",
            "Epoch 62/200\n",
            "2/2 [==============================] - 0s 6ms/step - loss: 0.0473 - accuracy: 1.0000\n",
            "Epoch 63/200\n",
            "2/2 [==============================] - 0s 7ms/step - loss: 0.0454 - accuracy: 1.0000\n",
            "Epoch 64/200\n",
            "2/2 [==============================] - 0s 6ms/step - loss: 0.0439 - accuracy: 1.0000\n",
            "Epoch 65/200\n",
            "2/2 [==============================] - 0s 5ms/step - loss: 0.0424 - accuracy: 1.0000\n",
            "Epoch 66/200\n",
            "2/2 [==============================] - 0s 5ms/step - loss: 0.0409 - accuracy: 1.0000\n",
            "Epoch 67/200\n",
            "2/2 [==============================] - 0s 5ms/step - loss: 0.0395 - accuracy: 1.0000\n",
            "Epoch 68/200\n",
            "2/2 [==============================] - 0s 6ms/step - loss: 0.0382 - accuracy: 1.0000\n",
            "Epoch 69/200\n",
            "2/2 [==============================] - 0s 4ms/step - loss: 0.0370 - accuracy: 1.0000\n",
            "Epoch 70/200\n",
            "2/2 [==============================] - 0s 5ms/step - loss: 0.0359 - accuracy: 1.0000\n",
            "Epoch 71/200\n",
            "2/2 [==============================] - 0s 4ms/step - loss: 0.0347 - accuracy: 1.0000\n",
            "Epoch 72/200\n",
            "2/2 [==============================] - 0s 6ms/step - loss: 0.0338 - accuracy: 1.0000\n",
            "Epoch 73/200\n",
            "2/2 [==============================] - 0s 6ms/step - loss: 0.0327 - accuracy: 1.0000\n",
            "Epoch 74/200\n",
            "2/2 [==============================] - 0s 3ms/step - loss: 0.0317 - accuracy: 1.0000\n",
            "Epoch 75/200\n",
            "2/2 [==============================] - 0s 4ms/step - loss: 0.0308 - accuracy: 1.0000\n",
            "Epoch 76/200\n",
            "2/2 [==============================] - 0s 7ms/step - loss: 0.0299 - accuracy: 1.0000\n",
            "Epoch 77/200\n",
            "2/2 [==============================] - 0s 4ms/step - loss: 0.0292 - accuracy: 1.0000\n",
            "Epoch 78/200\n",
            "2/2 [==============================] - 0s 4ms/step - loss: 0.0283 - accuracy: 1.0000\n",
            "Epoch 79/200\n",
            "2/2 [==============================] - 0s 7ms/step - loss: 0.0277 - accuracy: 1.0000\n",
            "Epoch 80/200\n",
            "2/2 [==============================] - 0s 5ms/step - loss: 0.0270 - accuracy: 1.0000\n",
            "Epoch 81/200\n",
            "2/2 [==============================] - 0s 4ms/step - loss: 0.0263 - accuracy: 1.0000\n",
            "Epoch 82/200\n",
            "2/2 [==============================] - 0s 4ms/step - loss: 0.0255 - accuracy: 1.0000\n",
            "Epoch 83/200\n",
            "2/2 [==============================] - 0s 4ms/step - loss: 0.0250 - accuracy: 1.0000\n",
            "Epoch 84/200\n",
            "2/2 [==============================] - 0s 4ms/step - loss: 0.0245 - accuracy: 1.0000\n",
            "Epoch 85/200\n",
            "2/2 [==============================] - 0s 4ms/step - loss: 0.0239 - accuracy: 1.0000\n",
            "Epoch 86/200\n",
            "2/2 [==============================] - 0s 4ms/step - loss: 0.0232 - accuracy: 1.0000\n",
            "Epoch 87/200\n",
            "2/2 [==============================] - 0s 4ms/step - loss: 0.0228 - accuracy: 1.0000\n",
            "Epoch 88/200\n",
            "2/2 [==============================] - 0s 4ms/step - loss: 0.0222 - accuracy: 1.0000\n",
            "Epoch 89/200\n",
            "2/2 [==============================] - 0s 4ms/step - loss: 0.0217 - accuracy: 1.0000\n",
            "Epoch 90/200\n",
            "2/2 [==============================] - 0s 4ms/step - loss: 0.0213 - accuracy: 1.0000\n",
            "Epoch 91/200\n",
            "2/2 [==============================] - 0s 5ms/step - loss: 0.0208 - accuracy: 1.0000\n",
            "Epoch 92/200\n",
            "2/2 [==============================] - 0s 4ms/step - loss: 0.0204 - accuracy: 1.0000\n",
            "Epoch 93/200\n",
            "2/2 [==============================] - 0s 9ms/step - loss: 0.0199 - accuracy: 1.0000\n",
            "Epoch 94/200\n",
            "2/2 [==============================] - 0s 6ms/step - loss: 0.0195 - accuracy: 1.0000\n",
            "Epoch 95/200\n",
            "2/2 [==============================] - 0s 6ms/step - loss: 0.0191 - accuracy: 1.0000\n",
            "Epoch 96/200\n",
            "2/2 [==============================] - 0s 4ms/step - loss: 0.0187 - accuracy: 1.0000\n",
            "Epoch 97/200\n",
            "2/2 [==============================] - 0s 4ms/step - loss: 0.0184 - accuracy: 1.0000\n",
            "Epoch 98/200\n",
            "2/2 [==============================] - 0s 4ms/step - loss: 0.0180 - accuracy: 1.0000\n",
            "Epoch 99/200\n",
            "2/2 [==============================] - 0s 4ms/step - loss: 0.0177 - accuracy: 1.0000\n",
            "Epoch 100/200\n",
            "2/2 [==============================] - 0s 4ms/step - loss: 0.0173 - accuracy: 1.0000\n",
            "Epoch 101/200\n",
            "2/2 [==============================] - 0s 4ms/step - loss: 0.0170 - accuracy: 1.0000\n",
            "Epoch 102/200\n",
            "2/2 [==============================] - 0s 4ms/step - loss: 0.0167 - accuracy: 1.0000\n",
            "Epoch 103/200\n",
            "2/2 [==============================] - 0s 4ms/step - loss: 0.0163 - accuracy: 1.0000\n",
            "Epoch 104/200\n",
            "2/2 [==============================] - 0s 4ms/step - loss: 0.0161 - accuracy: 1.0000\n",
            "Epoch 105/200\n",
            "2/2 [==============================] - 0s 4ms/step - loss: 0.0158 - accuracy: 1.0000\n",
            "Epoch 106/200\n",
            "2/2 [==============================] - 0s 4ms/step - loss: 0.0155 - accuracy: 1.0000\n",
            "Epoch 107/200\n",
            "2/2 [==============================] - 0s 4ms/step - loss: 0.0153 - accuracy: 1.0000\n",
            "Epoch 108/200\n",
            "2/2 [==============================] - 0s 6ms/step - loss: 0.0150 - accuracy: 1.0000\n",
            "Epoch 109/200\n",
            "2/2 [==============================] - 0s 5ms/step - loss: 0.0147 - accuracy: 1.0000\n",
            "Epoch 110/200\n",
            "2/2 [==============================] - 0s 12ms/step - loss: 0.0144 - accuracy: 1.0000\n",
            "Epoch 111/200\n",
            "2/2 [==============================] - 0s 4ms/step - loss: 0.0142 - accuracy: 1.0000\n",
            "Epoch 112/200\n",
            "2/2 [==============================] - 0s 5ms/step - loss: 0.0140 - accuracy: 1.0000\n",
            "Epoch 113/200\n",
            "2/2 [==============================] - 0s 4ms/step - loss: 0.0138 - accuracy: 1.0000\n",
            "Epoch 114/200\n",
            "2/2 [==============================] - 0s 5ms/step - loss: 0.0136 - accuracy: 1.0000\n",
            "Epoch 115/200\n",
            "2/2 [==============================] - 0s 11ms/step - loss: 0.0133 - accuracy: 1.0000\n",
            "Epoch 116/200\n",
            "2/2 [==============================] - 0s 6ms/step - loss: 0.0131 - accuracy: 1.0000\n",
            "Epoch 117/200\n",
            "2/2 [==============================] - 0s 5ms/step - loss: 0.0129 - accuracy: 1.0000\n",
            "Epoch 118/200\n",
            "2/2 [==============================] - 0s 4ms/step - loss: 0.0127 - accuracy: 1.0000\n",
            "Epoch 119/200\n",
            "2/2 [==============================] - 0s 4ms/step - loss: 0.0126 - accuracy: 1.0000\n",
            "Epoch 120/200\n",
            "2/2 [==============================] - 0s 4ms/step - loss: 0.0123 - accuracy: 1.0000\n",
            "Epoch 121/200\n",
            "2/2 [==============================] - 0s 9ms/step - loss: 0.0121 - accuracy: 1.0000\n",
            "Epoch 122/200\n",
            "2/2 [==============================] - 0s 4ms/step - loss: 0.0120 - accuracy: 1.0000\n",
            "Epoch 123/200\n",
            "2/2 [==============================] - 0s 4ms/step - loss: 0.0118 - accuracy: 1.0000\n",
            "Epoch 124/200\n",
            "2/2 [==============================] - 0s 4ms/step - loss: 0.0116 - accuracy: 1.0000\n",
            "Epoch 125/200\n",
            "2/2 [==============================] - 0s 4ms/step - loss: 0.0114 - accuracy: 1.0000\n",
            "Epoch 126/200\n",
            "2/2 [==============================] - 0s 4ms/step - loss: 0.0112 - accuracy: 1.0000\n",
            "Epoch 127/200\n",
            "2/2 [==============================] - 0s 4ms/step - loss: 0.0111 - accuracy: 1.0000\n",
            "Epoch 128/200\n",
            "2/2 [==============================] - 0s 4ms/step - loss: 0.0109 - accuracy: 1.0000\n",
            "Epoch 129/200\n",
            "2/2 [==============================] - 0s 6ms/step - loss: 0.0108 - accuracy: 1.0000\n",
            "Epoch 130/200\n",
            "2/2 [==============================] - 0s 4ms/step - loss: 0.0106 - accuracy: 1.0000\n",
            "Epoch 131/200\n",
            "2/2 [==============================] - 0s 4ms/step - loss: 0.0105 - accuracy: 1.0000\n",
            "Epoch 132/200\n",
            "2/2 [==============================] - 0s 4ms/step - loss: 0.0103 - accuracy: 1.0000\n",
            "Epoch 133/200\n",
            "2/2 [==============================] - 0s 4ms/step - loss: 0.0102 - accuracy: 1.0000\n",
            "Epoch 134/200\n",
            "2/2 [==============================] - 0s 4ms/step - loss: 0.0100 - accuracy: 1.0000\n",
            "Epoch 135/200\n",
            "2/2 [==============================] - 0s 5ms/step - loss: 0.0099 - accuracy: 1.0000\n",
            "Epoch 136/200\n",
            "2/2 [==============================] - 0s 9ms/step - loss: 0.0098 - accuracy: 1.0000\n",
            "Epoch 137/200\n",
            "2/2 [==============================] - 0s 5ms/step - loss: 0.0096 - accuracy: 1.0000\n",
            "Epoch 138/200\n",
            "2/2 [==============================] - 0s 13ms/step - loss: 0.0095 - accuracy: 1.0000\n",
            "Epoch 139/200\n",
            "2/2 [==============================] - 0s 4ms/step - loss: 0.0094 - accuracy: 1.0000\n",
            "Epoch 140/200\n",
            "2/2 [==============================] - 0s 5ms/step - loss: 0.0093 - accuracy: 1.0000\n",
            "Epoch 141/200\n",
            "2/2 [==============================] - 0s 15ms/step - loss: 0.0092 - accuracy: 1.0000\n",
            "Epoch 142/200\n",
            "2/2 [==============================] - 0s 4ms/step - loss: 0.0090 - accuracy: 1.0000\n",
            "Epoch 143/200\n",
            "2/2 [==============================] - 0s 5ms/step - loss: 0.0089 - accuracy: 1.0000\n",
            "Epoch 144/200\n",
            "2/2 [==============================] - 0s 14ms/step - loss: 0.0088 - accuracy: 1.0000\n",
            "Epoch 145/200\n",
            "2/2 [==============================] - 0s 5ms/step - loss: 0.0087 - accuracy: 1.0000\n",
            "Epoch 146/200\n",
            "2/2 [==============================] - 0s 5ms/step - loss: 0.0087 - accuracy: 1.0000\n",
            "Epoch 147/200\n",
            "2/2 [==============================] - 0s 12ms/step - loss: 0.0086 - accuracy: 1.0000\n",
            "Epoch 148/200\n",
            "2/2 [==============================] - 0s 5ms/step - loss: 0.0084 - accuracy: 1.0000\n",
            "Epoch 149/200\n",
            "2/2 [==============================] - 0s 5ms/step - loss: 0.0083 - accuracy: 1.0000\n",
            "Epoch 150/200\n",
            "2/2 [==============================] - 0s 12ms/step - loss: 0.0082 - accuracy: 1.0000\n",
            "Epoch 151/200\n",
            "2/2 [==============================] - 0s 5ms/step - loss: 0.0081 - accuracy: 1.0000\n",
            "Epoch 152/200\n",
            "2/2 [==============================] - 0s 5ms/step - loss: 0.0080 - accuracy: 1.0000\n",
            "Epoch 153/200\n",
            "2/2 [==============================] - 0s 13ms/step - loss: 0.0079 - accuracy: 1.0000\n",
            "Epoch 154/200\n",
            "2/2 [==============================] - 0s 5ms/step - loss: 0.0078 - accuracy: 1.0000\n",
            "Epoch 155/200\n",
            "2/2 [==============================] - 0s 5ms/step - loss: 0.0077 - accuracy: 1.0000\n",
            "Epoch 156/200\n",
            "2/2 [==============================] - 0s 4ms/step - loss: 0.0076 - accuracy: 1.0000\n",
            "Epoch 157/200\n",
            "2/2 [==============================] - 0s 4ms/step - loss: 0.0076 - accuracy: 1.0000\n",
            "Epoch 158/200\n",
            "2/2 [==============================] - 0s 9ms/step - loss: 0.0075 - accuracy: 1.0000\n",
            "Epoch 159/200\n",
            "2/2 [==============================] - 0s 5ms/step - loss: 0.0074 - accuracy: 1.0000\n",
            "Epoch 160/200\n",
            "2/2 [==============================] - 0s 5ms/step - loss: 0.0073 - accuracy: 1.0000\n",
            "Epoch 161/200\n",
            "2/2 [==============================] - 0s 4ms/step - loss: 0.0072 - accuracy: 1.0000\n",
            "Epoch 162/200\n",
            "2/2 [==============================] - 0s 5ms/step - loss: 0.0072 - accuracy: 1.0000\n",
            "Epoch 163/200\n",
            "2/2 [==============================] - 0s 5ms/step - loss: 0.0071 - accuracy: 1.0000\n",
            "Epoch 164/200\n",
            "2/2 [==============================] - 0s 5ms/step - loss: 0.0070 - accuracy: 1.0000\n",
            "Epoch 165/200\n",
            "2/2 [==============================] - 0s 5ms/step - loss: 0.0069 - accuracy: 1.0000\n",
            "Epoch 166/200\n",
            "2/2 [==============================] - 0s 5ms/step - loss: 0.0068 - accuracy: 1.0000\n",
            "Epoch 167/200\n",
            "2/2 [==============================] - 0s 8ms/step - loss: 0.0068 - accuracy: 1.0000\n",
            "Epoch 168/200\n",
            "2/2 [==============================] - 0s 5ms/step - loss: 0.0067 - accuracy: 1.0000\n",
            "Epoch 169/200\n",
            "2/2 [==============================] - 0s 5ms/step - loss: 0.0066 - accuracy: 1.0000\n",
            "Epoch 170/200\n",
            "2/2 [==============================] - 0s 5ms/step - loss: 0.0066 - accuracy: 1.0000\n",
            "Epoch 171/200\n",
            "2/2 [==============================] - 0s 5ms/step - loss: 0.0065 - accuracy: 1.0000\n",
            "Epoch 172/200\n",
            "2/2 [==============================] - 0s 5ms/step - loss: 0.0064 - accuracy: 1.0000\n",
            "Epoch 173/200\n",
            "2/2 [==============================] - 0s 5ms/step - loss: 0.0064 - accuracy: 1.0000\n",
            "Epoch 174/200\n",
            "2/2 [==============================] - 0s 5ms/step - loss: 0.0063 - accuracy: 1.0000\n",
            "Epoch 175/200\n",
            "2/2 [==============================] - 0s 5ms/step - loss: 0.0062 - accuracy: 1.0000\n",
            "Epoch 176/200\n",
            "2/2 [==============================] - 0s 5ms/step - loss: 0.0062 - accuracy: 1.0000\n",
            "Epoch 177/200\n",
            "2/2 [==============================] - 0s 12ms/step - loss: 0.0061 - accuracy: 1.0000\n",
            "Epoch 178/200\n",
            "2/2 [==============================] - 0s 5ms/step - loss: 0.0060 - accuracy: 1.0000\n",
            "Epoch 179/200\n",
            "2/2 [==============================] - 0s 6ms/step - loss: 0.0060 - accuracy: 1.0000\n",
            "Epoch 180/200\n",
            "2/2 [==============================] - 0s 14ms/step - loss: 0.0059 - accuracy: 1.0000\n",
            "Epoch 181/200\n",
            "2/2 [==============================] - 0s 6ms/step - loss: 0.0059 - accuracy: 1.0000\n",
            "Epoch 182/200\n",
            "2/2 [==============================] - 0s 5ms/step - loss: 0.0058 - accuracy: 1.0000\n",
            "Epoch 183/200\n",
            "2/2 [==============================] - 0s 9ms/step - loss: 0.0058 - accuracy: 1.0000\n",
            "Epoch 184/200\n",
            "2/2 [==============================] - 0s 4ms/step - loss: 0.0057 - accuracy: 1.0000\n",
            "Epoch 185/200\n",
            "2/2 [==============================] - 0s 4ms/step - loss: 0.0057 - accuracy: 1.0000\n",
            "Epoch 186/200\n",
            "2/2 [==============================] - 0s 4ms/step - loss: 0.0056 - accuracy: 1.0000\n",
            "Epoch 187/200\n",
            "2/2 [==============================] - 0s 5ms/step - loss: 0.0055 - accuracy: 1.0000\n",
            "Epoch 188/200\n",
            "2/2 [==============================] - 0s 4ms/step - loss: 0.0055 - accuracy: 1.0000\n",
            "Epoch 189/200\n",
            "2/2 [==============================] - 0s 5ms/step - loss: 0.0054 - accuracy: 1.0000\n",
            "Epoch 190/200\n",
            "2/2 [==============================] - 0s 8ms/step - loss: 0.0054 - accuracy: 1.0000\n",
            "Epoch 191/200\n",
            "2/2 [==============================] - 0s 4ms/step - loss: 0.0053 - accuracy: 1.0000\n",
            "Epoch 192/200\n",
            "2/2 [==============================] - 0s 4ms/step - loss: 0.0053 - accuracy: 1.0000\n",
            "Epoch 193/200\n",
            "2/2 [==============================] - 0s 5ms/step - loss: 0.0052 - accuracy: 1.0000\n",
            "Epoch 194/200\n",
            "2/2 [==============================] - 0s 5ms/step - loss: 0.0052 - accuracy: 1.0000\n",
            "Epoch 195/200\n",
            "2/2 [==============================] - 0s 5ms/step - loss: 0.0051 - accuracy: 1.0000\n",
            "Epoch 196/200\n",
            "2/2 [==============================] - 0s 4ms/step - loss: 0.0051 - accuracy: 1.0000\n",
            "Epoch 197/200\n",
            "2/2 [==============================] - 0s 9ms/step - loss: 0.0050 - accuracy: 1.0000\n",
            "Epoch 198/200\n",
            "2/2 [==============================] - 0s 5ms/step - loss: 0.0050 - accuracy: 1.0000\n",
            "Epoch 199/200\n",
            "2/2 [==============================] - 0s 9ms/step - loss: 0.0050 - accuracy: 1.0000\n",
            "Epoch 200/200\n",
            "2/2 [==============================] - 0s 4ms/step - loss: 0.0049 - accuracy: 1.0000\n"
          ]
        }
      ]
    },
    {
      "cell_type": "code",
      "source": [
        "accuracy = eval_model(model, X, y)\n",
        "if model.count_params() < 18 and accuracy == 1.0:\n",
        "    print(\"Bonus points!\")\n",
        "else:\n",
        "    print(f\"Model has {model.count_params()} parameters\")\n",
        "\n",
        "show_descision_boundary(limits=None, clf=model, binary=False,\n",
        "                                X=X,\n",
        "                                y=y, \n",
        "                                n_lines=50,\n",
        "                                show_lines=False)"
      ],
      "metadata": {
        "colab": {
          "base_uri": "https://localhost:8080/",
          "height": 371
        },
        "id": "jLHUSxUe8-OY",
        "outputId": "0f8db22d-9668-43ea-df3d-8349710eb42e"
      },
      "execution_count": 88,
      "outputs": [
        {
          "output_type": "stream",
          "name": "stdout",
          "text": [
            "4/4 [==============================] - 0s 3ms/step - loss: 0.0049 - accuracy: 1.0000\n",
            "Perfect!\n",
            "Bonus points!\n"
          ]
        },
        {
          "output_type": "display_data",
          "data": {
            "text/plain": [
              "<Figure size 360x360 with 1 Axes>"
            ],
            "image/png": "[encoded data removed]"
          },
          "metadata": {
            "needs_background": "light"
          }
        }
      ]
    },
    {
      "cell_type": "code",
      "source": [
        "history_df_4 = pd.DataFrame(history.history)\n",
        "plt.plot(history_df_4.loss)"
      ],
      "metadata": {
        "colab": {
          "base_uri": "https://localhost:8080/",
          "height": 282
        },
        "id": "R3qWv2d8-uMq",
        "outputId": "2bf73c02-4222-446e-a20f-45970105acd8"
      },
      "execution_count": 90,
      "outputs": [
        {
          "output_type": "execute_result",
          "data": {
            "text/plain": [
              "[<matplotlib.lines.Line2D at 0x7f9c0a0f9430>]"
            ]
          },
          "metadata": {},
          "execution_count": 90
        },
        {
          "output_type": "display_data",
          "data": {
            "text/plain": [
              "<Figure size 432x288 with 1 Axes>"
            ],
            "image/png": "[encoded data removed]"
          },
          "metadata": {
            "needs_background": "light"
          }
        }
      ]
    }
  ]
}