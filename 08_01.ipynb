{
  "nbformat": 4,
  "nbformat_minor": 0,
  "metadata": {
    "colab": {
      "provenance": [],
      "mount_file_id": "1Q5j64XvpTkHmUl5duSn2QQXB0j8aUTvL",
      "authorship_tag": "ABX9TyP+A1ktj2Tbqz7YMRKD4dzX",
      "include_colab_link": true
    },
    "kernelspec": {
      "name": "python3",
      "display_name": "Python 3"
    },
    "language_info": {
      "name": "python"
    }
  },
  "cells": [
    {
      "cell_type": "markdown",
      "metadata": {
        "id": "view-in-github",
        "colab_type": "text"
      },
      "source": [
        "<a href=\"https://colab.research.google.com/github/MagicMoleMM/ML/blob/main/08_01.ipynb\" target=\"_parent\"><img src=\"https://colab.research.google.com/assets/colab-badge.svg\" alt=\"Open In Colab\"/></a>"
      ]
    },
    {
      "cell_type": "code",
      "execution_count": 1,
      "metadata": {
        "colab": {
          "base_uri": "https://localhost:8080/",
          "height": 323
        },
        "id": "v3AjoLfLoKyF",
        "outputId": "fa273a3e-b883-43fb-b5b2-977a0a58926f"
      },
      "outputs": [
        {
          "output_type": "stream",
          "name": "stdout",
          "text": [
            "(50, 2)\n"
          ]
        },
        {
          "output_type": "execute_result",
          "data": {
            "text/plain": [
              "(-3.5, 7.5, -3.938853130834508, 12.036033868111778)"
            ]
          },
          "metadata": {},
          "execution_count": 1
        },
        {
          "output_type": "display_data",
          "data": {
            "text/plain": [
              "<Figure size 432x288 with 1 Axes>"
            ],
            "image/png": "[encoded data removed]"
          },
          "metadata": {
            "needs_background": "light"
          }
        }
      ],
      "source": [
        "import numpy as np\n",
        "import  pickle\n",
        "from matplotlib import pyplot as plt\n",
        "%matplotlib inline \n",
        "\n",
        "with open('/content/drive/MyDrive/Colab Notebooks/Файлы для обучения/eigen.pkl','rb') as f:\n",
        "  X = pickle.load(f)\n",
        "\n",
        "print(X.shape)\n",
        "plt.plot(X[:,0], X[:,1], 'x')\n",
        "plt.axis('equal')"
      ]
    },
    {
      "cell_type": "code",
      "source": [
        "from sklearn.decomposition import PCA\n",
        "\n",
        "pca = PCA(n_components=1).fit(X)\n",
        "X_pca = pca.transform(X)\n",
        "X_pca[:10]"
      ],
      "metadata": {
        "colab": {
          "base_uri": "https://localhost:8080/"
        },
        "id": "mrNdvzz_b_0M",
        "outputId": "66da931b-7182-4a61-d664-6ca7f4475e23"
      },
      "execution_count": null,
      "outputs": [
        {
          "output_type": "execute_result",
          "data": {
            "text/plain": [
              "array([[5.28331909],\n",
              "       [3.84284422],\n",
              "       [5.88859559],\n",
              "       [8.07409089],\n",
              "       [4.16799935],\n",
              "       [3.8592636 ],\n",
              "       [4.17040423],\n",
              "       [3.86884344],\n",
              "       [5.65483844],\n",
              "       [3.16278418]])"
            ]
          },
          "metadata": {},
          "execution_count": 3
        }
      ]
    },
    {
      "cell_type": "code",
      "source": [
        "X_new = pca.inverse_transform(X_pca)\n",
        "\n",
        "plt.figure()\n",
        "plt.subplot(211)\n",
        "plt.plot(X_new[:,0],X_new[:,1], 'x')\n",
        "plt.subplot(212)\n",
        "plt.plot(X[:,0],X[:,1], 'o')"
      ],
      "metadata": {
        "colab": {
          "base_uri": "https://localhost:8080/",
          "height": 302
        },
        "id": "KctRkwwbcqGP",
        "outputId": "ae722c2c-043e-4723-cc66-af1c25daf517"
      },
      "execution_count": null,
      "outputs": [
        {
          "output_type": "execute_result",
          "data": {
            "text/plain": [
              "[<matplotlib.lines.Line2D at 0x7f19d5439b20>]"
            ]
          },
          "metadata": {},
          "execution_count": 9
        },
        {
          "output_type": "display_data",
          "data": {
            "text/plain": [
              "<Figure size 432x288 with 2 Axes>"
            ],
            "image/png": "[encoded data removed]"
          },
          "metadata": {
            "needs_background": "light"
          }
        }
      ]
    },
    {
      "cell_type": "code",
      "source": [
        "mean_val = X.mean(axis=0)\n",
        "N = X.shape[0]\n",
        "X_centered = X.copy() - mean_val\n",
        "X_centered [:10]"
      ],
      "metadata": {
        "colab": {
          "base_uri": "https://localhost:8080/"
        },
        "id": "-C0bUNQ-gWSu",
        "outputId": "e96f5a28-3b41-43dd-901e-5707abc63537"
      },
      "execution_count": null,
      "outputs": [
        {
          "output_type": "execute_result",
          "data": {
            "text/plain": [
              "array([[-5.        , -2.57641926],\n",
              "       [-4.79591837, -0.80537034],\n",
              "       [-4.59183673, -3.77593421],\n",
              "       [-4.3877551 , -6.93656366],\n",
              "       [-4.18367347, -1.81203199],\n",
              "       [-3.97959184, -1.58026031],\n",
              "       [-3.7755102 , -2.19158187],\n",
              "       [-3.57142857, -1.96956883],\n",
              "       [-3.36734694, -4.58683833],\n",
              "       [-3.16326531, -1.38553735]])"
            ]
          },
          "metadata": {},
          "execution_count": 17
        }
      ]
    },
    {
      "cell_type": "code",
      "source": [
        "X_cov = X_centered.T.dot(\n",
        "    X_centered\n",
        ") / (N-1)\n",
        "\n",
        "print(f'Ковариционная матрица: \\n {X_cov}')"
      ],
      "metadata": {
        "colab": {
          "base_uri": "https://localhost:8080/"
        },
        "id": "hSIgFYlYinWq",
        "outputId": "e9d5cea5-10a1-4f06-a9fb-dd8497b97e80"
      },
      "execution_count": null,
      "outputs": [
        {
          "output_type": "stream",
          "name": "stdout",
          "text": [
            "Ковариционная матрица: \n",
            " [[8.85047897 6.81117445]\n",
            " [6.81117445 9.95969352]]\n"
          ]
        }
      ]
    },
    {
      "cell_type": "code",
      "source": [
        "np.cov(X_centered, rowvar=0)\n"
      ],
      "metadata": {
        "colab": {
          "base_uri": "https://localhost:8080/"
        },
        "id": "RvkcdY0PlMoZ",
        "outputId": "151a403a-9572-4f87-d9ee-1a6aba916aa8"
      },
      "execution_count": null,
      "outputs": [
        {
          "output_type": "execute_result",
          "data": {
            "text/plain": [
              "array([[8.85047897, 6.81117445],\n",
              "       [6.81117445, 9.95969352]])"
            ]
          },
          "metadata": {},
          "execution_count": 21
        }
      ]
    },
    {
      "cell_type": "code",
      "source": [
        "from numpy import linalg\n",
        "\n",
        "eigenvalues, eigenvectors = linalg.eig(X_cov)\n",
        "eigenvectors.T"
      ],
      "metadata": {
        "colab": {
          "base_uri": "https://localhost:8080/"
        },
        "id": "E8IkXe-oloTy",
        "outputId": "659607ae-4a9b-470b-a635-f8991ca5a0e0"
      },
      "execution_count": null,
      "outputs": [
        {
          "output_type": "execute_result",
          "data": {
            "text/plain": [
              "array([[-0.7352406 ,  0.67780621],\n",
              "       [-0.67780621, -0.7352406 ]])"
            ]
          },
          "metadata": {},
          "execution_count": 63
        }
      ]
    },
    {
      "cell_type": "code",
      "source": [
        "origin = np.array(X_centered.mean(axis=0)) #начало координат\n",
        "print(*eigenvectors.T[:,0])\n",
        "\n",
        "plt.quiver(*origin, *eigenvectors.T[:,0], color=['r'], scale=eigenvalues[0])\n",
        "plt.quiver(*origin, *eigenvectors.T[:,1], color=['g'], scale=eigenvalues[1])\n",
        "plt.plot(X_centered[:,0],X_centered[:,1], 'x')"
      ],
      "metadata": {
        "colab": {
          "base_uri": "https://localhost:8080/",
          "height": 319
        },
        "id": "8O9aeBKvmagO",
        "outputId": "8f52e3b1-d75c-495b-f01d-90f2046221c1"
      },
      "execution_count": null,
      "outputs": [
        {
          "output_type": "stream",
          "name": "stdout",
          "text": [
            "-0.7352406017908735 -0.6778062093830318\n"
          ]
        },
        {
          "output_type": "execute_result",
          "data": {
            "text/plain": [
              "[<matplotlib.lines.Line2D at 0x7f19d4cbe130>]"
            ]
          },
          "metadata": {},
          "execution_count": 86
        },
        {
          "output_type": "display_data",
          "data": {
            "text/plain": [
              "<Figure size 432x288 with 1 Axes>"
            ],
            "image/png": "[encoded data removed]"
          },
          "metadata": {
            "needs_background": "light"
          }
        }
      ]
    },
    {
      "cell_type": "code",
      "source": [
        "max_eigenval = np.argmax(eigenvalues)\n",
        "max_eigenvector = eigenvectors[:,max_eigenval].reshape(-1,1)\n",
        "\n",
        "X_redused = X.dot(max_eigenvector)\n",
        "\n",
        "plt.plot(X_redused,np.zeros(N), 'x')"
      ],
      "metadata": {
        "colab": {
          "base_uri": "https://localhost:8080/",
          "height": 302
        },
        "id": "Hru67WC1_Rv3",
        "outputId": "1a266346-1343-4d63-aea2-d88a8d01f858"
      },
      "execution_count": null,
      "outputs": [
        {
          "output_type": "execute_result",
          "data": {
            "text/plain": [
              "[<matplotlib.lines.Line2D at 0x7f19d4ce10a0>]"
            ]
          },
          "metadata": {},
          "execution_count": 89
        },
        {
          "output_type": "display_data",
          "data": {
            "text/plain": [
              "<Figure size 432x288 with 1 Axes>"
            ],
            "image/png": "[encoded data removed]"
          },
          "metadata": {
            "needs_background": "light"
          }
        }
      ]
    },
    {
      "cell_type": "code",
      "source": [
        "X_inverse = X_redused.dot(max_eigenvector.reshape(1,-1))\n",
        "plt.plot(X_inverse[:,0],X_inverse[:,1], 'o')"
      ],
      "metadata": {
        "colab": {
          "base_uri": "https://localhost:8080/",
          "height": 302
        },
        "id": "XoO-oZm0ca7R",
        "outputId": "a4fb093a-26ab-4835-bb2e-9cf41f96dd95"
      },
      "execution_count": null,
      "outputs": [
        {
          "output_type": "execute_result",
          "data": {
            "text/plain": [
              "[<matplotlib.lines.Line2D at 0x7f19d2146c40>]"
            ]
          },
          "metadata": {},
          "execution_count": 90
        },
        {
          "output_type": "display_data",
          "data": {
            "text/plain": [
              "<Figure size 432x288 with 1 Axes>"
            ],
            "image/png": "[encoded data removed]"
          },
          "metadata": {
            "needs_background": "light"
          }
        }
      ]
    },
    {
      "cell_type": "code",
      "source": [
        "from sklearn.decomposition import TruncatedSVD\n"
      ],
      "metadata": {
        "id": "WcoZ9n77J9zi"
      },
      "execution_count": 2,
      "outputs": []
    },
    {
      "cell_type": "code",
      "source": [
        "svd_model = TruncatedSVD(n_components=1).fit(X)\n",
        "svd_model"
      ],
      "metadata": {
        "colab": {
          "base_uri": "https://localhost:8080/"
        },
        "id": "IpOsX6v0KOwv",
        "outputId": "5fb37773-4a68-4a47-99ea-03abe6286d25"
      },
      "execution_count": 3,
      "outputs": [
        {
          "output_type": "execute_result",
          "data": {
            "text/plain": [
              "TruncatedSVD(n_components=1)"
            ]
          },
          "metadata": {},
          "execution_count": 3
        }
      ]
    },
    {
      "cell_type": "code",
      "source": [
        "from scipy.sparse.linalg.isolve.iterative import set_docstring\n",
        "X_svd = svd_model.transform(X)\n",
        "X_svd"
      ],
      "metadata": {
        "colab": {
          "base_uri": "https://localhost:8080/"
        },
        "id": "idcXelzsKcsJ",
        "outputId": "e3554ccc-a693-4e9d-daee-a59cb1c45f34"
      },
      "execution_count": 6,
      "outputs": [
        {
          "output_type": "execute_result",
          "data": {
            "text/plain": [
              "array([[-0.74822365],\n",
              "       [ 0.82837175],\n",
              "       [-1.50733603],\n",
              "       [-3.99986685],\n",
              "       [ 0.34368607],\n",
              "       [ 0.65022432],\n",
              "       [ 0.26112661],\n",
              "       [ 0.559613  ],\n",
              "       [-1.4845917 ],\n",
              "       [ 1.27210421],\n",
              "       [-0.58533609],\n",
              "       [ 3.31221931],\n",
              "       [ 0.89428692],\n",
              "       [ 2.0833943 ],\n",
              "       [-1.81118765],\n",
              "       [ 0.1667028 ],\n",
              "       [ 1.8128714 ],\n",
              "       [ 2.43899196],\n",
              "       [-0.9459678 ],\n",
              "       [-0.09017116],\n",
              "       [ 4.39036199],\n",
              "       [ 4.58532014],\n",
              "       [ 1.96888806],\n",
              "       [ 1.41928926],\n",
              "       [ 4.53679783],\n",
              "       [ 4.21355894],\n",
              "       [ 7.8479204 ],\n",
              "       [ 4.40827436],\n",
              "       [ 5.47017639],\n",
              "       [ 6.84469558],\n",
              "       [ 2.82199488],\n",
              "       [11.21124418],\n",
              "       [ 4.14481079],\n",
              "       [ 9.01117461],\n",
              "       [ 8.23198661],\n",
              "       [ 7.58155599],\n",
              "       [ 6.74589409],\n",
              "       [ 9.07884956],\n",
              "       [ 7.90853244],\n",
              "       [ 7.72794792],\n",
              "       [ 6.83433857],\n",
              "       [ 8.13666751],\n",
              "       [ 8.83612771],\n",
              "       [ 7.0353363 ],\n",
              "       [ 8.58646031],\n",
              "       [ 9.46484493],\n",
              "       [10.66303276],\n",
              "       [ 9.40637748],\n",
              "       [ 9.38825663],\n",
              "       [ 8.17412221]])"
            ]
          },
          "metadata": {},
          "execution_count": 6
        }
      ]
    },
    {
      "cell_type": "code",
      "source": [
        "X_svd_restored = svd_model.inverse_transform(X_svd)\n",
        "\n",
        "plt.plot(X_svd_restored[:,0],X_svd_restored[:,1], 'x')"
      ],
      "metadata": {
        "colab": {
          "base_uri": "https://localhost:8080/",
          "height": 302
        },
        "id": "hIo44xhuKtq7",
        "outputId": "e0eb6d42-8492-4c9c-ada4-04a596240b1a"
      },
      "execution_count": 8,
      "outputs": [
        {
          "output_type": "execute_result",
          "data": {
            "text/plain": [
              "[<matplotlib.lines.Line2D at 0x7fa1cd01c940>]"
            ]
          },
          "metadata": {},
          "execution_count": 8
        },
        {
          "output_type": "display_data",
          "data": {
            "text/plain": [
              "<Figure size 432x288 with 1 Axes>"
            ],
            "image/png": "[encoded data removed]"
          },
          "metadata": {
            "needs_background": "light"
          }
        }
      ]
    },
    {
      "cell_type": "code",
      "source": [
        "import pandas as pd\n",
        "\n",
        "df_source = pd.read_csv('/content/drive/MyDrive/Colab Notebooks/Файлы для обучения/client_segmentation.csv')\n",
        "X = df_source[['call_diff','sms_diff','traffic_diff']].values\n",
        "y = df_source.customes_class.values\n",
        "y"
      ],
      "metadata": {
        "colab": {
          "base_uri": "https://localhost:8080/"
        },
        "id": "cRcIlBpYIfDu",
        "outputId": "6b83da1d-c4f0-45d4-dce1-537767e858fd"
      },
      "execution_count": 8,
      "outputs": [
        {
          "output_type": "execute_result",
          "data": {
            "text/plain": [
              "array([0., 2., 0., 1., 2., 0., 1., 2., 2., 0., 2., 1., 0., 1., 0., 2., 1.,\n",
              "       1., 2., 1., 0., 0., 2., 1., 1., 1., 2., 2., 2., 2., 2., 1., 1., 0.,\n",
              "       2., 1., 1., 1., 1., 2., 2., 1., 0., 0., 2., 0., 0., 0., 2., 1., 0.,\n",
              "       0., 0., 0., 0., 2., 0., 2., 0., 0., 1., 0., 2., 0., 1., 2., 1., 2.,\n",
              "       0., 2., 0., 0., 1., 2., 0., 0., 2., 1., 1., 1., 1., 2., 1., 1., 2.,\n",
              "       1., 0., 2., 1., 2., 2., 0., 1., 2., 0., 1., 2., 0., 1., 0.])"
            ]
          },
          "metadata": {},
          "execution_count": 8
        }
      ]
    },
    {
      "cell_type": "code",
      "source": [
        "from sklearn.manifold import TSNE\n",
        "\n",
        "tsne_transformer = TSNE(n_components=2)\n",
        "\n",
        "x_tsne = tsne_transformer.fit_transform(X)\n",
        "x_tsne[:10]"
      ],
      "metadata": {
        "colab": {
          "base_uri": "https://localhost:8080/"
        },
        "id": "_Y48RrwdJNK2",
        "outputId": "944e4332-c75b-4977-d04c-53c1ffafcbc0"
      },
      "execution_count": 10,
      "outputs": [
        {
          "output_type": "stream",
          "name": "stderr",
          "text": [
            "/usr/local/lib/python3.8/dist-packages/sklearn/manifold/_t_sne.py:780: FutureWarning: The default initialization in TSNE will change from 'random' to 'pca' in 1.2.\n",
            "  warnings.warn(\n",
            "/usr/local/lib/python3.8/dist-packages/sklearn/manifold/_t_sne.py:790: FutureWarning: The default learning rate in TSNE will change from 200.0 to 'auto' in 1.2.\n",
            "  warnings.warn(\n"
          ]
        },
        {
          "output_type": "execute_result",
          "data": {
            "text/plain": [
              "array([[-0.07218028, -0.16752113],\n",
              "       [-3.0143614 , -4.4278584 ],\n",
              "       [ 0.73424894,  1.5856559 ],\n",
              "       [ 6.480952  ,  0.8723119 ],\n",
              "       [-2.1301215 , -5.782043  ],\n",
              "       [ 2.5945203 ,  1.5120298 ],\n",
              "       [ 5.9385176 , -0.01076613],\n",
              "       [-1.8656514 , -4.6587625 ],\n",
              "       [-2.5545692 , -5.2344    ],\n",
              "       [ 1.6721756 ,  4.2013035 ]], dtype=float32)"
            ]
          },
          "metadata": {},
          "execution_count": 10
        }
      ]
    },
    {
      "cell_type": "code",
      "source": [],
      "metadata": {
        "id": "hqGGJR8EK9Z-"
      },
      "execution_count": null,
      "outputs": []
    }
  ]
}